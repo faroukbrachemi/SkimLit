{
  "cells": [
    {
      "cell_type": "markdown",
      "metadata": {
        "id": "vGMoXXVOUc8U"
      },
      "source": [
        "# Check GPU"
      ]
    },
    {
      "cell_type": "code",
      "execution_count": null,
      "metadata": {
        "colab": {
          "base_uri": "https://localhost:8080/"
        },
        "id": "5yKnTX1sts_d",
        "outputId": "54236350-64d6-4bea-fd1e-63d578612c00"
      },
      "outputs": [
        {
          "name": "stdout",
          "output_type": "stream",
          "text": [
            "Wed Sep  4 07:59:06 2024       \n",
            "+---------------------------------------------------------------------------------------+\n",
            "| NVIDIA-SMI 535.104.05             Driver Version: 535.104.05   CUDA Version: 12.2     |\n",
            "|-----------------------------------------+----------------------+----------------------+\n",
            "| GPU  Name                 Persistence-M | Bus-Id        Disp.A | Volatile Uncorr. ECC |\n",
            "| Fan  Temp   Perf          Pwr:Usage/Cap |         Memory-Usage | GPU-Util  Compute M. |\n",
            "|                                         |                      |               MIG M. |\n",
            "|=========================================+======================+======================|\n",
            "|   0  Tesla T4                       Off | 00000000:00:04.0 Off |                    0 |\n",
            "| N/A   41C    P8               9W /  70W |      0MiB / 15360MiB |      0%      Default |\n",
            "|                                         |                      |                  N/A |\n",
            "+-----------------------------------------+----------------------+----------------------+\n",
            "                                                                                         \n",
            "+---------------------------------------------------------------------------------------+\n",
            "| Processes:                                                                            |\n",
            "|  GPU   GI   CI        PID   Type   Process name                            GPU Memory |\n",
            "|        ID   ID                                                             Usage      |\n",
            "|=======================================================================================|\n",
            "|  No running processes found                                                           |\n",
            "+---------------------------------------------------------------------------------------+\n"
          ]
        }
      ],
      "source": [
        "!nvidia-smi"
      ]
    },
    {
      "cell_type": "code",
      "execution_count": null,
      "metadata": {
        "colab": {
          "base_uri": "https://localhost:8080/"
        },
        "id": "j1z8x7jKtudn",
        "outputId": "c9b4665c-1657-4ebf-8116-bb9cb7d6f9b6"
      },
      "outputs": [
        {
          "name": "stdout",
          "output_type": "stream",
          "text": [
            "Cloning into 'pubmed-rct'...\n",
            "remote: Enumerating objects: 39, done.\u001b[K\n",
            "remote: Counting objects: 100% (14/14), done.\u001b[K\n",
            "remote: Compressing objects: 100% (9/9), done.\u001b[K\n",
            "remote: Total 39 (delta 8), reused 5 (delta 5), pack-reused 25 (from 1)\u001b[K\n",
            "Receiving objects: 100% (39/39), 177.08 MiB | 26.62 MiB/s, done.\n",
            "Resolving deltas: 100% (15/15), done.\n",
            "Updating files: 100% (13/13), done.\n",
            "PubMed_200k_RCT\t\t\t\t       PubMed_20k_RCT_numbers_replaced_with_at_sign\n",
            "PubMed_200k_RCT_numbers_replaced_with_at_sign  README.md\n",
            "PubMed_20k_RCT\n"
          ]
        }
      ],
      "source": [
        "!git clone https://github.com/Franck-Dernoncourt/pubmed-rct.git\n",
        "!ls pubmed-rct\n",
        "# https://github.com/Franck-Dernoncourt/pubmed-rct"
      ]
    },
    {
      "cell_type": "code",
      "execution_count": null,
      "metadata": {
        "colab": {
          "base_uri": "https://localhost:8080/"
        },
        "id": "wyl_N2XFnzAd",
        "outputId": "1b48e293-a8ad-4cf9-cd9f-8b19ec2f0b1f"
      },
      "outputs": [
        {
          "name": "stdout",
          "output_type": "stream",
          "text": [
            "dev.txt  test.txt  train.txt\n"
          ]
        }
      ],
      "source": [
        "!ls pubmed-rct/PubMed_20k_RCT_numbers_replaced_with_at_sign"
      ]
    },
    {
      "cell_type": "code",
      "execution_count": null,
      "metadata": {
        "colab": {
          "base_uri": "https://localhost:8080/"
        },
        "id": "CWbpzkYZrK4X",
        "outputId": "651bac94-d37c-454b-bfcf-8e18f3ceb945"
      },
      "outputs": [
        {
          "name": "stdout",
          "output_type": "stream",
          "text": [
            "Wed Sep  4 07:59:16 2024       \n",
            "+---------------------------------------------------------------------------------------+\n",
            "| NVIDIA-SMI 535.104.05             Driver Version: 535.104.05   CUDA Version: 12.2     |\n",
            "|-----------------------------------------+----------------------+----------------------+\n",
            "| GPU  Name                 Persistence-M | Bus-Id        Disp.A | Volatile Uncorr. ECC |\n",
            "| Fan  Temp   Perf          Pwr:Usage/Cap |         Memory-Usage | GPU-Util  Compute M. |\n",
            "|                                         |                      |               MIG M. |\n",
            "|=========================================+======================+======================|\n",
            "|   0  Tesla T4                       Off | 00000000:00:04.0 Off |                    0 |\n",
            "| N/A   41C    P8               9W /  70W |      0MiB / 15360MiB |      0%      Default |\n",
            "|                                         |                      |                  N/A |\n",
            "+-----------------------------------------+----------------------+----------------------+\n",
            "                                                                                         \n",
            "+---------------------------------------------------------------------------------------+\n",
            "| Processes:                                                                            |\n",
            "|  GPU   GI   CI        PID   Type   Process name                            GPU Memory |\n",
            "|        ID   ID                                                             Usage      |\n",
            "|=======================================================================================|\n",
            "|  No running processes found                                                           |\n",
            "+---------------------------------------------------------------------------------------+\n"
          ]
        }
      ],
      "source": [
        "!nvidia-smi"
      ]
    },
    {
      "cell_type": "code",
      "execution_count": null,
      "metadata": {
        "colab": {
          "base_uri": "https://localhost:8080/"
        },
        "id": "6v5oILEZrLy9",
        "outputId": "a70f130d-493d-4c3c-a6e1-7f1f63b379f0"
      },
      "outputs": [
        {
          "data": {
            "text/plain": [
              "['/content/pubmed-rct/PubMed_20k_RCT_numbers_replaced_with_at_sign/test.txt',\n",
              " '/content/pubmed-rct/PubMed_20k_RCT_numbers_replaced_with_at_sign/train.txt',\n",
              " '/content/pubmed-rct/PubMed_20k_RCT_numbers_replaced_with_at_sign/dev.txt']"
            ]
          },
          "execution_count": 11,
          "metadata": {},
          "output_type": "execute_result"
        }
      ],
      "source": [
        "import os\n",
        "data_dir = '/content/pubmed-rct/PubMed_20k_RCT_numbers_replaced_with_at_sign/'\n",
        "filenames = [data_dir + filename for filename in os.listdir(data_dir) if filename.endswith('.txt')]\n",
        "filenames"
      ]
    },
    {
      "cell_type": "markdown",
      "metadata": {
        "id": "Wl08LvdMHn4_"
      },
      "source": [
        "# Helper Functions"
      ]
    },
    {
      "cell_type": "code",
      "execution_count": null,
      "metadata": {
        "id": "kgOca7fsHpy0"
      },
      "outputs": [],
      "source": [
        "### We create a bunch of helpful functions throughout the course.\n",
        "### Storing them here so they're easily accessible.\n",
        "\n",
        "import tensorflow as tf\n",
        "\n",
        "# Create a function to import an image and resize it to be able to be used with our model\n",
        "def load_and_prep_image(filename, img_shape=224, scale=True):\n",
        "  \"\"\"\n",
        "  Reads in an image from filename, turns it into a tensor and reshapes into\n",
        "  (224, 224, 3).\n",
        "\n",
        "  Parameters\n",
        "  ----------\n",
        "  filename (str): string filename of target image\n",
        "  img_shape (int): size to resize target image to, default 224\n",
        "  scale (bool): whether to scale pixel values to range(0, 1), default True\n",
        "  \"\"\"\n",
        "  # Read in the image\n",
        "  img = tf.io.read_file(filename)\n",
        "  # Decode it into a tensor\n",
        "  img = tf.image.decode_jpeg(img)\n",
        "  # Resize the image\n",
        "  img = tf.image.resize(img, [img_shape, img_shape])\n",
        "  if scale:\n",
        "    # Rescale the image (get all values between 0 and 1)\n",
        "    return img/255.\n",
        "  else:\n",
        "    return img\n",
        "\n",
        "# Note: The following confusion matrix code is a remix of Scikit-Learn's\n",
        "# plot_confusion_matrix function - https://scikit-learn.org/stable/modules/generated/sklearn.metrics.plot_confusion_matrix.html\n",
        "import itertools\n",
        "import matplotlib.pyplot as plt\n",
        "import numpy as np\n",
        "from sklearn.metrics import confusion_matrix\n",
        "\n",
        "# Our function needs a different name to sklearn's plot_confusion_matrix\n",
        "def make_confusion_matrix(y_true, y_pred, classes=None, figsize=(10, 10), text_size=15, norm=False, savefig=False):\n",
        "  \"\"\"Makes a labelled confusion matrix comparing predictions and ground truth labels.\n",
        "\n",
        "  If classes is passed, confusion matrix will be labelled, if not, integer class values\n",
        "  will be used.\n",
        "\n",
        "  Args:\n",
        "    y_true: Array of truth labels (must be same shape as y_pred).\n",
        "    y_pred: Array of predicted labels (must be same shape as y_true).\n",
        "    classes: Array of class labels (e.g. string form). If `None`, integer labels are used.\n",
        "    figsize: Size of output figure (default=(10, 10)).\n",
        "    text_size: Size of output figure text (default=15).\n",
        "    norm: normalize values or not (default=False).\n",
        "    savefig: save confusion matrix to file (default=False).\n",
        "\n",
        "  Returns:\n",
        "    A labelled confusion matrix plot comparing y_true and y_pred.\n",
        "\n",
        "  Example usage:\n",
        "    make_confusion_matrix(y_true=test_labels, # ground truth test labels\n",
        "                          y_pred=y_preds, # predicted labels\n",
        "                          classes=class_names, # array of class label names\n",
        "                          figsize=(15, 15),\n",
        "                          text_size=10)\n",
        "  \"\"\"\n",
        "  # Create the confustion matrix\n",
        "  cm = confusion_matrix(y_true, y_pred)\n",
        "  cm_norm = cm.astype(\"float\") / cm.sum(axis=1)[:, np.newaxis] # normalize it\n",
        "  n_classes = cm.shape[0] # find the number of classes we're dealing with\n",
        "\n",
        "  # Plot the figure and make it pretty\n",
        "  fig, ax = plt.subplots(figsize=figsize)\n",
        "  cax = ax.matshow(cm, cmap=plt.cm.Blues) # colors will represent how 'correct' a class is, darker == better\n",
        "  fig.colorbar(cax)\n",
        "\n",
        "  # Are there a list of classes?\n",
        "  if classes:\n",
        "    labels = classes\n",
        "  else:\n",
        "    labels = np.arange(cm.shape[0])\n",
        "\n",
        "  # Label the axes\n",
        "  ax.set(title=\"Confusion Matrix\",\n",
        "         xlabel=\"Predicted label\",\n",
        "         ylabel=\"True label\",\n",
        "         xticks=np.arange(n_classes), # create enough axis slots for each class\n",
        "         yticks=np.arange(n_classes),\n",
        "         xticklabels=labels, # axes will labeled with class names (if they exist) or ints\n",
        "         yticklabels=labels)\n",
        "\n",
        "  # Make x-axis labels appear on bottom\n",
        "  ax.xaxis.set_label_position(\"bottom\")\n",
        "  ax.xaxis.tick_bottom()\n",
        "\n",
        "  # Set the threshold for different colors\n",
        "  threshold = (cm.max() + cm.min()) / 2.\n",
        "\n",
        "  # Plot the text on each cell\n",
        "  for i, j in itertools.product(range(cm.shape[0]), range(cm.shape[1])):\n",
        "    if norm:\n",
        "      plt.text(j, i, f\"{cm[i, j]} ({cm_norm[i, j]*100:.1f}%)\",\n",
        "              horizontalalignment=\"center\",\n",
        "              color=\"white\" if cm[i, j] > threshold else \"black\",\n",
        "              size=text_size)\n",
        "    else:\n",
        "      plt.text(j, i, f\"{cm[i, j]}\",\n",
        "              horizontalalignment=\"center\",\n",
        "              color=\"white\" if cm[i, j] > threshold else \"black\",\n",
        "              size=text_size)\n",
        "\n",
        "  # Save the figure to the current working directory\n",
        "  if savefig:\n",
        "    fig.savefig(\"confusion_matrix.png\")\n",
        "\n",
        "# Make a function to predict on images and plot them (works with multi-class)\n",
        "def pred_and_plot(model, filename, class_names):\n",
        "  \"\"\"\n",
        "  Imports an image located at filename, makes a prediction on it with\n",
        "  a trained model and plots the image with the predicted class as the title.\n",
        "  \"\"\"\n",
        "  # Import the target image and preprocess it\n",
        "  img = load_and_prep_image(filename)\n",
        "\n",
        "  # Make a prediction\n",
        "  pred = model.predict(tf.expand_dims(img, axis=0))\n",
        "\n",
        "  # Get the predicted class\n",
        "  if len(pred[0]) > 1: # check for multi-class\n",
        "    pred_class = class_names[pred.argmax()] # if more than one output, take the max\n",
        "  else:\n",
        "    pred_class = class_names[int(tf.round(pred)[0][0])] # if only one output, round\n",
        "\n",
        "  # Plot the image and predicted class\n",
        "  plt.imshow(img)\n",
        "  plt.title(f\"Prediction: {pred_class}\")\n",
        "  plt.axis(False);\n",
        "\n",
        "import datetime\n",
        "\n",
        "def create_tensorboard_callback(dir_name, experiment_name):\n",
        "  \"\"\"\n",
        "  Creates a TensorBoard callback instand to store log files.\n",
        "\n",
        "  Stores log files with the filepath:\n",
        "    \"dir_name/experiment_name/current_datetime/\"\n",
        "\n",
        "  Args:\n",
        "    dir_name: target directory to store TensorBoard log files\n",
        "    experiment_name: name of experiment directory (e.g. efficientnet_model_1)\n",
        "  \"\"\"\n",
        "  log_dir = dir_name + \"/\" + experiment_name + \"/\" + datetime.datetime.now().strftime(\"%Y%m%d-%H%M%S\")\n",
        "  tensorboard_callback = tf.keras.callbacks.TensorBoard(\n",
        "      log_dir=log_dir\n",
        "  )\n",
        "  print(f\"Saving TensorBoard log files to: {log_dir}\")\n",
        "  return tensorboard_callback\n",
        "\n",
        "# Plot the validation and training data separately\n",
        "import matplotlib.pyplot as plt\n",
        "\n",
        "def plot_loss_curves(history):\n",
        "  \"\"\"\n",
        "  Returns separate loss curves for training and validation metrics.\n",
        "\n",
        "  Args:\n",
        "    history: TensorFlow model History object (see: https://www.tensorflow.org/api_docs/python/tf/keras/callbacks/History)\n",
        "  \"\"\"\n",
        "  loss = history.history['loss']\n",
        "  val_loss = history.history['val_loss']\n",
        "\n",
        "  accuracy = history.history['accuracy']\n",
        "  val_accuracy = history.history['val_accuracy']\n",
        "\n",
        "  epochs = range(len(history.history['loss']))\n",
        "\n",
        "  # Plot loss\n",
        "  plt.plot(epochs, loss, label='training_loss')\n",
        "  plt.plot(epochs, val_loss, label='val_loss')\n",
        "  plt.title('Loss')\n",
        "  plt.xlabel('Epochs')\n",
        "  plt.legend()\n",
        "\n",
        "  # Plot accuracy\n",
        "  plt.figure()\n",
        "  plt.plot(epochs, accuracy, label='training_accuracy')\n",
        "  plt.plot(epochs, val_accuracy, label='val_accuracy')\n",
        "  plt.title('Accuracy')\n",
        "  plt.xlabel('Epochs')\n",
        "  plt.legend();\n",
        "\n",
        "def compare_historys(original_history, new_history, initial_epochs=5):\n",
        "    \"\"\"\n",
        "    Compares two TensorFlow model History objects.\n",
        "\n",
        "    Args:\n",
        "      original_history: History object from original model (before new_history)\n",
        "      new_history: History object from continued model training (after original_history)\n",
        "      initial_epochs: Number of epochs in original_history (new_history plot starts from here)\n",
        "    \"\"\"\n",
        "\n",
        "    # Get original history measurements\n",
        "    acc = original_history.history[\"accuracy\"]\n",
        "    loss = original_history.history[\"loss\"]\n",
        "\n",
        "    val_acc = original_history.history[\"val_accuracy\"]\n",
        "    val_loss = original_history.history[\"val_loss\"]\n",
        "\n",
        "    # Combine original history with new history\n",
        "    total_acc = acc + new_history.history[\"accuracy\"]\n",
        "    total_loss = loss + new_history.history[\"loss\"]\n",
        "\n",
        "    total_val_acc = val_acc + new_history.history[\"val_accuracy\"]\n",
        "    total_val_loss = val_loss + new_history.history[\"val_loss\"]\n",
        "\n",
        "    # Make plots\n",
        "    plt.figure(figsize=(8, 8))\n",
        "    plt.subplot(2, 1, 1)\n",
        "    plt.plot(total_acc, label='Training Accuracy')\n",
        "    plt.plot(total_val_acc, label='Validation Accuracy')\n",
        "    plt.plot([initial_epochs-1, initial_epochs-1],\n",
        "              plt.ylim(), label='Start Fine Tuning') # reshift plot around epochs\n",
        "    plt.legend(loc='lower right')\n",
        "    plt.title('Training and Validation Accuracy')\n",
        "\n",
        "    plt.subplot(2, 1, 2)\n",
        "    plt.plot(total_loss, label='Training Loss')\n",
        "    plt.plot(total_val_loss, label='Validation Loss')\n",
        "    plt.plot([initial_epochs-1, initial_epochs-1],\n",
        "              plt.ylim(), label='Start Fine Tuning') # reshift plot around epochs\n",
        "    plt.legend(loc='upper right')\n",
        "    plt.title('Training and Validation Loss')\n",
        "    plt.xlabel('epoch')\n",
        "    plt.show()\n",
        "\n",
        "# Create function to unzip a zipfile into current working directory\n",
        "# (since we're going to be downloading and unzipping a few files)\n",
        "import zipfile\n",
        "\n",
        "def unzip_data(filename):\n",
        "  \"\"\"\n",
        "  Unzips filename into the current working directory.\n",
        "\n",
        "  Args:\n",
        "    filename (str): a filepath to a target zip folder to be unzipped.\n",
        "  \"\"\"\n",
        "  zip_ref = zipfile.ZipFile(filename, \"r\")\n",
        "  zip_ref.extractall()\n",
        "  zip_ref.close()\n",
        "\n",
        "# Walk through an image classification directory and find out how many files (images)\n",
        "# are in each subdirectory.\n",
        "import os\n",
        "\n",
        "def walk_through_dir(dir_path):\n",
        "  \"\"\"\n",
        "  Walks through dir_path returning its contents.\n",
        "\n",
        "  Args:\n",
        "    dir_path (str): target directory\n",
        "\n",
        "  Returns:\n",
        "    A print out of:\n",
        "      number of subdiretories in dir_path\n",
        "      number of images (files) in each subdirectory\n",
        "      name of each subdirectory\n",
        "  \"\"\"\n",
        "  for dirpath, dirnames, filenames in os.walk(dir_path):\n",
        "    print(f\"There are {len(dirnames)} directories and {len(filenames)} images in '{dirpath}'.\")\n",
        "\n",
        "# Function to evaluate: accuracy, precision, recall, f1-score\n",
        "from sklearn.metrics import accuracy_score, precision_recall_fscore_support\n",
        "\n",
        "def calculate_results(y_true, y_pred):\n",
        "  \"\"\"\n",
        "  Calculates model accuracy, precision, recall and f1 score of a binary classification model.\n",
        "\n",
        "  Args:\n",
        "      y_true: true labels in the form of a 1D array\n",
        "      y_pred: predicted labels in the form of a 1D array\n",
        "\n",
        "  Returns a dictionary of accuracy, precision, recall, f1-score.\n",
        "  \"\"\"\n",
        "  # Calculate model accuracy\n",
        "  model_accuracy = accuracy_score(y_true, y_pred) * 100\n",
        "  # Calculate model precision, recall and f1 score using \"weighted average\n",
        "  model_precision, model_recall, model_f1, _ = precision_recall_fscore_support(y_true, y_pred, average=\"weighted\")\n",
        "  model_results = {\"accuracy\": model_accuracy,\n",
        "                  \"precision\": model_precision,\n",
        "                  \"recall\": model_recall,\n",
        "                  \"f1\": model_f1}\n",
        "  return model_results"
      ]
    },
    {
      "cell_type": "markdown",
      "metadata": {
        "id": "YWsxMhT9spvO"
      },
      "source": [
        "# Visualization"
      ]
    },
    {
      "cell_type": "code",
      "execution_count": null,
      "metadata": {
        "id": "s8FGFCHVsank"
      },
      "outputs": [],
      "source": [
        "def get_lines(filename):\n",
        "  \"\"\"\n",
        "  Reads filename (a text file) and returns the lines of text as a list.\n",
        "\n",
        "  Args:\n",
        "      filename: a string containing the target filepath to read.\n",
        "\n",
        "  Returns:\n",
        "      A list of strings with one string per line from the target filename.\n",
        "      For example:\n",
        "      [\"this is the first line of filename\",\n",
        "       \"this is the second line of filename\",\n",
        "       \"...\"]\n",
        "  \"\"\"\n",
        "  with open(filename, \"r\") as f:\n",
        "    return f.readlines()\n"
      ]
    },
    {
      "cell_type": "code",
      "execution_count": null,
      "metadata": {
        "colab": {
          "base_uri": "https://localhost:8080/"
        },
        "id": "mSdlnJTWsxVQ",
        "outputId": "27763525-4f29-4b47-91fa-123296b03d89"
      },
      "outputs": [
        {
          "data": {
            "text/plain": [
              "['###24293578\\n',\n",
              " 'OBJECTIVE\\tTo investigate the efficacy of @ weeks of daily low-dose oral prednisolone in improving pain , mobility , and systemic low-grade inflammation in the short term and whether the effect would be sustained at @ weeks in older adults with moderate to severe knee osteoarthritis ( OA ) .\\n',\n",
              " 'METHODS\\tA total of @ patients with primary knee OA were randomized @:@ ; @ received @ mg/day of prednisolone and @ received placebo for @ weeks .\\n',\n",
              " 'METHODS\\tOutcome measures included pain reduction and improvement in function scores and systemic inflammation markers .\\n',\n",
              " 'METHODS\\tPain was assessed using the visual analog pain scale ( @-@ mm ) .\\n',\n",
              " 'METHODS\\tSecondary outcome measures included the Western Ontario and McMaster Universities Osteoarthritis Index scores , patient global assessment ( PGA ) of the severity of knee OA , and @-min walk distance ( @MWD ) .\\n',\n",
              " 'METHODS\\tSerum levels of interleukin @ ( IL-@ ) , IL-@ , tumor necrosis factor ( TNF ) - , and high-sensitivity C-reactive protein ( hsCRP ) were measured .\\n',\n",
              " 'RESULTS\\tThere was a clinically relevant reduction in the intervention group compared to the placebo group for knee pain , physical function , PGA , and @MWD at @ weeks .\\n',\n",
              " 'RESULTS\\tThe mean difference between treatment arms ( @ % CI ) was @ ( @-@ @ ) , p < @ ; @ ( @-@ @ ) , p < @ ; @ ( @-@ @ ) , p < @ ; and @ ( @-@ @ ) , p < @ , respectively .\\n',\n",
              " 'RESULTS\\tFurther , there was a clinically relevant reduction in the serum levels of IL-@ , IL-@ , TNF - , and hsCRP at @ weeks in the intervention group when compared to the placebo group .\\n',\n",
              " 'RESULTS\\tThese differences remained significant at @ weeks .\\n',\n",
              " 'RESULTS\\tThe Outcome Measures in Rheumatology Clinical Trials-Osteoarthritis Research Society International responder rate was @ % in the intervention group and @ % in the placebo group ( p < @ ) .\\n',\n",
              " 'CONCLUSIONS\\tLow-dose oral prednisolone had both a short-term and a longer sustained effect resulting in less knee pain , better physical function , and attenuation of systemic inflammation in older patients with knee OA ( ClinicalTrials.gov identifier NCT@ ) .\\n',\n",
              " '\\n',\n",
              " '###24854809\\n',\n",
              " 'BACKGROUND\\tEmotional eating is associated with overeating and the development of obesity .\\n',\n",
              " 'BACKGROUND\\tYet , empirical evidence for individual ( trait ) differences in emotional eating and cognitive mechanisms that contribute to eating during sad mood remain equivocal .\\n',\n",
              " 'OBJECTIVE\\tThe aim of this study was to test if attention bias for food moderates the effect of self-reported emotional eating during sad mood ( vs neutral mood ) on actual food intake .\\n',\n",
              " 'OBJECTIVE\\tIt was expected that emotional eating is predictive of elevated attention for food and higher food intake after an experimentally induced sad mood and that attentional maintenance on food predicts food intake during a sad versus a neutral mood .\\n',\n",
              " 'METHODS\\tParticipants ( N = @ ) were randomly assigned to one of the two experimental mood induction conditions ( sad/neutral ) .\\n']"
            ]
          },
          "execution_count": 14,
          "metadata": {},
          "output_type": "execute_result"
        }
      ],
      "source": [
        "train_lines = get_lines(data_dir+'train.txt')\n",
        "train_lines[:20]"
      ]
    },
    {
      "cell_type": "code",
      "execution_count": null,
      "metadata": {
        "colab": {
          "base_uri": "https://localhost:8080/"
        },
        "id": "LwqMgt1Ts_oj",
        "outputId": "89391579-7290-416c-dfba-16bbbdef519a"
      },
      "outputs": [
        {
          "data": {
            "text/plain": [
              "210040"
            ]
          },
          "execution_count": 15,
          "metadata": {},
          "output_type": "execute_result"
        }
      ],
      "source": [
        "len(train_lines)"
      ]
    },
    {
      "cell_type": "code",
      "execution_count": null,
      "metadata": {
        "id": "gbHBo-4_tHql"
      },
      "outputs": [],
      "source": [
        "def preprocess_text_with_line_numbers(filename):\n",
        "  \"\"\"Returns a list of dictionaries of abstract line data.\n",
        "\n",
        "  Takes in filename, reads its contents and sorts through each line,\n",
        "  extracting things like the target label, the text of the sentence,\n",
        "  how many sentences are in the current abstract and what sentence number\n",
        "  the target line is.\n",
        "\n",
        "  Args:\n",
        "      filename: a string of the target text file to read and extract line data\n",
        "      from.\n",
        "\n",
        "  Returns:\n",
        "      A list of dictionaries each containing a line from an abstract,\n",
        "      the lines label, the lines position in the abstract and the total number\n",
        "      of lines in the abstract where the line is from. For example:\n",
        "\n",
        "      [{\"target\": 'CONCLUSION',\n",
        "        \"text\": The study couldn't have gone better, turns out people are kinder than you think\",\n",
        "        \"line_number\": 8,\n",
        "        \"total_lines\": 8}]\n",
        "  \"\"\"\n",
        "\n",
        "  input_lines = get_lines(filename)\n",
        "  abstract_lines = ''\n",
        "  abstract_samples=[]\n",
        "\n",
        "  for line in input_lines:\n",
        "    if line.startswith('###'):\n",
        "      abstract_id = line\n",
        "      abstract_lines = '' # Resetting for a start of a new line.\n",
        "\n",
        "    elif line.isspace():\n",
        "      abstract_line_split = abstract_lines.splitlines()\n",
        "\n",
        "      for abstract_line_number, abstract_line in enumerate(abstract_line_split):\n",
        "        line_data = {}\n",
        "        target_text_split = abstract_line.split('\\t')\n",
        "        line_data['target'] = target_text_split[0]\n",
        "        line_data['text'] = target_text_split[1].lower()\n",
        "        line_data['line_number'] = abstract_line_number\n",
        "        line_data['total_lines'] = len(abstract_line_split)-1\n",
        "        abstract_samples.append(line_data)\n",
        "\n",
        "    else:\n",
        "      abstract_lines += line\n",
        "\n",
        "  return abstract_samples"
      ]
    },
    {
      "cell_type": "code",
      "execution_count": null,
      "metadata": {
        "colab": {
          "base_uri": "https://localhost:8080/"
        },
        "id": "YESkX5AN8PR8",
        "outputId": "889d6389-0343-46ce-ffda-89179ad3a3fb"
      },
      "outputs": [
        {
          "data": {
            "text/plain": [
              "(180040, 30212, 30135)"
            ]
          },
          "execution_count": 17,
          "metadata": {},
          "output_type": "execute_result"
        }
      ],
      "source": [
        "train_samples = preprocess_text_with_line_numbers(data_dir + 'train.txt')\n",
        "val_samples = preprocess_text_with_line_numbers(data_dir + 'dev.txt')\n",
        "test_samples = preprocess_text_with_line_numbers(data_dir + 'test.txt')\n",
        "len(train_samples), len(val_samples), len(test_samples)"
      ]
    },
    {
      "cell_type": "code",
      "execution_count": null,
      "metadata": {
        "colab": {
          "base_uri": "https://localhost:8080/"
        },
        "id": "A9yP35o_8s6b",
        "outputId": "68403916-677b-4dac-ee3e-0494efac3338"
      },
      "outputs": [
        {
          "data": {
            "text/plain": [
              "[{'target': 'OBJECTIVE',\n",
              "  'text': 'to investigate the efficacy of @ weeks of daily low-dose oral prednisolone in improving pain , mobility , and systemic low-grade inflammation in the short term and whether the effect would be sustained at @ weeks in older adults with moderate to severe knee osteoarthritis ( oa ) .',\n",
              "  'line_number': 0,\n",
              "  'total_lines': 11},\n",
              " {'target': 'METHODS',\n",
              "  'text': 'a total of @ patients with primary knee oa were randomized @:@ ; @ received @ mg/day of prednisolone and @ received placebo for @ weeks .',\n",
              "  'line_number': 1,\n",
              "  'total_lines': 11},\n",
              " {'target': 'METHODS',\n",
              "  'text': 'outcome measures included pain reduction and improvement in function scores and systemic inflammation markers .',\n",
              "  'line_number': 2,\n",
              "  'total_lines': 11},\n",
              " {'target': 'METHODS',\n",
              "  'text': 'pain was assessed using the visual analog pain scale ( @-@ mm ) .',\n",
              "  'line_number': 3,\n",
              "  'total_lines': 11},\n",
              " {'target': 'METHODS',\n",
              "  'text': 'secondary outcome measures included the western ontario and mcmaster universities osteoarthritis index scores , patient global assessment ( pga ) of the severity of knee oa , and @-min walk distance ( @mwd ) .',\n",
              "  'line_number': 4,\n",
              "  'total_lines': 11},\n",
              " {'target': 'METHODS',\n",
              "  'text': 'serum levels of interleukin @ ( il-@ ) , il-@ , tumor necrosis factor ( tnf ) - , and high-sensitivity c-reactive protein ( hscrp ) were measured .',\n",
              "  'line_number': 5,\n",
              "  'total_lines': 11},\n",
              " {'target': 'RESULTS',\n",
              "  'text': 'there was a clinically relevant reduction in the intervention group compared to the placebo group for knee pain , physical function , pga , and @mwd at @ weeks .',\n",
              "  'line_number': 6,\n",
              "  'total_lines': 11},\n",
              " {'target': 'RESULTS',\n",
              "  'text': 'the mean difference between treatment arms ( @ % ci ) was @ ( @-@ @ ) , p < @ ; @ ( @-@ @ ) , p < @ ; @ ( @-@ @ ) , p < @ ; and @ ( @-@ @ ) , p < @ , respectively .',\n",
              "  'line_number': 7,\n",
              "  'total_lines': 11},\n",
              " {'target': 'RESULTS',\n",
              "  'text': 'further , there was a clinically relevant reduction in the serum levels of il-@ , il-@ , tnf - , and hscrp at @ weeks in the intervention group when compared to the placebo group .',\n",
              "  'line_number': 8,\n",
              "  'total_lines': 11},\n",
              " {'target': 'RESULTS',\n",
              "  'text': 'these differences remained significant at @ weeks .',\n",
              "  'line_number': 9,\n",
              "  'total_lines': 11}]"
            ]
          },
          "execution_count": 18,
          "metadata": {},
          "output_type": "execute_result"
        }
      ],
      "source": [
        "train_samples[:10]"
      ]
    },
    {
      "cell_type": "code",
      "execution_count": null,
      "metadata": {
        "colab": {
          "base_uri": "https://localhost:8080/",
          "height": 206
        },
        "id": "J_x595n49AMK",
        "outputId": "e6116dc1-f075-4d86-9953-ae4e244a143b"
      },
      "outputs": [
        {
          "data": {
            "application/vnd.google.colaboratory.intrinsic+json": {
              "type": "dataframe",
              "variable_name": "train_df"
            },
            "text/html": [
              "\n",
              "  <div id=\"df-17b30acd-a65a-4cf8-a0f6-ddd9bd1033c1\" class=\"colab-df-container\">\n",
              "    <div>\n",
              "<style scoped>\n",
              "    .dataframe tbody tr th:only-of-type {\n",
              "        vertical-align: middle;\n",
              "    }\n",
              "\n",
              "    .dataframe tbody tr th {\n",
              "        vertical-align: top;\n",
              "    }\n",
              "\n",
              "    .dataframe thead th {\n",
              "        text-align: right;\n",
              "    }\n",
              "</style>\n",
              "<table border=\"1\" class=\"dataframe\">\n",
              "  <thead>\n",
              "    <tr style=\"text-align: right;\">\n",
              "      <th></th>\n",
              "      <th>target</th>\n",
              "      <th>text</th>\n",
              "      <th>line_number</th>\n",
              "      <th>total_lines</th>\n",
              "    </tr>\n",
              "  </thead>\n",
              "  <tbody>\n",
              "    <tr>\n",
              "      <th>0</th>\n",
              "      <td>OBJECTIVE</td>\n",
              "      <td>to investigate the efficacy of @ weeks of dail...</td>\n",
              "      <td>0</td>\n",
              "      <td>11</td>\n",
              "    </tr>\n",
              "    <tr>\n",
              "      <th>1</th>\n",
              "      <td>METHODS</td>\n",
              "      <td>a total of @ patients with primary knee oa wer...</td>\n",
              "      <td>1</td>\n",
              "      <td>11</td>\n",
              "    </tr>\n",
              "    <tr>\n",
              "      <th>2</th>\n",
              "      <td>METHODS</td>\n",
              "      <td>outcome measures included pain reduction and i...</td>\n",
              "      <td>2</td>\n",
              "      <td>11</td>\n",
              "    </tr>\n",
              "    <tr>\n",
              "      <th>3</th>\n",
              "      <td>METHODS</td>\n",
              "      <td>pain was assessed using the visual analog pain...</td>\n",
              "      <td>3</td>\n",
              "      <td>11</td>\n",
              "    </tr>\n",
              "    <tr>\n",
              "      <th>4</th>\n",
              "      <td>METHODS</td>\n",
              "      <td>secondary outcome measures included the wester...</td>\n",
              "      <td>4</td>\n",
              "      <td>11</td>\n",
              "    </tr>\n",
              "  </tbody>\n",
              "</table>\n",
              "</div>\n",
              "    <div class=\"colab-df-buttons\">\n",
              "\n",
              "  <div class=\"colab-df-container\">\n",
              "    <button class=\"colab-df-convert\" onclick=\"convertToInteractive('df-17b30acd-a65a-4cf8-a0f6-ddd9bd1033c1')\"\n",
              "            title=\"Convert this dataframe to an interactive table.\"\n",
              "            style=\"display:none;\">\n",
              "\n",
              "  <svg xmlns=\"http://www.w3.org/2000/svg\" height=\"24px\" viewBox=\"0 -960 960 960\">\n",
              "    <path d=\"M120-120v-720h720v720H120Zm60-500h600v-160H180v160Zm220 220h160v-160H400v160Zm0 220h160v-160H400v160ZM180-400h160v-160H180v160Zm440 0h160v-160H620v160ZM180-180h160v-160H180v160Zm440 0h160v-160H620v160Z\"/>\n",
              "  </svg>\n",
              "    </button>\n",
              "\n",
              "  <style>\n",
              "    .colab-df-container {\n",
              "      display:flex;\n",
              "      gap: 12px;\n",
              "    }\n",
              "\n",
              "    .colab-df-convert {\n",
              "      background-color: #E8F0FE;\n",
              "      border: none;\n",
              "      border-radius: 50%;\n",
              "      cursor: pointer;\n",
              "      display: none;\n",
              "      fill: #1967D2;\n",
              "      height: 32px;\n",
              "      padding: 0 0 0 0;\n",
              "      width: 32px;\n",
              "    }\n",
              "\n",
              "    .colab-df-convert:hover {\n",
              "      background-color: #E2EBFA;\n",
              "      box-shadow: 0px 1px 2px rgba(60, 64, 67, 0.3), 0px 1px 3px 1px rgba(60, 64, 67, 0.15);\n",
              "      fill: #174EA6;\n",
              "    }\n",
              "\n",
              "    .colab-df-buttons div {\n",
              "      margin-bottom: 4px;\n",
              "    }\n",
              "\n",
              "    [theme=dark] .colab-df-convert {\n",
              "      background-color: #3B4455;\n",
              "      fill: #D2E3FC;\n",
              "    }\n",
              "\n",
              "    [theme=dark] .colab-df-convert:hover {\n",
              "      background-color: #434B5C;\n",
              "      box-shadow: 0px 1px 3px 1px rgba(0, 0, 0, 0.15);\n",
              "      filter: drop-shadow(0px 1px 2px rgba(0, 0, 0, 0.3));\n",
              "      fill: #FFFFFF;\n",
              "    }\n",
              "  </style>\n",
              "\n",
              "    <script>\n",
              "      const buttonEl =\n",
              "        document.querySelector('#df-17b30acd-a65a-4cf8-a0f6-ddd9bd1033c1 button.colab-df-convert');\n",
              "      buttonEl.style.display =\n",
              "        google.colab.kernel.accessAllowed ? 'block' : 'none';\n",
              "\n",
              "      async function convertToInteractive(key) {\n",
              "        const element = document.querySelector('#df-17b30acd-a65a-4cf8-a0f6-ddd9bd1033c1');\n",
              "        const dataTable =\n",
              "          await google.colab.kernel.invokeFunction('convertToInteractive',\n",
              "                                                    [key], {});\n",
              "        if (!dataTable) return;\n",
              "\n",
              "        const docLinkHtml = 'Like what you see? Visit the ' +\n",
              "          '<a target=\"_blank\" href=https://colab.research.google.com/notebooks/data_table.ipynb>data table notebook</a>'\n",
              "          + ' to learn more about interactive tables.';\n",
              "        element.innerHTML = '';\n",
              "        dataTable['output_type'] = 'display_data';\n",
              "        await google.colab.output.renderOutput(dataTable, element);\n",
              "        const docLink = document.createElement('div');\n",
              "        docLink.innerHTML = docLinkHtml;\n",
              "        element.appendChild(docLink);\n",
              "      }\n",
              "    </script>\n",
              "  </div>\n",
              "\n",
              "\n",
              "<div id=\"df-c40b6871-eedd-478e-aad2-ec528d0348ac\">\n",
              "  <button class=\"colab-df-quickchart\" onclick=\"quickchart('df-c40b6871-eedd-478e-aad2-ec528d0348ac')\"\n",
              "            title=\"Suggest charts\"\n",
              "            style=\"display:none;\">\n",
              "\n",
              "<svg xmlns=\"http://www.w3.org/2000/svg\" height=\"24px\"viewBox=\"0 0 24 24\"\n",
              "     width=\"24px\">\n",
              "    <g>\n",
              "        <path d=\"M19 3H5c-1.1 0-2 .9-2 2v14c0 1.1.9 2 2 2h14c1.1 0 2-.9 2-2V5c0-1.1-.9-2-2-2zM9 17H7v-7h2v7zm4 0h-2V7h2v10zm4 0h-2v-4h2v4z\"/>\n",
              "    </g>\n",
              "</svg>\n",
              "  </button>\n",
              "\n",
              "<style>\n",
              "  .colab-df-quickchart {\n",
              "      --bg-color: #E8F0FE;\n",
              "      --fill-color: #1967D2;\n",
              "      --hover-bg-color: #E2EBFA;\n",
              "      --hover-fill-color: #174EA6;\n",
              "      --disabled-fill-color: #AAA;\n",
              "      --disabled-bg-color: #DDD;\n",
              "  }\n",
              "\n",
              "  [theme=dark] .colab-df-quickchart {\n",
              "      --bg-color: #3B4455;\n",
              "      --fill-color: #D2E3FC;\n",
              "      --hover-bg-color: #434B5C;\n",
              "      --hover-fill-color: #FFFFFF;\n",
              "      --disabled-bg-color: #3B4455;\n",
              "      --disabled-fill-color: #666;\n",
              "  }\n",
              "\n",
              "  .colab-df-quickchart {\n",
              "    background-color: var(--bg-color);\n",
              "    border: none;\n",
              "    border-radius: 50%;\n",
              "    cursor: pointer;\n",
              "    display: none;\n",
              "    fill: var(--fill-color);\n",
              "    height: 32px;\n",
              "    padding: 0;\n",
              "    width: 32px;\n",
              "  }\n",
              "\n",
              "  .colab-df-quickchart:hover {\n",
              "    background-color: var(--hover-bg-color);\n",
              "    box-shadow: 0 1px 2px rgba(60, 64, 67, 0.3), 0 1px 3px 1px rgba(60, 64, 67, 0.15);\n",
              "    fill: var(--button-hover-fill-color);\n",
              "  }\n",
              "\n",
              "  .colab-df-quickchart-complete:disabled,\n",
              "  .colab-df-quickchart-complete:disabled:hover {\n",
              "    background-color: var(--disabled-bg-color);\n",
              "    fill: var(--disabled-fill-color);\n",
              "    box-shadow: none;\n",
              "  }\n",
              "\n",
              "  .colab-df-spinner {\n",
              "    border: 2px solid var(--fill-color);\n",
              "    border-color: transparent;\n",
              "    border-bottom-color: var(--fill-color);\n",
              "    animation:\n",
              "      spin 1s steps(1) infinite;\n",
              "  }\n",
              "\n",
              "  @keyframes spin {\n",
              "    0% {\n",
              "      border-color: transparent;\n",
              "      border-bottom-color: var(--fill-color);\n",
              "      border-left-color: var(--fill-color);\n",
              "    }\n",
              "    20% {\n",
              "      border-color: transparent;\n",
              "      border-left-color: var(--fill-color);\n",
              "      border-top-color: var(--fill-color);\n",
              "    }\n",
              "    30% {\n",
              "      border-color: transparent;\n",
              "      border-left-color: var(--fill-color);\n",
              "      border-top-color: var(--fill-color);\n",
              "      border-right-color: var(--fill-color);\n",
              "    }\n",
              "    40% {\n",
              "      border-color: transparent;\n",
              "      border-right-color: var(--fill-color);\n",
              "      border-top-color: var(--fill-color);\n",
              "    }\n",
              "    60% {\n",
              "      border-color: transparent;\n",
              "      border-right-color: var(--fill-color);\n",
              "    }\n",
              "    80% {\n",
              "      border-color: transparent;\n",
              "      border-right-color: var(--fill-color);\n",
              "      border-bottom-color: var(--fill-color);\n",
              "    }\n",
              "    90% {\n",
              "      border-color: transparent;\n",
              "      border-bottom-color: var(--fill-color);\n",
              "    }\n",
              "  }\n",
              "</style>\n",
              "\n",
              "  <script>\n",
              "    async function quickchart(key) {\n",
              "      const quickchartButtonEl =\n",
              "        document.querySelector('#' + key + ' button');\n",
              "      quickchartButtonEl.disabled = true;  // To prevent multiple clicks.\n",
              "      quickchartButtonEl.classList.add('colab-df-spinner');\n",
              "      try {\n",
              "        const charts = await google.colab.kernel.invokeFunction(\n",
              "            'suggestCharts', [key], {});\n",
              "      } catch (error) {\n",
              "        console.error('Error during call to suggestCharts:', error);\n",
              "      }\n",
              "      quickchartButtonEl.classList.remove('colab-df-spinner');\n",
              "      quickchartButtonEl.classList.add('colab-df-quickchart-complete');\n",
              "    }\n",
              "    (() => {\n",
              "      let quickchartButtonEl =\n",
              "        document.querySelector('#df-c40b6871-eedd-478e-aad2-ec528d0348ac button');\n",
              "      quickchartButtonEl.style.display =\n",
              "        google.colab.kernel.accessAllowed ? 'block' : 'none';\n",
              "    })();\n",
              "  </script>\n",
              "</div>\n",
              "\n",
              "    </div>\n",
              "  </div>\n"
            ],
            "text/plain": [
              "      target                                               text  line_number  \\\n",
              "0  OBJECTIVE  to investigate the efficacy of @ weeks of dail...            0   \n",
              "1    METHODS  a total of @ patients with primary knee oa wer...            1   \n",
              "2    METHODS  outcome measures included pain reduction and i...            2   \n",
              "3    METHODS  pain was assessed using the visual analog pain...            3   \n",
              "4    METHODS  secondary outcome measures included the wester...            4   \n",
              "\n",
              "   total_lines  \n",
              "0           11  \n",
              "1           11  \n",
              "2           11  \n",
              "3           11  \n",
              "4           11  "
            ]
          },
          "execution_count": 19,
          "metadata": {},
          "output_type": "execute_result"
        }
      ],
      "source": [
        "import pandas as pd\n",
        "train_df = pd.DataFrame(train_samples)\n",
        "val_df = pd.DataFrame(val_samples)\n",
        "test_df = pd.DataFrame(test_samples)\n",
        "train_df.head()"
      ]
    },
    {
      "cell_type": "code",
      "execution_count": null,
      "metadata": {
        "colab": {
          "base_uri": "https://localhost:8080/",
          "height": 272
        },
        "id": "c0qfh82Q9xrB",
        "outputId": "5ee38c75-0cbd-4971-fea3-15500f68915e"
      },
      "outputs": [
        {
          "data": {
            "text/html": [
              "<div>\n",
              "<style scoped>\n",
              "    .dataframe tbody tr th:only-of-type {\n",
              "        vertical-align: middle;\n",
              "    }\n",
              "\n",
              "    .dataframe tbody tr th {\n",
              "        vertical-align: top;\n",
              "    }\n",
              "\n",
              "    .dataframe thead th {\n",
              "        text-align: right;\n",
              "    }\n",
              "</style>\n",
              "<table border=\"1\" class=\"dataframe\">\n",
              "  <thead>\n",
              "    <tr style=\"text-align: right;\">\n",
              "      <th></th>\n",
              "      <th>count</th>\n",
              "    </tr>\n",
              "    <tr>\n",
              "      <th>target</th>\n",
              "      <th></th>\n",
              "    </tr>\n",
              "  </thead>\n",
              "  <tbody>\n",
              "    <tr>\n",
              "      <th>METHODS</th>\n",
              "      <td>59353</td>\n",
              "    </tr>\n",
              "    <tr>\n",
              "      <th>RESULTS</th>\n",
              "      <td>57953</td>\n",
              "    </tr>\n",
              "    <tr>\n",
              "      <th>CONCLUSIONS</th>\n",
              "      <td>27168</td>\n",
              "    </tr>\n",
              "    <tr>\n",
              "      <th>BACKGROUND</th>\n",
              "      <td>21727</td>\n",
              "    </tr>\n",
              "    <tr>\n",
              "      <th>OBJECTIVE</th>\n",
              "      <td>13839</td>\n",
              "    </tr>\n",
              "  </tbody>\n",
              "</table>\n",
              "</div><br><label><b>dtype:</b> int64</label>"
            ],
            "text/plain": [
              "target\n",
              "METHODS        59353\n",
              "RESULTS        57953\n",
              "CONCLUSIONS    27168\n",
              "BACKGROUND     21727\n",
              "OBJECTIVE      13839\n",
              "Name: count, dtype: int64"
            ]
          },
          "execution_count": 20,
          "metadata": {},
          "output_type": "execute_result"
        }
      ],
      "source": [
        "train_df.target.value_counts()"
      ]
    },
    {
      "cell_type": "code",
      "execution_count": null,
      "metadata": {
        "colab": {
          "base_uri": "https://localhost:8080/",
          "height": 449
        },
        "id": "YYZmMiP4-SLq",
        "outputId": "d1b0ea86-3a20-48c9-8f15-1bfa0f4a2782"
      },
      "outputs": [
        {
          "data": {
            "text/plain": [
              "<Axes: ylabel='Frequency'>"
            ]
          },
          "execution_count": 21,
          "metadata": {},
          "output_type": "execute_result"
        },
        {
          "data": {
            "image/png": "[encoded data removed]",
            "text/plain": [
              "<Figure size 640x480 with 1 Axes>"
            ]
          },
          "metadata": {},
          "output_type": "display_data"
        }
      ],
      "source": [
        "train_df.total_lines.plot.hist()"
      ]
    },
    {
      "cell_type": "code",
      "execution_count": null,
      "metadata": {
        "colab": {
          "base_uri": "https://localhost:8080/"
        },
        "id": "56P71PsR-dCL",
        "outputId": "3197e78f-f667-4d1a-9579-abf431dd44b7"
      },
      "outputs": [
        {
          "data": {
            "text/plain": [
              "(180040, 30135, 30212)"
            ]
          },
          "execution_count": 22,
          "metadata": {},
          "output_type": "execute_result"
        }
      ],
      "source": [
        "# Convert abstract text lines into into lines\n",
        "train_sentences = train_df['text'].tolist()\n",
        "val_sentences = val_df['text'].tolist()\n",
        "test_sentences = test_df['text'].tolist()\n",
        "len(train_sentences), len(test_sentences), len(val_sentences)"
      ]
    },
    {
      "cell_type": "code",
      "execution_count": null,
      "metadata": {
        "colab": {
          "base_uri": "https://localhost:8080/"
        },
        "id": "eA-TJe6HCRJQ",
        "outputId": "ec4ebc05-b62e-4b77-d7e0-7a468bba9381"
      },
      "outputs": [
        {
          "data": {
            "text/plain": [
              "['to investigate the efficacy of @ weeks of daily low-dose oral prednisolone in improving pain , mobility , and systemic low-grade inflammation in the short term and whether the effect would be sustained at @ weeks in older adults with moderate to severe knee osteoarthritis ( oa ) .',\n",
              " 'a total of @ patients with primary knee oa were randomized @:@ ; @ received @ mg/day of prednisolone and @ received placebo for @ weeks .',\n",
              " 'outcome measures included pain reduction and improvement in function scores and systemic inflammation markers .',\n",
              " 'pain was assessed using the visual analog pain scale ( @-@ mm ) .',\n",
              " 'secondary outcome measures included the western ontario and mcmaster universities osteoarthritis index scores , patient global assessment ( pga ) of the severity of knee oa , and @-min walk distance ( @mwd ) .',\n",
              " 'serum levels of interleukin @ ( il-@ ) , il-@ , tumor necrosis factor ( tnf ) - , and high-sensitivity c-reactive protein ( hscrp ) were measured .',\n",
              " 'there was a clinically relevant reduction in the intervention group compared to the placebo group for knee pain , physical function , pga , and @mwd at @ weeks .',\n",
              " 'the mean difference between treatment arms ( @ % ci ) was @ ( @-@ @ ) , p < @ ; @ ( @-@ @ ) , p < @ ; @ ( @-@ @ ) , p < @ ; and @ ( @-@ @ ) , p < @ , respectively .',\n",
              " 'further , there was a clinically relevant reduction in the serum levels of il-@ , il-@ , tnf - , and hscrp at @ weeks in the intervention group when compared to the placebo group .',\n",
              " 'these differences remained significant at @ weeks .']"
            ]
          },
          "execution_count": 23,
          "metadata": {},
          "output_type": "execute_result"
        }
      ],
      "source": [
        "train_sentences[:10]"
      ]
    },
    {
      "cell_type": "markdown",
      "metadata": {
        "id": "kPxdyeIBEeAb"
      },
      "source": [
        "# One Hot Ecoding Text"
      ]
    },
    {
      "cell_type": "code",
      "execution_count": null,
      "metadata": {
        "id": "0Iuutn4-CVgB"
      },
      "outputs": [],
      "source": [
        "# Converting sentences to numbers\n",
        "from sklearn.preprocessing import OneHotEncoder\n",
        "one_hot_encoder_1 = OneHotEncoder(sparse_output=False)\n",
        "train_labels_one_hot = one_hot_encoder_1.fit_transform(train_df['target'].to_numpy().reshape(-1,1))\n",
        "val_labels_one_hot = one_hot_encoder_1.fit_transform(val_df['target'].to_numpy().reshape(-1,1))\n",
        "test_labels_one_hot = one_hot_encoder_1.fit_transform(test_df['target'].to_numpy().reshape(-1,1))"
      ]
    },
    {
      "cell_type": "markdown",
      "metadata": {
        "id": "eoaohHiHEbhK"
      },
      "source": [
        "# Label Encoding Labels"
      ]
    },
    {
      "cell_type": "code",
      "execution_count": null,
      "metadata": {
        "id": "E36L76jzDjCw"
      },
      "outputs": [],
      "source": [
        "from sklearn.preprocessing import LabelEncoder\n",
        "label_encoder = LabelEncoder()\n",
        "train_label_encoded = label_encoder.fit_transform(train_df['target'].to_numpy())\n",
        "val_label_encoded = label_encoder.fit_transform(val_df['target'].to_numpy())\n",
        "test_label_encoded = label_encoder.fit_transform(test_df['target'].to_numpy())\n"
      ]
    },
    {
      "cell_type": "code",
      "execution_count": null,
      "metadata": {
        "colab": {
          "base_uri": "https://localhost:8080/"
        },
        "id": "3gAz9EmZDSEZ",
        "outputId": "c42e6907-7ff3-40b3-eb0d-cbec8f6d9415"
      },
      "outputs": [
        {
          "data": {
            "text/plain": [
              "(5,\n",
              " array(['BACKGROUND', 'CONCLUSIONS', 'METHODS', 'OBJECTIVE', 'RESULTS'],\n",
              "       dtype=object))"
            ]
          },
          "execution_count": 26,
          "metadata": {},
          "output_type": "execute_result"
        }
      ],
      "source": [
        "# Get class names and number of classes from LabelEncoder instance\n",
        "num_classes = len(label_encoder.classes_)\n",
        "class_names = label_encoder.classes_\n",
        "num_classes, class_names"
      ]
    },
    {
      "cell_type": "markdown",
      "metadata": {
        "id": "5Qqouyw-GBSB"
      },
      "source": [
        "# Baseline model\n",
        "\n",
        "Using TF-IDF Multinomial Naive Bayes Classifier"
      ]
    },
    {
      "cell_type": "code",
      "execution_count": null,
      "metadata": {
        "colab": {
          "base_uri": "https://localhost:8080/",
          "height": 126
        },
        "id": "gxTmGoYgFPCv",
        "outputId": "fe67bce8-7424-44f7-9233-730065eca268"
      },
      "outputs": [
        {
          "data": {
            "text/html": [
              "<style>#sk-container-id-1 {color: black;}#sk-container-id-1 pre{padding: 0;}#sk-container-id-1 div.sk-toggleable {background-color: white;}#sk-container-id-1 label.sk-toggleable__label {cursor: pointer;display: block;width: 100%;margin-bottom: 0;padding: 0.3em;box-sizing: border-box;text-align: center;}#sk-container-id-1 label.sk-toggleable__label-arrow:before {content: \"▸\";float: left;margin-right: 0.25em;color: #696969;}#sk-container-id-1 label.sk-toggleable__label-arrow:hover:before {color: black;}#sk-container-id-1 div.sk-estimator:hover label.sk-toggleable__label-arrow:before {color: black;}#sk-container-id-1 div.sk-toggleable__content {max-height: 0;max-width: 0;overflow: hidden;text-align: left;background-color: #f0f8ff;}#sk-container-id-1 div.sk-toggleable__content pre {margin: 0.2em;color: black;border-radius: 0.25em;background-color: #f0f8ff;}#sk-container-id-1 input.sk-toggleable__control:checked~div.sk-toggleable__content {max-height: 200px;max-width: 100%;overflow: auto;}#sk-container-id-1 input.sk-toggleable__control:checked~label.sk-toggleable__label-arrow:before {content: \"▾\";}#sk-container-id-1 div.sk-estimator input.sk-toggleable__control:checked~label.sk-toggleable__label {background-color: #d4ebff;}#sk-container-id-1 div.sk-label input.sk-toggleable__control:checked~label.sk-toggleable__label {background-color: #d4ebff;}#sk-container-id-1 input.sk-hidden--visually {border: 0;clip: rect(1px 1px 1px 1px);clip: rect(1px, 1px, 1px, 1px);height: 1px;margin: -1px;overflow: hidden;padding: 0;position: absolute;width: 1px;}#sk-container-id-1 div.sk-estimator {font-family: monospace;background-color: #f0f8ff;border: 1px dotted black;border-radius: 0.25em;box-sizing: border-box;margin-bottom: 0.5em;}#sk-container-id-1 div.sk-estimator:hover {background-color: #d4ebff;}#sk-container-id-1 div.sk-parallel-item::after {content: \"\";width: 100%;border-bottom: 1px solid gray;flex-grow: 1;}#sk-container-id-1 div.sk-label:hover label.sk-toggleable__label {background-color: #d4ebff;}#sk-container-id-1 div.sk-serial::before {content: \"\";position: absolute;border-left: 1px solid gray;box-sizing: border-box;top: 0;bottom: 0;left: 50%;z-index: 0;}#sk-container-id-1 div.sk-serial {display: flex;flex-direction: column;align-items: center;background-color: white;padding-right: 0.2em;padding-left: 0.2em;position: relative;}#sk-container-id-1 div.sk-item {position: relative;z-index: 1;}#sk-container-id-1 div.sk-parallel {display: flex;align-items: stretch;justify-content: center;background-color: white;position: relative;}#sk-container-id-1 div.sk-item::before, #sk-container-id-1 div.sk-parallel-item::before {content: \"\";position: absolute;border-left: 1px solid gray;box-sizing: border-box;top: 0;bottom: 0;left: 50%;z-index: -1;}#sk-container-id-1 div.sk-parallel-item {display: flex;flex-direction: column;z-index: 1;position: relative;background-color: white;}#sk-container-id-1 div.sk-parallel-item:first-child::after {align-self: flex-end;width: 50%;}#sk-container-id-1 div.sk-parallel-item:last-child::after {align-self: flex-start;width: 50%;}#sk-container-id-1 div.sk-parallel-item:only-child::after {width: 0;}#sk-container-id-1 div.sk-dashed-wrapped {border: 1px dashed gray;margin: 0 0.4em 0.5em 0.4em;box-sizing: border-box;padding-bottom: 0.4em;background-color: white;}#sk-container-id-1 div.sk-label label {font-family: monospace;font-weight: bold;display: inline-block;line-height: 1.2em;}#sk-container-id-1 div.sk-label-container {text-align: center;}#sk-container-id-1 div.sk-container {/* jupyter's `normalize.less` sets `[hidden] { display: none; }` but bootstrap.min.css set `[hidden] { display: none !important; }` so we also need the `!important` here to be able to override the default hidden behavior on the sphinx rendered scikit-learn.org. See: https://github.com/scikit-learn/scikit-learn/issues/21755 */display: inline-block !important;position: relative;}#sk-container-id-1 div.sk-text-repr-fallback {display: none;}</style><div id=\"sk-container-id-1\" class=\"sk-top-container\"><div class=\"sk-text-repr-fallback\"><pre>Pipeline(steps=[(&#x27;tf-idf&#x27;, TfidfVectorizer()), (&#x27;clf&#x27;, MultinomialNB())])</pre><b>In a Jupyter environment, please rerun this cell to show the HTML representation or trust the notebook. <br />On GitHub, the HTML representation is unable to render, please try loading this page with nbviewer.org.</b></div><div class=\"sk-container\" hidden><div class=\"sk-item sk-dashed-wrapped\"><div class=\"sk-label-container\"><div class=\"sk-label sk-toggleable\"><input class=\"sk-toggleable__control sk-hidden--visually\" id=\"sk-estimator-id-1\" type=\"checkbox\" ><label for=\"sk-estimator-id-1\" class=\"sk-toggleable__label sk-toggleable__label-arrow\">Pipeline</label><div class=\"sk-toggleable__content\"><pre>Pipeline(steps=[(&#x27;tf-idf&#x27;, TfidfVectorizer()), (&#x27;clf&#x27;, MultinomialNB())])</pre></div></div></div><div class=\"sk-serial\"><div class=\"sk-item\"><div class=\"sk-estimator sk-toggleable\"><input class=\"sk-toggleable__control sk-hidden--visually\" id=\"sk-estimator-id-2\" type=\"checkbox\" ><label for=\"sk-estimator-id-2\" class=\"sk-toggleable__label sk-toggleable__label-arrow\">TfidfVectorizer</label><div class=\"sk-toggleable__content\"><pre>TfidfVectorizer()</pre></div></div></div><div class=\"sk-item\"><div class=\"sk-estimator sk-toggleable\"><input class=\"sk-toggleable__control sk-hidden--visually\" id=\"sk-estimator-id-3\" type=\"checkbox\" ><label for=\"sk-estimator-id-3\" class=\"sk-toggleable__label sk-toggleable__label-arrow\">MultinomialNB</label><div class=\"sk-toggleable__content\"><pre>MultinomialNB()</pre></div></div></div></div></div></div></div>"
            ],
            "text/plain": [
              "Pipeline(steps=[('tf-idf', TfidfVectorizer()), ('clf', MultinomialNB())])"
            ]
          },
          "execution_count": 27,
          "metadata": {},
          "output_type": "execute_result"
        }
      ],
      "source": [
        "from sklearn.feature_extraction.text import TfidfVectorizer\n",
        "from sklearn.naive_bayes import MultinomialNB\n",
        "from sklearn.pipeline import Pipeline\n",
        "\n",
        "model_0 = Pipeline([\n",
        "    ('tf-idf', TfidfVectorizer()),\n",
        "    ('clf', MultinomialNB())\n",
        "])\n",
        "\n",
        "model_0.fit(X=train_sentences,\n",
        "            y=train_label_encoded)"
      ]
    },
    {
      "cell_type": "code",
      "execution_count": null,
      "metadata": {
        "colab": {
          "base_uri": "https://localhost:8080/"
        },
        "id": "-00hMJ9cHWmJ",
        "outputId": "a5a42662-cdab-48f7-ecb2-613ab6637ed5"
      },
      "outputs": [
        {
          "data": {
            "text/plain": [
              "0.7218323844829869"
            ]
          },
          "execution_count": 28,
          "metadata": {},
          "output_type": "execute_result"
        }
      ],
      "source": [
        "model_0.score(val_sentences, val_label_encoded)"
      ]
    },
    {
      "cell_type": "code",
      "execution_count": null,
      "metadata": {
        "id": "RcihLhL6IBdc"
      },
      "outputs": [],
      "source": [
        "baseline_preds = model_0.predict(val_sentences)"
      ]
    },
    {
      "cell_type": "code",
      "execution_count": null,
      "metadata": {
        "colab": {
          "base_uri": "https://localhost:8080/"
        },
        "id": "xwr_F8_tHe4n",
        "outputId": "9aeb115a-1715-46ae-e87f-59220e84825b"
      },
      "outputs": [
        {
          "data": {
            "text/plain": [
              "{'accuracy': 72.1832384482987,\n",
              " 'precision': 0.7186466952323352,\n",
              " 'recall': 0.7218323844829869,\n",
              " 'f1': 0.6989250353450294}"
            ]
          },
          "execution_count": 30,
          "metadata": {},
          "output_type": "execute_result"
        }
      ],
      "source": [
        "baseline_results = calculate_results(val_label_encoded, baseline_preds)\n",
        "baseline_results"
      ]
    },
    {
      "cell_type": "markdown",
      "metadata": {
        "id": "qSCE3H-jJOIu"
      },
      "source": [
        "# Vectorization of input data"
      ]
    },
    {
      "cell_type": "code",
      "execution_count": null,
      "metadata": {
        "id": "Xw7sfzfHIZrA"
      },
      "outputs": [],
      "source": [
        "import numpy as np\n",
        "import tensorflow as tf\n",
        "from tensorflow.keras import layers"
      ]
    },
    {
      "cell_type": "code",
      "execution_count": null,
      "metadata": {
        "colab": {
          "base_uri": "https://localhost:8080/"
        },
        "id": "eZzwApZfQrcu",
        "outputId": "e7be82ce-1a48-41ab-c0db-9a8b9d98089b"
      },
      "outputs": [
        {
          "name": "stdout",
          "output_type": "stream",
          "text": [
            "Num GPUs Available:  1\n"
          ]
        }
      ],
      "source": [
        "print(\"Num GPUs Available: \", len(tf.config.list_physical_devices('GPU')))"
      ]
    },
    {
      "cell_type": "code",
      "execution_count": null,
      "metadata": {
        "colab": {
          "base_uri": "https://localhost:8080/"
        },
        "id": "UebndfPCKJm8",
        "outputId": "7e99b99a-8efc-41da-eefa-9157301977d7"
      },
      "outputs": [
        {
          "data": {
            "text/plain": [
              "26.338269273494777"
            ]
          },
          "execution_count": 33,
          "metadata": {},
          "output_type": "execute_result"
        }
      ],
      "source": [
        "sent_length = [len(sentence.split()) for sentence in train_sentences]\n",
        "avg_sent_len = np.mean(sent_length)\n",
        "avg_sent_len"
      ]
    },
    {
      "cell_type": "code",
      "execution_count": null,
      "metadata": {
        "colab": {
          "base_uri": "https://localhost:8080/",
          "height": 573
        },
        "id": "1G34-UeULiAH",
        "outputId": "ed32b20d-ee55-4d9c-dfac-b5c6dd283d0b"
      },
      "outputs": [
        {
          "data": {
            "text/plain": [
              "(array([4.2075e+04, 8.3771e+04, 3.6877e+04, 1.0945e+04, 3.9310e+03,\n",
              "        1.4450e+03, 5.6000e+02, 2.2600e+02, 1.0100e+02, 4.5000e+01,\n",
              "        2.0000e+01, 1.2000e+01, 9.0000e+00, 1.0000e+01, 6.0000e+00,\n",
              "        2.0000e+00, 3.0000e+00, 0.0000e+00, 1.0000e+00, 1.0000e+00]),\n",
              " array([  1.  ,  15.75,  30.5 ,  45.25,  60.  ,  74.75,  89.5 , 104.25,\n",
              "        119.  , 133.75, 148.5 , 163.25, 178.  , 192.75, 207.5 , 222.25,\n",
              "        237.  , 251.75, 266.5 , 281.25, 296.  ]),\n",
              " <BarContainer object of 20 artists>)"
            ]
          },
          "execution_count": 34,
          "metadata": {},
          "output_type": "execute_result"
        },
        {
          "data": {
            "image/png": "[encoded data removed]",
            "text/plain": [
              "<Figure size 640x480 with 1 Axes>"
            ]
          },
          "metadata": {},
          "output_type": "display_data"
        }
      ],
      "source": [
        "import matplotlib.pyplot as plt\n",
        "plt.hist(sent_length, bins=20)"
      ]
    },
    {
      "cell_type": "code",
      "execution_count": null,
      "metadata": {
        "colab": {
          "base_uri": "https://localhost:8080/"
        },
        "id": "Jgcv_mnsNZTu",
        "outputId": "68879ae5-4600-4162-ddd5-05ce5f550868"
      },
      "outputs": [
        {
          "data": {
            "text/plain": [
              "55"
            ]
          },
          "execution_count": 35,
          "metadata": {},
          "output_type": "execute_result"
        }
      ],
      "source": [
        "# Getting length that is greater than 95% of sentence lengths\n",
        "output_seq_len = int(np.percentile(sent_length, 95))\n",
        "output_seq_len"
      ]
    },
    {
      "cell_type": "code",
      "execution_count": null,
      "metadata": {
        "colab": {
          "base_uri": "https://localhost:8080/"
        },
        "id": "K0gz05psQi5R",
        "outputId": "cff8cc5c-9b04-465d-d77d-cff2b3fbd6e3"
      },
      "outputs": [
        {
          "data": {
            "text/plain": [
              "296"
            ]
          },
          "execution_count": 36,
          "metadata": {},
          "output_type": "execute_result"
        }
      ],
      "source": [
        "max(sent_length)"
      ]
    },
    {
      "cell_type": "code",
      "execution_count": null,
      "metadata": {
        "id": "Zo-ZZBzKQo1P"
      },
      "outputs": [],
      "source": [
        "#(taken from 3.2 in https://arxiv.org/pdf/1710.06071.pdf)\n",
        "max_tokens = 70000 # Rounding off to nearest 10k"
      ]
    },
    {
      "cell_type": "code",
      "execution_count": null,
      "metadata": {
        "id": "pPyITZ1nRv12"
      },
      "outputs": [],
      "source": [
        "from tensorflow.keras.layers import TextVectorization\n",
        "\n",
        "text_vectorizer = TextVectorization(max_tokens=max_tokens, # number of words in vocabulary\n",
        "                                    output_sequence_length=55)"
      ]
    },
    {
      "cell_type": "code",
      "execution_count": null,
      "metadata": {
        "id": "Kt1zrDE0SRYM"
      },
      "outputs": [],
      "source": [
        "# Adapt text vectorizer to training sentences\n",
        "text_vectorizer.adapt(train_sentences)"
      ]
    },
    {
      "cell_type": "code",
      "execution_count": null,
      "metadata": {
        "colab": {
          "base_uri": "https://localhost:8080/"
        },
        "id": "ri6AdK6tQrcx",
        "outputId": "011bab02-5d6d-46a1-ea12-9482c4631ceb"
      },
      "outputs": [
        {
          "name": "stdout",
          "output_type": "stream",
          "text": [
            "Text: \n",
            "there was a significant difference in favour of air-polishing for the perception of pain/discomfort .\n",
            "\n",
            "Length of text:15\n",
            "\n",
            "Vectorized text: [[   61    10     8    37    74     5  4243     4 27532    11     2  1569\n",
            "      4 13092     0     0     0     0     0     0     0     0     0     0\n",
            "      0     0     0     0     0     0     0     0     0     0     0     0\n",
            "      0     0     0     0     0     0     0     0     0     0     0     0\n",
            "      0     0     0     0     0     0     0]]\n"
          ]
        }
      ],
      "source": [
        "import random\n",
        "target_sentence = random.choice(train_sentences)\n",
        "print(f'Text: \\n{target_sentence}')\n",
        "print(f'\\nLength of text:{len(target_sentence.split())}')\n",
        "print(f'\\nVectorized text: {text_vectorizer([target_sentence])}')"
      ]
    },
    {
      "cell_type": "code",
      "execution_count": null,
      "metadata": {
        "colab": {
          "base_uri": "https://localhost:8080/"
        },
        "id": "Uz1yGh2-Qrcx",
        "outputId": "0a51d1fb-4ccb-4588-86cf-6ee4ab830f19"
      },
      "outputs": [
        {
          "name": "stdout",
          "output_type": "stream",
          "text": [
            "Most common words: ['', '[UNK]', 'the', 'and', 'of']\n",
            "Least common words: ['aainduced', 'aaigroup', 'aachener', 'aachen', 'aaacp']\n"
          ]
        }
      ],
      "source": [
        "text_vocab = text_vectorizer.get_vocabulary()\n",
        "len(text_vocab)\n",
        "print(f'Most common words: {text_vocab[:5]}')\n",
        "print(f'Least common words: {text_vocab[-5:]}')"
      ]
    },
    {
      "cell_type": "code",
      "execution_count": null,
      "metadata": {
        "colab": {
          "base_uri": "https://localhost:8080/"
        },
        "id": "A_3X5nvmQrcy",
        "outputId": "04663dce-e278-4a8c-c694-96e04cc562cc"
      },
      "outputs": [
        {
          "data": {
            "text/plain": [
              "['',\n",
              " '[UNK]',\n",
              " 'the',\n",
              " 'and',\n",
              " 'of',\n",
              " 'in',\n",
              " 'to',\n",
              " 'with',\n",
              " 'a',\n",
              " 'were',\n",
              " 'was',\n",
              " 'for',\n",
              " 'patients',\n",
              " 'group',\n",
              " 'p',\n",
              " 'at',\n",
              " 'or',\n",
              " 'study',\n",
              " 'on',\n",
              " 'treatment',\n",
              " 'is',\n",
              " 'after',\n",
              " 'by',\n",
              " 'this',\n",
              " 'groups',\n",
              " 'as',\n",
              " 'an',\n",
              " 'from',\n",
              " 'that',\n",
              " 'randomized',\n",
              " 'between',\n",
              " 'not',\n",
              " 'trial',\n",
              " 'no',\n",
              " 'compared',\n",
              " 'control',\n",
              " 'be',\n",
              " 'significant',\n",
              " 'intervention',\n",
              " 'significantly',\n",
              " 'n',\n",
              " 'months',\n",
              " 'than',\n",
              " 'we',\n",
              " 'vs',\n",
              " 'rsb',\n",
              " 'lsb',\n",
              " 'clinical',\n",
              " 'placebo',\n",
              " 'baseline',\n",
              " 'ci',\n",
              " 'two',\n",
              " 'during',\n",
              " 'weeks',\n",
              " 'both',\n",
              " 'had',\n",
              " 'primary',\n",
              " 'mean',\n",
              " 'are',\n",
              " 'using',\n",
              " 'participants',\n",
              " 'there',\n",
              " 'all',\n",
              " 'time',\n",
              " 'years',\n",
              " 'pain',\n",
              " 'therapy',\n",
              " 'who',\n",
              " 'mg',\n",
              " 'more',\n",
              " 'effect',\n",
              " 'effects',\n",
              " 'but',\n",
              " 'risk',\n",
              " 'difference',\n",
              " 'outcomes',\n",
              " 'total',\n",
              " 'care',\n",
              " 'rate',\n",
              " 'efficacy',\n",
              " 'received',\n",
              " 'associated',\n",
              " 'higher',\n",
              " 'respectively',\n",
              " 'days',\n",
              " 'analysis',\n",
              " 'outcome',\n",
              " 'use',\n",
              " 'one',\n",
              " 'week',\n",
              " 'women',\n",
              " 'may',\n",
              " 'randomly',\n",
              " 'levels',\n",
              " 'followup',\n",
              " 'will',\n",
              " 'increased',\n",
              " 'health',\n",
              " 'used',\n",
              " 'have',\n",
              " 'data',\n",
              " 'score',\n",
              " 'differences',\n",
              " 'age',\n",
              " 'subjects',\n",
              " 'lower',\n",
              " 'controlled',\n",
              " 'blood',\n",
              " 'day',\n",
              " 'children',\n",
              " 'versus',\n",
              " 'these',\n",
              " 'did',\n",
              " 'assessed',\n",
              " 'disease',\n",
              " 'surgery',\n",
              " 'among',\n",
              " 'results',\n",
              " 'adverse',\n",
              " 'scores',\n",
              " 'their',\n",
              " 'included',\n",
              " 'each',\n",
              " 'assigned',\n",
              " 'events',\n",
              " 'those',\n",
              " 'which',\n",
              " 'patient',\n",
              " 'test',\n",
              " 'before',\n",
              " 's',\n",
              " 'dose',\n",
              " 'either',\n",
              " 'change',\n",
              " 'three',\n",
              " 'cancer',\n",
              " 'safety',\n",
              " 'effective',\n",
              " 'also',\n",
              " 'has',\n",
              " 'however',\n",
              " 'quality',\n",
              " 'response',\n",
              " 'into',\n",
              " 'symptoms',\n",
              " 'over',\n",
              " 'changes',\n",
              " 'showed',\n",
              " 'observed',\n",
              " 'function',\n",
              " 'similar',\n",
              " 'secondary',\n",
              " 'first',\n",
              " 'performed',\n",
              " 'number',\n",
              " 'training',\n",
              " 'measured',\n",
              " 'year',\n",
              " 'scale',\n",
              " 'without',\n",
              " 'per',\n",
              " 'daily',\n",
              " 'rates',\n",
              " 'postoperative',\n",
              " 'evaluate',\n",
              " 'standard',\n",
              " 'ratio',\n",
              " 'been',\n",
              " 'other',\n",
              " 'reduction',\n",
              " 'improved',\n",
              " 'can',\n",
              " 'treated',\n",
              " 'period',\n",
              " 'weight',\n",
              " 'receive',\n",
              " 'nct',\n",
              " 'exercise',\n",
              " 'month',\n",
              " 'increase',\n",
              " 'whether',\n",
              " 'high',\n",
              " 'greater',\n",
              " 'when',\n",
              " 'evaluated',\n",
              " 'it',\n",
              " 'b',\n",
              " 'd',\n",
              " 'overall',\n",
              " 'physical',\n",
              " 'activity',\n",
              " 'reduced',\n",
              " 'only',\n",
              " 'median',\n",
              " 'improvement',\n",
              " 'life',\n",
              " 'h',\n",
              " 'different',\n",
              " 'conducted',\n",
              " 'end',\n",
              " 'pressure',\n",
              " 'survival',\n",
              " 'studies',\n",
              " 'index',\n",
              " 'level',\n",
              " 'reported',\n",
              " 't',\n",
              " 'arm',\n",
              " 'found',\n",
              " 'phase',\n",
              " 'randomised',\n",
              " 'less',\n",
              " 'decreased',\n",
              " 'measures',\n",
              " 'incidence',\n",
              " 'most',\n",
              " 'assess',\n",
              " 'oral',\n",
              " 'improve',\n",
              " 'within',\n",
              " 'low',\n",
              " 'well',\n",
              " 'interval',\n",
              " 'diabetes',\n",
              " 'early',\n",
              " 'serum',\n",
              " 'compare',\n",
              " 'hours',\n",
              " 'determine',\n",
              " 'acute',\n",
              " 'enrolled',\n",
              " 'plus',\n",
              " 'statistically',\n",
              " 'trials',\n",
              " 'mm',\n",
              " 'confidence',\n",
              " 'doubleblind',\n",
              " 'hospital',\n",
              " 'g',\n",
              " 'body',\n",
              " 'following',\n",
              " 'prospective',\n",
              " 'min',\n",
              " 'c',\n",
              " 'chronic',\n",
              " 'receiving',\n",
              " 'our',\n",
              " 'healthy',\n",
              " 'type',\n",
              " 'plasma',\n",
              " 'assessment',\n",
              " 'including',\n",
              " 'better',\n",
              " 'completed',\n",
              " 'factors',\n",
              " 'depression',\n",
              " 'program',\n",
              " 'effectiveness',\n",
              " 'while',\n",
              " 'mortality',\n",
              " 'heart',\n",
              " 'based',\n",
              " 'any',\n",
              " 'cases',\n",
              " 'loss',\n",
              " 'interventions',\n",
              " 'adults',\n",
              " 'aim',\n",
              " 'glucose',\n",
              " 'combination',\n",
              " 'reduce',\n",
              " 'alone',\n",
              " 'status',\n",
              " 'hr',\n",
              " 'medical',\n",
              " 'clinicaltrialsgov',\n",
              " 'stroke',\n",
              " 'insulin',\n",
              " 'population',\n",
              " 'support',\n",
              " 'positive',\n",
              " 'could',\n",
              " 'duration',\n",
              " 'range',\n",
              " 'followed',\n",
              " 'research',\n",
              " 'combined',\n",
              " 'management',\n",
              " 'administration',\n",
              " 'severe',\n",
              " 'visual',\n",
              " 'analyses',\n",
              " 'failure',\n",
              " 'performance',\n",
              " 'point',\n",
              " 'undergoing',\n",
              " 'complications',\n",
              " 'four',\n",
              " 'further',\n",
              " 'evidence',\n",
              " 'drug',\n",
              " 'cognitive',\n",
              " 'points',\n",
              " 'up',\n",
              " 'functional',\n",
              " 'impact',\n",
              " 'surgical',\n",
              " 'aged',\n",
              " 'its',\n",
              " 'men',\n",
              " 'findings',\n",
              " 'although',\n",
              " 'single',\n",
              " 'through',\n",
              " 'model',\n",
              " 'parameters',\n",
              " 'they',\n",
              " 'common',\n",
              " 'decrease',\n",
              " 'new',\n",
              " 'medication',\n",
              " 'doses',\n",
              " 'least',\n",
              " 'cardiovascular',\n",
              " 'if',\n",
              " 'questionnaire',\n",
              " 'volume',\n",
              " 'active',\n",
              " 'related',\n",
              " 'placebocontrolled',\n",
              " 'given',\n",
              " 'investigate',\n",
              " 'severity',\n",
              " 'addition',\n",
              " 'values',\n",
              " 'longterm',\n",
              " 'administered',\n",
              " 'infants',\n",
              " 'about',\n",
              " 'death',\n",
              " 'minutes',\n",
              " 'concentrations',\n",
              " 'cardiac',\n",
              " 'potential',\n",
              " 'occurred',\n",
              " 'such',\n",
              " 'coronary',\n",
              " 'major',\n",
              " 'individuals',\n",
              " 'endpoint',\n",
              " 'older',\n",
              " 'general',\n",
              " 'underwent',\n",
              " 'under',\n",
              " 'sleep',\n",
              " 'system',\n",
              " 'six',\n",
              " 'sd',\n",
              " 'm',\n",
              " 'current',\n",
              " 'infection',\n",
              " 'times',\n",
              " 'moderate',\n",
              " 'method',\n",
              " 'ml',\n",
              " 'additional',\n",
              " 'conventional',\n",
              " 'objective',\n",
              " 'muscle',\n",
              " 'present',\n",
              " 'usual',\n",
              " 'demonstrated',\n",
              " 'design',\n",
              " 'acupuncture',\n",
              " 'according',\n",
              " 'size',\n",
              " 'diet',\n",
              " 'treatments',\n",
              " 'ii',\n",
              " 'allocated',\n",
              " 'information',\n",
              " 'evaluation',\n",
              " 'recorded',\n",
              " 'relative',\n",
              " 'analyzed',\n",
              " 'mass',\n",
              " 'acid',\n",
              " 'screening',\n",
              " 'regression',\n",
              " 'i',\n",
              " 'injection',\n",
              " 'criteria',\n",
              " 'syndrome',\n",
              " 'recovery',\n",
              " 'registered',\n",
              " 'characteristics',\n",
              " 'protein',\n",
              " 'measure',\n",
              " 'benefit',\n",
              " 'intake',\n",
              " 'frequency',\n",
              " 'stress',\n",
              " 'protocol',\n",
              " 'prevention',\n",
              " 'recruited',\n",
              " 'average',\n",
              " 'should',\n",
              " 'procedure',\n",
              " 'improvements',\n",
              " 'experimental',\n",
              " 'bone',\n",
              " 'adjusted',\n",
              " 'vitamin',\n",
              " 'breast',\n",
              " 'provide',\n",
              " 'chemotherapy',\n",
              " 'sessions',\n",
              " 'normal',\n",
              " 'every',\n",
              " 'consumption',\n",
              " 'suggest',\n",
              " 'comparison',\n",
              " 'concentration',\n",
              " 'association',\n",
              " 'condition',\n",
              " 'smoking',\n",
              " 'hazard',\n",
              " 'anxiety',\n",
              " 'satisfaction',\n",
              " 'adherence',\n",
              " 'important',\n",
              " 'same',\n",
              " 'factor',\n",
              " 'education',\n",
              " 'due',\n",
              " 'anesthesia',\n",
              " 'whereas',\n",
              " 'examined',\n",
              " 'therapeutic',\n",
              " 'once',\n",
              " 'needed',\n",
              " 'sample',\n",
              " 'responses',\n",
              " 'proportion',\n",
              " 'collected',\n",
              " 'grade',\n",
              " 'investigated',\n",
              " 'aimed',\n",
              " 'symptom',\n",
              " 'area',\n",
              " 'practice',\n",
              " 'reducing',\n",
              " 'prior',\n",
              " 'approach',\n",
              " 'achieved',\n",
              " 'exposure',\n",
              " 'bmi',\n",
              " 'social',\n",
              " 'conditions',\n",
              " 'controls',\n",
              " 'il',\n",
              " 'alcohol',\n",
              " 'statistical',\n",
              " 'clinically',\n",
              " 'supplementation',\n",
              " 'stimulation',\n",
              " 'multiple',\n",
              " 'percentage',\n",
              " 'previous',\n",
              " 'negative',\n",
              " 'cohort',\n",
              " 'divided',\n",
              " 'defined',\n",
              " 'initial',\n",
              " 'renal',\n",
              " 'technique',\n",
              " 'models',\n",
              " 'myocardial',\n",
              " 'cd',\n",
              " 'delivery',\n",
              " 'second',\n",
              " 'developed',\n",
              " 'required',\n",
              " 'need',\n",
              " 'crossover',\n",
              " 'provided',\n",
              " 'mental',\n",
              " 'five',\n",
              " 'complete',\n",
              " 'lung',\n",
              " 'arms',\n",
              " 'r',\n",
              " 'target',\n",
              " 'side',\n",
              " 'knowledge',\n",
              " 'would',\n",
              " 'superior',\n",
              " 'vaccine',\n",
              " 'variables',\n",
              " 'progression',\n",
              " 'hiv',\n",
              " 'development',\n",
              " 'multicenter',\n",
              " 'injury',\n",
              " 'resistance',\n",
              " 'determined',\n",
              " 'bleeding',\n",
              " 'cell',\n",
              " 'out',\n",
              " 'sensitivity',\n",
              " 'kg',\n",
              " 'intravenous',\n",
              " 'shown',\n",
              " 'samples',\n",
              " 'safe',\n",
              " 'students',\n",
              " 'then',\n",
              " 'knee',\n",
              " 'eligible',\n",
              " 'people',\n",
              " 'cm',\n",
              " 'small',\n",
              " 'vas',\n",
              " 'length',\n",
              " 'main',\n",
              " 'infusion',\n",
              " 'identified',\n",
              " 'obtained',\n",
              " 'serious',\n",
              " 'value',\n",
              " 'rehabilitation',\n",
              " 'stage',\n",
              " 'likely',\n",
              " 'mild',\n",
              " 'examine',\n",
              " 'considered',\n",
              " 'diagnosis',\n",
              " 'across',\n",
              " 'skin',\n",
              " 'regarding',\n",
              " 'pregnancy',\n",
              " 'strength',\n",
              " 'because',\n",
              " 'artery',\n",
              " 'differ',\n",
              " 'large',\n",
              " 'role',\n",
              " 'hundred',\n",
              " 'home',\n",
              " 'tests',\n",
              " 'comparable',\n",
              " 'applied',\n",
              " 'recurrence',\n",
              " 'increases',\n",
              " 'iii',\n",
              " 'twice',\n",
              " 'independent',\n",
              " 'improving',\n",
              " 'block',\n",
              " 'available',\n",
              " 'designed',\n",
              " 'disorder',\n",
              " 'pulmonary',\n",
              " 'odds',\n",
              " 'male',\n",
              " 'individual',\n",
              " 'dietary',\n",
              " 'tested',\n",
              " 'resulted',\n",
              " 'asthma',\n",
              " 'openlabel',\n",
              " 'being',\n",
              " 'eyes',\n",
              " 'cholesterol',\n",
              " 'testing',\n",
              " 'increasing',\n",
              " 'regimen',\n",
              " 'costs',\n",
              " 'methods',\n",
              " 'intensity',\n",
              " 'tolerated',\n",
              " 'experienced',\n",
              " 'comparing',\n",
              " 'longer',\n",
              " 'some',\n",
              " 'local',\n",
              " 'cells',\n",
              " 'blinded',\n",
              " 'advanced',\n",
              " 'respiratory',\n",
              " 'fat',\n",
              " 'measurements',\n",
              " 'prostate',\n",
              " 'benefits',\n",
              " 'identifier',\n",
              " 'randomization',\n",
              " 'profile',\n",
              " 'estimated',\n",
              " 'via',\n",
              " 'modified',\n",
              " 'motor',\n",
              " 'left',\n",
              " 'adult',\n",
              " 'stay',\n",
              " 'liver',\n",
              " 'interaction',\n",
              " 'strategy',\n",
              " 'monitoring',\n",
              " 'cost',\n",
              " 'qol',\n",
              " 'continuous',\n",
              " 'success',\n",
              " 'disability',\n",
              " 'community',\n",
              " 'terms',\n",
              " 'hbac',\n",
              " 'urinary',\n",
              " 'oxygen',\n",
              " 'mgkg',\n",
              " 'female',\n",
              " 'visits',\n",
              " 'growth',\n",
              " 'saline',\n",
              " 'brain',\n",
              " 'post',\n",
              " 'drugs',\n",
              " 'reductions',\n",
              " 'maintenance',\n",
              " 'specific',\n",
              " 'hour',\n",
              " 'selected',\n",
              " 'human',\n",
              " 'weekly',\n",
              " 'routine',\n",
              " 'until',\n",
              " 'maximum',\n",
              " 'inflammation',\n",
              " 'include',\n",
              " 'lesions',\n",
              " 'relationship',\n",
              " 'might',\n",
              " 'infarction',\n",
              " 'intensive',\n",
              " 'despite',\n",
              " 'against',\n",
              " 'endpoints',\n",
              " 'influence',\n",
              " 'global',\n",
              " 'fatigue',\n",
              " 'depressive',\n",
              " 'prevalence',\n",
              " 'iv',\n",
              " 'future',\n",
              " 'os',\n",
              " 'short',\n",
              " 'open',\n",
              " 'course',\n",
              " 'assessments',\n",
              " 'sites',\n",
              " 'hypertension',\n",
              " 'previously',\n",
              " 'food',\n",
              " 'fasting',\n",
              " 'ct',\n",
              " 'bp',\n",
              " 'limited',\n",
              " 'larger',\n",
              " 'strategies',\n",
              " 'l',\n",
              " 'tissue',\n",
              " 'systemic',\n",
              " 'metabolic',\n",
              " 'eye',\n",
              " 'analgesia',\n",
              " 'site',\n",
              " 'event',\n",
              " 'setting',\n",
              " 'parents',\n",
              " 'arterial',\n",
              " 'application',\n",
              " 'systolic',\n",
              " 'central',\n",
              " 'known',\n",
              " 'seen',\n",
              " 'behavior',\n",
              " 'studied',\n",
              " 'inflammatory',\n",
              " 'adolescents',\n",
              " 'imaging',\n",
              " 'pilot',\n",
              " 'peak',\n",
              " 'session',\n",
              " 'result',\n",
              " 'sex',\n",
              " 'mmhg',\n",
              " 'purpose',\n",
              " 'discharge',\n",
              " 'work',\n",
              " 'th',\n",
              " 'rating',\n",
              " 'obese',\n",
              " 'operation',\n",
              " 'feasibility',\n",
              " 'improves',\n",
              " 'fewer',\n",
              " 'procedures',\n",
              " 'behavioral',\n",
              " 'preoperative',\n",
              " 'national',\n",
              " 'therefore',\n",
              " 'laser',\n",
              " 'does',\n",
              " 'diagnostic',\n",
              " 'capacity',\n",
              " 'expression',\n",
              " 'identify',\n",
              " 'poor',\n",
              " 'kidney',\n",
              " 'dysfunction',\n",
              " 'skills',\n",
              " 'detected',\n",
              " 'postoperatively',\n",
              " 'shorter',\n",
              " 'laparoscopic',\n",
              " 'tumor',\n",
              " 'device',\n",
              " 'history',\n",
              " 'andor',\n",
              " 'young',\n",
              " 'stable',\n",
              " 'recommended',\n",
              " 'noninferiority',\n",
              " 'part',\n",
              " 'treat',\n",
              " 'child',\n",
              " 'university',\n",
              " 'confirmed',\n",
              " 'wound',\n",
              " 'inhibitor',\n",
              " 'composite',\n",
              " 'ventilation',\n",
              " 'novel',\n",
              " 'affect',\n",
              " 'abdominal',\n",
              " 'mgday',\n",
              " 'good',\n",
              " 'receptor',\n",
              " 'markers',\n",
              " 'beneficial',\n",
              " 'visit',\n",
              " 'nasal',\n",
              " 'disorders',\n",
              " 'correlated',\n",
              " 'consecutive',\n",
              " 'implementation',\n",
              " 'programme',\n",
              " 'energy',\n",
              " 'calculated',\n",
              " 'vascular',\n",
              " 'immediately',\n",
              " 'eight',\n",
              " 'ischemic',\n",
              " 'copd',\n",
              " 'upper',\n",
              " 'sodium',\n",
              " 'flow',\n",
              " 'examination',\n",
              " 'diagnosed',\n",
              " 'center',\n",
              " 'f',\n",
              " 'birth',\n",
              " 'volunteers',\n",
              " 'mgdl',\n",
              " 'ventricular',\n",
              " 'linear',\n",
              " 'alternative',\n",
              " 'possible',\n",
              " 'infections',\n",
              " 'induction',\n",
              " 'onset',\n",
              " 'contrast',\n",
              " 'sustained',\n",
              " 'revealed',\n",
              " 'hf',\n",
              " 'often',\n",
              " 'delivered',\n",
              " 'sham',\n",
              " 'report',\n",
              " 'stent',\n",
              " 'correlation',\n",
              " 'functioning',\n",
              " 'family',\n",
              " 'remained',\n",
              " 'obesity',\n",
              " 'experience',\n",
              " 'percent',\n",
              " 'fluid',\n",
              " 'presence',\n",
              " 'impairment',\n",
              " 'selfreported',\n",
              " 'intentiontotreat',\n",
              " 'problems',\n",
              " 'auc',\n",
              " 'traditional',\n",
              " 'affected',\n",
              " 'ability',\n",
              " 'psychological',\n",
              " 'morbidity',\n",
              " 'indicated',\n",
              " 'sexual',\n",
              " 'stratified',\n",
              " 'isrctn',\n",
              " 'show',\n",
              " 'perceived',\n",
              " 'resection',\n",
              " 'walking',\n",
              " 'final',\n",
              " 'power',\n",
              " 'repeated',\n",
              " 'practices',\n",
              " 'participated',\n",
              " 'access',\n",
              " 'subjective',\n",
              " 'maternal',\n",
              " 'techniques',\n",
              " 'case',\n",
              " 'calcium',\n",
              " 'reduces',\n",
              " 'provides',\n",
              " 'process',\n",
              " 'predicted',\n",
              " 'injections',\n",
              " 'mixed',\n",
              " 'tolerability',\n",
              " 'observation',\n",
              " 'unit',\n",
              " 'elderly',\n",
              " 'remission',\n",
              " 'peripheral',\n",
              " 'lifestyle',\n",
              " 'airway',\n",
              " 'spinal',\n",
              " 'intraoperative',\n",
              " 'hospitalization',\n",
              " 'activities',\n",
              " 'successful',\n",
              " 'school',\n",
              " 'intubation',\n",
              " 'international',\n",
              " 'very',\n",
              " 'us',\n",
              " 'taken',\n",
              " 'subsequent',\n",
              " 'subgroup',\n",
              " 'shortterm',\n",
              " 'hg',\n",
              " 'chinese',\n",
              " 'recurrent',\n",
              " 'induced',\n",
              " 'clinic',\n",
              " 'mmoll',\n",
              " 'many',\n",
              " 'highly',\n",
              " 'maintained',\n",
              " 'lipid',\n",
              " 'pfs',\n",
              " 'containing',\n",
              " 'prevent',\n",
              " 'pd',\n",
              " 'later',\n",
              " 'ie',\n",
              " 'drinking',\n",
              " 'smokers',\n",
              " 'significance',\n",
              " 'sedation',\n",
              " 'atrial',\n",
              " 'remains',\n",
              " 'feedback',\n",
              " 'parallel',\n",
              " 'predictive',\n",
              " 'laboratory',\n",
              " 'several',\n",
              " 'iqr',\n",
              " 'cervical',\n",
              " 'symptomatic',\n",
              " 'survey',\n",
              " 'metformin',\n",
              " 'cause',\n",
              " 'thickness',\n",
              " 'rr',\n",
              " 'intervals',\n",
              " 'random',\n",
              " 'nerve',\n",
              " 'ms',\n",
              " 'explore',\n",
              " 'memory',\n",
              " 'hand',\n",
              " 'centers',\n",
              " 'how',\n",
              " 'few',\n",
              " 'balance',\n",
              " 'curve',\n",
              " 'ultrasound',\n",
              " 'aes',\n",
              " 'educational',\n",
              " 'consistent',\n",
              " 'pci',\n",
              " 'ngml',\n",
              " 'suggests',\n",
              " 'help',\n",
              " 'af',\n",
              " 'throughout',\n",
              " 'gastric',\n",
              " 'questionnaires',\n",
              " 'propofol',\n",
              " 'dosing',\n",
              " 'continued',\n",
              " 'state',\n",
              " 'radiation',\n",
              " 'last',\n",
              " 'form',\n",
              " 'emergency',\n",
              " 'solution',\n",
              " 'order',\n",
              " 'achieve',\n",
              " 'elevated',\n",
              " 'cessation',\n",
              " 'thus',\n",
              " 'seven',\n",
              " 'minute',\n",
              " 'hypothesis',\n",
              " 'optimal',\n",
              " 'neck',\n",
              " 'st',\n",
              " 'randomisation',\n",
              " 'measurement',\n",
              " 'costeffectiveness',\n",
              " 'units',\n",
              " 'frequent',\n",
              " 'task',\n",
              " 'recruitment',\n",
              " 'medicine',\n",
              " 'them',\n",
              " 'urine',\n",
              " 'lead',\n",
              " 'services',\n",
              " 'best',\n",
              " 'free',\n",
              " 'ed',\n",
              " 'e',\n",
              " 'analgesic',\n",
              " 'amount',\n",
              " 'regimens',\n",
              " 'learning',\n",
              " 'rct',\n",
              " 'online',\n",
              " 'having',\n",
              " 'trend',\n",
              " 'repair',\n",
              " 'logistic',\n",
              " 'brief',\n",
              " 'morphine',\n",
              " 'hip',\n",
              " 'relevant',\n",
              " 'mechanical',\n",
              " 'gain',\n",
              " 'physicians',\n",
              " 'treating',\n",
              " 'recent',\n",
              " 'nausea',\n",
              " 'multicentre',\n",
              " 'cerebral',\n",
              " 'biomarkers',\n",
              " 'analog',\n",
              " 'standardized',\n",
              " 'mri',\n",
              " 'healing',\n",
              " 'programs',\n",
              " 'late',\n",
              " 'guidelines',\n",
              " 'bowel',\n",
              " 'simple',\n",
              " 'direct',\n",
              " 'even',\n",
              " 'degree',\n",
              " 'vaccination',\n",
              " 'rapid',\n",
              " 'behaviors',\n",
              " 'immune',\n",
              " 'detection',\n",
              " 'third',\n",
              " 'noted',\n",
              " 'associations',\n",
              " 'little',\n",
              " 'count',\n",
              " 'signs',\n",
              " 'met',\n",
              " 'toxicity',\n",
              " 'useful',\n",
              " 'involved',\n",
              " ...]"
            ]
          },
          "execution_count": 42,
          "metadata": {},
          "output_type": "execute_result"
        }
      ],
      "source": [
        "text_vectorizer.get_vocabulary()"
      ]
    },
    {
      "cell_type": "code",
      "execution_count": null,
      "metadata": {
        "colab": {
          "base_uri": "https://localhost:8080/"
        },
        "id": "cXcy0EbRQrcy",
        "outputId": "0c4c2908-c2ea-4f86-f2ae-a44348509773"
      },
      "outputs": [
        {
          "data": {
            "text/plain": [
              "{'name': 'text_vectorization',\n",
              " 'trainable': True,\n",
              " 'dtype': 'string',\n",
              " 'batch_input_shape': (None,),\n",
              " 'max_tokens': 70000,\n",
              " 'standardize': 'lower_and_strip_punctuation',\n",
              " 'split': 'whitespace',\n",
              " 'ngrams': None,\n",
              " 'output_mode': 'int',\n",
              " 'output_sequence_length': 55,\n",
              " 'pad_to_max_tokens': False,\n",
              " 'sparse': False,\n",
              " 'ragged': False,\n",
              " 'vocabulary': None,\n",
              " 'idf_weights': None,\n",
              " 'encoding': 'utf-8',\n",
              " 'vocabulary_size': 64841}"
            ]
          },
          "execution_count": 43,
          "metadata": {},
          "output_type": "execute_result"
        }
      ],
      "source": [
        "text_vectorizer.get_config()"
      ]
    },
    {
      "cell_type": "markdown",
      "metadata": {
        "id": "pRmtF2HOQrcy"
      },
      "source": [
        "# Create Text Embedding"
      ]
    },
    {
      "cell_type": "code",
      "execution_count": null,
      "metadata": {
        "id": "KQ6wLW2sQrcy"
      },
      "outputs": [],
      "source": [
        "token_embed = layers.Embedding(input_dim=len(text_vocab),\n",
        "                                output_dim=128,\n",
        "                                mask_zero=True,\n",
        "                                name='token_embedding')"
      ]
    },
    {
      "cell_type": "code",
      "execution_count": null,
      "metadata": {
        "colab": {
          "base_uri": "https://localhost:8080/"
        },
        "id": "oNI_3nvYQrcz",
        "outputId": "a80905ad-c35b-45b8-950e-44d557b34c94"
      },
      "outputs": [
        {
          "name": "stdout",
          "output_type": "stream",
          "text": [
            "Before: there was a significant difference in favour of air-polishing for the perception of pain/discomfort .\n",
            "After: [[   61    10     8    37    74     5  4243     4 27532    11     2  1569\n",
            "      4 13092     0     0     0     0     0     0     0     0     0     0\n",
            "      0     0     0     0     0     0     0     0     0     0     0     0\n",
            "      0     0     0     0     0     0     0     0     0     0     0     0\n",
            "      0     0     0     0     0     0     0]]\n",
            "Embedded: [[[ 2.6792172e-02  1.3678614e-02  3.5778020e-02 ... -4.5493413e-02\n",
            "   -1.8931925e-05 -2.9292926e-03]\n",
            "  [ 4.1202668e-02  3.5801005e-02 -3.5221230e-02 ... -9.2984065e-03\n",
            "    1.9666780e-02  5.0609820e-03]\n",
            "  [ 4.6147816e-03 -2.6575958e-02 -8.3484277e-03 ... -2.8588211e-02\n",
            "   -4.0381014e-02  2.3816537e-02]\n",
            "  ...\n",
            "  [ 2.6209090e-02  1.6445924e-02 -4.1726828e-03 ...  5.6860335e-03\n",
            "   -4.8894893e-02 -3.0555917e-02]\n",
            "  [ 2.6209090e-02  1.6445924e-02 -4.1726828e-03 ...  5.6860335e-03\n",
            "   -4.8894893e-02 -3.0555917e-02]\n",
            "  [ 2.6209090e-02  1.6445924e-02 -4.1726828e-03 ...  5.6860335e-03\n",
            "   -4.8894893e-02 -3.0555917e-02]]]\n"
          ]
        },
        {
          "data": {
            "text/plain": [
              "TensorShape([1, 55, 128])"
            ]
          },
          "execution_count": 45,
          "metadata": {},
          "output_type": "execute_result"
        }
      ],
      "source": [
        "print(f'Before: {target_sentence}')\n",
        "print(f'After: {text_vectorizer([target_sentence])}')\n",
        "print(f'Embedded: {token_embed(text_vectorizer([target_sentence]))}')\n",
        "token_embed(text_vectorizer([target_sentence])).shape"
      ]
    },
    {
      "cell_type": "markdown",
      "metadata": {
        "id": "j9E0IPtcQrcz"
      },
      "source": [
        "# Fast Loadimg"
      ]
    },
    {
      "cell_type": "code",
      "execution_count": null,
      "metadata": {
        "id": "jXbaYndfQrcz"
      },
      "outputs": [],
      "source": [
        "train_dataset = tf.data.Dataset.from_tensor_slices((train_sentences, train_labels_one_hot))\n",
        "valid_dataset = tf.data.Dataset.from_tensor_slices((val_sentences, val_labels_one_hot))\n",
        "test_dataset = tf.data.Dataset.from_tensor_slices((test_sentences, test_labels_one_hot))"
      ]
    },
    {
      "cell_type": "code",
      "execution_count": null,
      "metadata": {
        "colab": {
          "base_uri": "https://localhost:8080/"
        },
        "id": "w1h0-eY4Qrc0",
        "outputId": "40412cea-43be-40cf-a2ef-ef29612df777"
      },
      "outputs": [
        {
          "data": {
            "text/plain": [
              "<_TensorSliceDataset element_spec=(TensorSpec(shape=(), dtype=tf.string, name=None), TensorSpec(shape=(5,), dtype=tf.float64, name=None))>"
            ]
          },
          "execution_count": 47,
          "metadata": {},
          "output_type": "execute_result"
        }
      ],
      "source": [
        "train_dataset"
      ]
    },
    {
      "cell_type": "code",
      "execution_count": null,
      "metadata": {
        "colab": {
          "base_uri": "https://localhost:8080/"
        },
        "id": "QnrpHNB5Qrc1",
        "outputId": "22b0b993-a928-4801-8347-e312b97a2220"
      },
      "outputs": [
        {
          "data": {
            "text/plain": [
              "<_PrefetchDataset element_spec=(TensorSpec(shape=(None,), dtype=tf.string, name=None), TensorSpec(shape=(None, 5), dtype=tf.float64, name=None))>"
            ]
          },
          "execution_count": 48,
          "metadata": {},
          "output_type": "execute_result"
        }
      ],
      "source": [
        "train_dataset = train_dataset.batch(32).prefetch(tf.data.AUTOTUNE)\n",
        "valid_dataset = valid_dataset.batch(32).prefetch(tf.data.AUTOTUNE)\n",
        "test_dataset = test_dataset.batch(32).prefetch(tf.data.AUTOTUNE)\n",
        "train_dataset"
      ]
    },
    {
      "cell_type": "markdown",
      "metadata": {
        "id": "nIjCQVFVQrc1"
      },
      "source": [
        "# Conv1D model"
      ]
    },
    {
      "cell_type": "code",
      "execution_count": null,
      "metadata": {
        "id": "oQMy_Cu6Qrc1"
      },
      "outputs": [],
      "source": [
        "inputs = layers.Input(shape=(1,), dtype=tf.string)\n",
        "text_vectors = text_vectorizer(inputs)\n",
        "token_embeddings = token_embed(text_vectors)\n",
        "x = layers.Conv1D(64, kernel_size=5, padding=\"same\", activation=\"relu\")(token_embeddings)\n",
        "x = layers.GlobalMaxPooling1D()(x)\n",
        "outputs = layers.Dense(num_classes, activation=\"softmax\")(x)\n",
        "model_1 = tf.keras.Model(inputs, outputs)\n",
        "\n",
        "# Compile\n",
        "model_1.compile(loss=\"categorical_crossentropy\",\n",
        "                optimizer=tf.keras.optimizers.Adam(),\n",
        "                metrics=[\"accuracy\"])"
      ]
    },
    {
      "cell_type": "code",
      "execution_count": null,
      "metadata": {
        "colab": {
          "base_uri": "https://localhost:8080/"
        },
        "id": "EdbsrF9hQrc2",
        "outputId": "a36f1796-1998-4c20-a53b-a78063dc4405"
      },
      "outputs": [
        {
          "name": "stdout",
          "output_type": "stream",
          "text": [
            "Model: \"model\"\n",
            "_________________________________________________________________\n",
            " Layer (type)                Output Shape              Param #   \n",
            "=================================================================\n",
            " input_1 (InputLayer)        [(None, 1)]               0         \n",
            "                                                                 \n",
            " text_vectorization (TextVe  (None, 55)                0         \n",
            " ctorization)                                                    \n",
            "                                                                 \n",
            " token_embedding (Embedding  (None, 55, 128)           8299648   \n",
            " )                                                               \n",
            "                                                                 \n",
            " conv1d (Conv1D)             (None, 55, 64)            41024     \n",
            "                                                                 \n",
            " global_max_pooling1d (Glob  (None, 64)                0         \n",
            " alMaxPooling1D)                                                 \n",
            "                                                                 \n",
            " dense (Dense)               (None, 5)                 325       \n",
            "                                                                 \n",
            "=================================================================\n",
            "Total params: 8340997 (31.82 MB)\n",
            "Trainable params: 8340997 (31.82 MB)\n",
            "Non-trainable params: 0 (0.00 Byte)\n",
            "_________________________________________________________________\n"
          ]
        }
      ],
      "source": [
        "model_1.summary()"
      ]
    },
    {
      "cell_type": "code",
      "execution_count": null,
      "metadata": {
        "colab": {
          "base_uri": "https://localhost:8080/"
        },
        "id": "ZSjf-HeRQrc2",
        "outputId": "3d945f7d-b5d8-494a-a938-acb4a008cd40"
      },
      "outputs": [
        {
          "name": "stdout",
          "output_type": "stream",
          "text": [
            "Epoch 1/10\n",
            "562/562 [==============================] - 25s 40ms/step - loss: 0.8269 - accuracy: 0.6808 - val_loss: 0.5861 - val_accuracy: 0.7796\n",
            "Epoch 2/10\n",
            "562/562 [==============================] - 11s 20ms/step - loss: 0.5783 - accuracy: 0.7895 - val_loss: 0.5463 - val_accuracy: 0.7945\n",
            "Epoch 3/10\n",
            "562/562 [==============================] - 4s 8ms/step - loss: 0.5436 - accuracy: 0.7999 - val_loss: 0.5194 - val_accuracy: 0.8105\n",
            "Epoch 4/10\n",
            "562/562 [==============================] - 4s 6ms/step - loss: 0.5245 - accuracy: 0.8087 - val_loss: 0.5216 - val_accuracy: 0.8045\n",
            "Epoch 5/10\n",
            "562/562 [==============================] - 5s 9ms/step - loss: 0.5324 - accuracy: 0.8066 - val_loss: 0.5009 - val_accuracy: 0.8162\n",
            "Epoch 6/10\n",
            "562/562 [==============================] - 4s 8ms/step - loss: 0.5241 - accuracy: 0.8058 - val_loss: 0.4978 - val_accuracy: 0.8228\n",
            "Epoch 7/10\n",
            "562/562 [==============================] - 5s 8ms/step - loss: 0.5000 - accuracy: 0.8131 - val_loss: 0.4834 - val_accuracy: 0.8251\n",
            "Epoch 8/10\n",
            "562/562 [==============================] - 4s 8ms/step - loss: 0.4859 - accuracy: 0.8221 - val_loss: 0.4701 - val_accuracy: 0.8285\n",
            "Epoch 9/10\n",
            "562/562 [==============================] - 3s 6ms/step - loss: 0.4871 - accuracy: 0.8225 - val_loss: 0.4945 - val_accuracy: 0.8218\n",
            "Epoch 10/10\n",
            "562/562 [==============================] - 4s 7ms/step - loss: 0.4881 - accuracy: 0.8211 - val_loss: 0.4698 - val_accuracy: 0.8298\n"
          ]
        }
      ],
      "source": [
        "# Fit the model\n",
        "model_1_history = model_1.fit(train_dataset,\n",
        "                              steps_per_epoch=int(0.1 * len(train_dataset)),\n",
        "                              epochs=10,\n",
        "                              validation_data=valid_dataset,\n",
        "                              validation_steps=int(0.1 * len(valid_dataset)))"
      ]
    },
    {
      "cell_type": "code",
      "execution_count": null,
      "metadata": {
        "colab": {
          "base_uri": "https://localhost:8080/"
        },
        "id": "7fOmaGM4Qrc2",
        "outputId": "c8c67b95-9460-469d-95f6-982e504f0ab2"
      },
      "outputs": [
        {
          "name": "stdout",
          "output_type": "stream",
          "text": [
            "945/945 [==============================] - 3s 3ms/step - loss: 0.4721 - accuracy: 0.8277\n"
          ]
        },
        {
          "data": {
            "text/plain": [
              "[0.4721243381500244, 0.8276843428611755]"
            ]
          },
          "execution_count": 52,
          "metadata": {},
          "output_type": "execute_result"
        }
      ],
      "source": [
        "model_1.evaluate(valid_dataset)"
      ]
    },
    {
      "cell_type": "code",
      "execution_count": null,
      "metadata": {
        "colab": {
          "base_uri": "https://localhost:8080/"
        },
        "id": "iMtHtg8OQrc2",
        "outputId": "c4ffc4b3-f390-4222-f59e-26e7ad02675c"
      },
      "outputs": [
        {
          "name": "stdout",
          "output_type": "stream",
          "text": [
            "945/945 [==============================] - 2s 2ms/step\n"
          ]
        },
        {
          "data": {
            "text/plain": [
              "{'accuracy': 82.76843638289422,\n",
              " 'precision': 0.8243403728911385,\n",
              " 'recall': 0.8276843638289422,\n",
              " 'f1': 0.82480239587185}"
            ]
          },
          "execution_count": 53,
          "metadata": {},
          "output_type": "execute_result"
        }
      ],
      "source": [
        "model_1_results = calculate_results(val_label_encoded, tf.argmax(model_1.predict(valid_dataset), axis=1))\n",
        "model_1_results"
      ]
    },
    {
      "cell_type": "code",
      "execution_count": null,
      "metadata": {
        "colab": {
          "base_uri": "https://localhost:8080/"
        },
        "id": "vX_wE3BAQrc3",
        "outputId": "07759aa7-9cf4-4d61-da74-12562e6da6a8"
      },
      "outputs": [
        {
          "data": {
            "text/plain": [
              "{'accuracy': 72.1832384482987,\n",
              " 'precision': 0.7186466952323352,\n",
              " 'recall': 0.7218323844829869,\n",
              " 'f1': 0.6989250353450294}"
            ]
          },
          "execution_count": 54,
          "metadata": {},
          "output_type": "execute_result"
        }
      ],
      "source": [
        "baseline_results"
      ]
    },
    {
      "cell_type": "markdown",
      "metadata": {
        "id": "lITp49uEQrc3"
      },
      "source": [
        "# Model 2, Conv1D with character embeddings"
      ]
    },
    {
      "cell_type": "markdown",
      "metadata": {
        "id": "1AGFkazUQrc3"
      },
      "source": [
        "## Creating a character level tokenizer"
      ]
    },
    {
      "cell_type": "code",
      "execution_count": null,
      "metadata": {
        "colab": {
          "base_uri": "https://localhost:8080/"
        },
        "id": "VpgJHik_Qrc3",
        "outputId": "de5072b8-56d6-4c70-d39a-ae7e81076a8e"
      },
      "outputs": [
        {
          "data": {
            "text/plain": [
              "['to investigate the efficacy of @ weeks of daily low-dose oral prednisolone in improving pain , mobility , and systemic low-grade inflammation in the short term and whether the effect would be sustained at @ weeks in older adults with moderate to severe knee osteoarthritis ( oa ) .',\n",
              " 'a total of @ patients with primary knee oa were randomized @:@ ; @ received @ mg/day of prednisolone and @ received placebo for @ weeks .',\n",
              " 'outcome measures included pain reduction and improvement in function scores and systemic inflammation markers .',\n",
              " 'pain was assessed using the visual analog pain scale ( @-@ mm ) .',\n",
              " 'secondary outcome measures included the western ontario and mcmaster universities osteoarthritis index scores , patient global assessment ( pga ) of the severity of knee oa , and @-min walk distance ( @mwd ) .',\n",
              " 'serum levels of interleukin @ ( il-@ ) , il-@ , tumor necrosis factor ( tnf ) - , and high-sensitivity c-reactive protein ( hscrp ) were measured .',\n",
              " 'there was a clinically relevant reduction in the intervention group compared to the placebo group for knee pain , physical function , pga , and @mwd at @ weeks .',\n",
              " 'the mean difference between treatment arms ( @ % ci ) was @ ( @-@ @ ) , p < @ ; @ ( @-@ @ ) , p < @ ; @ ( @-@ @ ) , p < @ ; and @ ( @-@ @ ) , p < @ , respectively .',\n",
              " 'further , there was a clinically relevant reduction in the serum levels of il-@ , il-@ , tnf - , and hscrp at @ weeks in the intervention group when compared to the placebo group .',\n",
              " 'these differences remained significant at @ weeks .']"
            ]
          },
          "execution_count": 55,
          "metadata": {},
          "output_type": "execute_result"
        }
      ],
      "source": [
        "train_sentences[:10]"
      ]
    },
    {
      "cell_type": "code",
      "execution_count": null,
      "metadata": {
        "id": "Fo_l4m30Qrc4"
      },
      "outputs": [],
      "source": [
        "def get_characters(text):\n",
        "  return ' '.join(list(text))"
      ]
    },
    {
      "cell_type": "code",
      "execution_count": null,
      "metadata": {
        "id": "sxJGYeM-Qrc4"
      },
      "outputs": [],
      "source": [
        "train_chars = [get_characters(sentence) for sentence in train_sentences]\n",
        "val_chars = [get_characters(sentence) for sentence in val_sentences]\n",
        "test_chars = [get_characters(sentence) for sentence in test_sentences]"
      ]
    },
    {
      "cell_type": "code",
      "execution_count": null,
      "metadata": {
        "colab": {
          "base_uri": "https://localhost:8080/",
          "height": 519
        },
        "id": "uQGUjwB0Qrc4",
        "outputId": "72451d0f-dd88-4def-e646-420ee1fe4b1e"
      },
      "outputs": [
        {
          "data": {
            "text/plain": [
              "(array([1.41175e+05, 3.71110e+04, 1.60000e+03, 1.27000e+02, 2.10000e+01,\n",
              "        5.00000e+00, 1.00000e+00]),\n",
              " array([1.00000000e+00, 1.98857143e+02, 3.96714286e+02, 5.94571429e+02,\n",
              "        7.92428571e+02, 9.90285714e+02, 1.18814286e+03, 1.38600000e+03]),\n",
              " <BarContainer object of 7 artists>)"
            ]
          },
          "execution_count": 58,
          "metadata": {},
          "output_type": "execute_result"
        },
        {
          "data": {
            "image/png": "[encoded data removed]",
            "text/plain": [
              "<Figure size 640x480 with 1 Axes>"
            ]
          },
          "metadata": {},
          "output_type": "display_data"
        }
      ],
      "source": [
        "char_lens = [len(sentence) for sentence in train_sentences]\n",
        "mean_char_len = np.mean(char_lens)\n",
        "plt.hist(char_lens, bins=7)"
      ]
    },
    {
      "cell_type": "code",
      "execution_count": null,
      "metadata": {
        "colab": {
          "base_uri": "https://localhost:8080/"
        },
        "id": "JDqLMjSwQrc5",
        "outputId": "6aeb8845-7b81-4b73-e16b-68f16e997078"
      },
      "outputs": [
        {
          "data": {
            "text/plain": [
              "290"
            ]
          },
          "execution_count": 59,
          "metadata": {},
          "output_type": "execute_result"
        }
      ],
      "source": [
        "output_seq_char_len = int(np.percentile(char_lens, 95))\n",
        "output_seq_char_len"
      ]
    },
    {
      "cell_type": "code",
      "execution_count": null,
      "metadata": {
        "colab": {
          "base_uri": "https://localhost:8080/",
          "height": 53
        },
        "id": "MkMx91pjQrc5",
        "outputId": "6ff81841-ad01-4756-b89f-99adc25a6cea"
      },
      "outputs": [
        {
          "data": {
            "application/vnd.google.colaboratory.intrinsic+json": {
              "type": "string"
            },
            "text/plain": [
              "'this is a prospective , comparative , blinded , and randomized clinical trial with @ groups that will receive distinct interventions .'"
            ]
          },
          "execution_count": 60,
          "metadata": {},
          "output_type": "execute_result"
        }
      ],
      "source": [
        "random.choice(train_sentences)"
      ]
    },
    {
      "cell_type": "code",
      "execution_count": null,
      "metadata": {
        "id": "xu1rNA0oQrc5"
      },
      "outputs": [],
      "source": [
        "import string\n",
        "alphabet = string.ascii_lowercase+string.digits+string.punctuation\n",
        "NUM_CHAR_TOKENS = len(alphabet)+2 # 2 of OOV token\n",
        "char_vectorizer = TextVectorization(max_tokens=NUM_CHAR_TOKENS,\n",
        "                                    output_sequence_length=output_seq_char_len,\n",
        "                                    name='char_vectorizer')"
      ]
    },
    {
      "cell_type": "code",
      "execution_count": null,
      "metadata": {
        "colab": {
          "base_uri": "https://localhost:8080/"
        },
        "id": "TmtbmT41Qrc6",
        "outputId": "f03d512c-5aa1-4728-af06-e46371fcdd0c"
      },
      "outputs": [
        {
          "name": "stdout",
          "output_type": "stream",
          "text": [
            "length: \n",
            "28\n",
            "['', '[UNK]', 'e', 't', 'i']\n",
            "['k', 'x', 'z', 'q', 'j']\n"
          ]
        }
      ],
      "source": [
        "# Adapt character vectorizer to training character\n",
        "char_vectorizer.adapt(train_chars)\n",
        "char_vocab=char_vectorizer.get_vocabulary()\n",
        "print(f'length: \\n{len(char_vocab)}')\n",
        "print(char_vocab[:5])\n",
        "print(char_vocab[-5:])"
      ]
    },
    {
      "cell_type": "code",
      "execution_count": null,
      "metadata": {
        "colab": {
          "base_uri": "https://localhost:8080/"
        },
        "id": "oqlFuzXQQrc6",
        "outputId": "a2c5361a-599a-4e21-d985-10523fa4768c"
      },
      "outputs": [
        {
          "name": "stdout",
          "output_type": "stream",
          "text": [
            "Text: \n",
            "a   n u m b e r   o f   e f f e c t i v e   s t r a t e g i e s   h a v e   b e e n   d e v e l o p e d   t o   i m p r o v e   t h e   q u a l i t y   o f   l i f e   i n   p a t i e n t s   w i t h   c o p d   .\n",
            "\n",
            "Length of text:89\n",
            "\n",
            "Vectorized text: [[ 5  6 16 15 22  2  8  7 17  2 17 17  2 11  3  4 21  2  9  3  8  5  3  2\n",
            "  18  4  2  9 13  5 21  2 22  2  2  6 10  2 21  2 12  7 14  2 10  3  7  4\n",
            "  15 14  8  7 21  2  3 13  2 26 16  5 12  4  3 19  7 17 12  4 17  2  4  6\n",
            "  14  5  3  4  2  6  3  9 20  4  3 13 11  7 14 10  0  0  0  0  0  0  0  0\n",
            "   0  0  0  0  0  0  0  0  0  0  0  0  0  0  0  0  0  0  0  0  0  0  0  0\n",
            "   0  0  0  0  0  0  0  0  0  0  0  0  0  0  0  0  0  0  0  0  0  0  0  0\n",
            "   0  0  0  0  0  0  0  0  0  0  0  0  0  0  0  0  0  0  0  0  0  0  0  0\n",
            "   0  0  0  0  0  0  0  0  0  0  0  0  0  0  0  0  0  0  0  0  0  0  0  0\n",
            "   0  0  0  0  0  0  0  0  0  0  0  0  0  0  0  0  0  0  0  0  0  0  0  0\n",
            "   0  0  0  0  0  0  0  0  0  0  0  0  0  0  0  0  0  0  0  0  0  0  0  0\n",
            "   0  0  0  0  0  0  0  0  0  0  0  0  0  0  0  0  0  0  0  0  0  0  0  0\n",
            "   0  0  0  0  0  0  0  0  0  0  0  0  0  0  0  0  0  0  0  0  0  0  0  0\n",
            "   0  0]]\n",
            "\n",
            "Length of text:290\n"
          ]
        }
      ],
      "source": [
        "random_rain_chars = random.choice(train_chars)\n",
        "print(f'Text: \\n{random_rain_chars}')\n",
        "print(f'\\nLength of text:{len(random_rain_chars.split())}')\n",
        "print(f'\\nVectorized text: {char_vectorizer([random_rain_chars])}')\n",
        "print(f'\\nLength of text:{len(char_vectorizer([random_rain_chars])[0])}')"
      ]
    },
    {
      "cell_type": "markdown",
      "metadata": {
        "id": "--OGP50mQrc7"
      },
      "source": [
        "### Character level embedding"
      ]
    },
    {
      "cell_type": "code",
      "execution_count": null,
      "metadata": {
        "id": "V0jcGDIjQrc7"
      },
      "outputs": [],
      "source": [
        "char_embed = layers.Embedding(input_dim=len(char_vocab),\n",
        "                              output_dim=25,\n",
        "                              mask_zero=True,\n",
        "                              name='char_embedding_layer')\n"
      ]
    },
    {
      "cell_type": "code",
      "execution_count": null,
      "metadata": {
        "colab": {
          "base_uri": "https://localhost:8080/"
        },
        "id": "Oq4uH002Qrc7",
        "outputId": "d2381821-f5a0-4453-fac1-ae4fe264d96e"
      },
      "outputs": [
        {
          "name": "stdout",
          "output_type": "stream",
          "text": [
            "Text: \n",
            "a   n u m b e r   o f   e f f e c t i v e   s t r a t e g i e s   h a v e   b e e n   d e v e l o p e d   t o   i m p r o v e   t h e   q u a l i t y   o f   l i f e   i n   p a t i e n t s   w i t h   c o p d   .\n",
            "\n",
            "Length of text:89\n",
            "\n",
            "Vectorized text: [[ 5  6 16 15 22  2  8  7 17  2 17 17  2 11  3  4 21  2  9  3  8  5  3  2\n",
            "  18  4  2  9 13  5 21  2 22  2  2  6 10  2 21  2 12  7 14  2 10  3  7  4\n",
            "  15 14  8  7 21  2  3 13  2 26 16  5 12  4  3 19  7 17 12  4 17  2  4  6\n",
            "  14  5  3  4  2  6  3  9 20  4  3 13 11  7 14 10  0  0  0  0  0  0  0  0\n",
            "   0  0  0  0  0  0  0  0  0  0  0  0  0  0  0  0  0  0  0  0  0  0  0  0\n",
            "   0  0  0  0  0  0  0  0  0  0  0  0  0  0  0  0  0  0  0  0  0  0  0  0\n",
            "   0  0  0  0  0  0  0  0  0  0  0  0  0  0  0  0  0  0  0  0  0  0  0  0\n",
            "   0  0  0  0  0  0  0  0  0  0  0  0  0  0  0  0  0  0  0  0  0  0  0  0\n",
            "   0  0  0  0  0  0  0  0  0  0  0  0  0  0  0  0  0  0  0  0  0  0  0  0\n",
            "   0  0  0  0  0  0  0  0  0  0  0  0  0  0  0  0  0  0  0  0  0  0  0  0\n",
            "   0  0  0  0  0  0  0  0  0  0  0  0  0  0  0  0  0  0  0  0  0  0  0  0\n",
            "   0  0  0  0  0  0  0  0  0  0  0  0  0  0  0  0  0  0  0  0  0  0  0  0\n",
            "   0  0]]\n",
            "\n",
            "Length of text:290\n",
            "Embedded: [[[ 0.03112561 -0.01051121 -0.02427332 ... -0.01607604  0.01902996\n",
            "   -0.04290241]\n",
            "  [-0.00650876  0.04061853 -0.01058286 ...  0.0212443  -0.0033765\n",
            "    0.03348562]\n",
            "  [-0.00148536 -0.04891449 -0.00176748 ...  0.0198944   0.0483618\n",
            "    0.02914658]\n",
            "  ...\n",
            "  [-0.03918189 -0.04979346 -0.04361219 ...  0.00241745  0.02657877\n",
            "    0.01781929]\n",
            "  [-0.03918189 -0.04979346 -0.04361219 ...  0.00241745  0.02657877\n",
            "    0.01781929]\n",
            "  [-0.03918189 -0.04979346 -0.04361219 ...  0.00241745  0.02657877\n",
            "    0.01781929]]]\n",
            "\n",
            "Length of text:(1, 290, 25)\n"
          ]
        }
      ],
      "source": [
        "print(f'Text: \\n{random_rain_chars}')\n",
        "print(f'\\nLength of text:{len(random_rain_chars.split())}')\n",
        "print(f'\\nVectorized text: {char_vectorizer([random_rain_chars])}')\n",
        "print(f'\\nLength of text:{len(char_vectorizer([random_rain_chars])[0])}')\n",
        "print(f'Embedded: {char_embed(char_vectorizer([random_rain_chars]))}')\n",
        "print(f'\\nLength of text:{(char_embed(char_vectorizer([random_rain_chars])).shape)}')"
      ]
    },
    {
      "cell_type": "code",
      "execution_count": null,
      "metadata": {
        "id": "-Am2S8wxQrc7"
      },
      "outputs": [],
      "source": [
        "# Conv1D model\n",
        "\n",
        "inputs = layers.Input(shape=(1,), dtype='string')\n",
        "char_vectors = char_vectorizer(inputs)\n",
        "char_embedding = char_embed(char_vectors)\n",
        "x = layers.Conv1D(64, kernel_size=5, padding=\"same\", activation='relu')(char_embedding)\n",
        "# x = layers.GlobalAveragePooling1D()(x)\n",
        "x = layers.GlobalMaxPooling1D()(x)\n",
        "outputs = layers.Dense(num_classes, activation='softmax')(x)\n",
        "model_2 = tf.keras.Model(inputs, outputs, name='model_2_conv1d')\n",
        "\n",
        "#Compile\n",
        "model_2.compile(loss='categorical_crossentropy',\n",
        "                optimizer=tf.keras.optimizers.Adam(),\n",
        "                metrics=['accuracy'])"
      ]
    },
    {
      "cell_type": "code",
      "execution_count": null,
      "metadata": {
        "colab": {
          "base_uri": "https://localhost:8080/"
        },
        "id": "S2yrrGdEQrc8",
        "outputId": "2e60131f-8ecb-4e80-a88a-ce42011ce0a6"
      },
      "outputs": [
        {
          "name": "stdout",
          "output_type": "stream",
          "text": [
            "Model: \"model_2_conv1d\"\n",
            "_________________________________________________________________\n",
            " Layer (type)                Output Shape              Param #   \n",
            "=================================================================\n",
            " input_2 (InputLayer)        [(None, 1)]               0         \n",
            "                                                                 \n",
            " char_vectorizer (TextVecto  (None, 290)               0         \n",
            " rization)                                                       \n",
            "                                                                 \n",
            " char_embedding_layer (Embe  (None, 290, 25)           700       \n",
            " dding)                                                          \n",
            "                                                                 \n",
            " conv1d_1 (Conv1D)           (None, 290, 64)           8064      \n",
            "                                                                 \n",
            " global_max_pooling1d_1 (Gl  (None, 64)                0         \n",
            " obalMaxPooling1D)                                               \n",
            "                                                                 \n",
            " dense_1 (Dense)             (None, 5)                 325       \n",
            "                                                                 \n",
            "=================================================================\n",
            "Total params: 9089 (35.50 KB)\n",
            "Trainable params: 9089 (35.50 KB)\n",
            "Non-trainable params: 0 (0.00 Byte)\n",
            "_________________________________________________________________\n"
          ]
        }
      ],
      "source": [
        "model_2.summary()"
      ]
    },
    {
      "cell_type": "code",
      "execution_count": null,
      "metadata": {
        "id": "Qr-0qcHrQrc8"
      },
      "outputs": [],
      "source": [
        "train_char_dataset = tf.data.Dataset.from_tensor_slices((train_chars, train_labels_one_hot)).batch(32).prefetch(tf.data.AUTOTUNE)\n",
        "valid_char_dataset = tf.data.Dataset.from_tensor_slices((val_chars, val_labels_one_hot)).batch(32).prefetch(tf.data.AUTOTUNE)\n",
        "test_char_dataset = tf.data.Dataset.from_tensor_slices((test_chars, test_labels_one_hot)).batch(32).prefetch(tf.data.AUTOTUNE)"
      ]
    },
    {
      "cell_type": "code",
      "execution_count": null,
      "metadata": {
        "colab": {
          "base_uri": "https://localhost:8080/"
        },
        "id": "7t5RGW5AQrc8",
        "outputId": "fe46e0d7-d6c0-4729-cb5b-8b37d69e8475"
      },
      "outputs": [
        {
          "name": "stdout",
          "output_type": "stream",
          "text": [
            "Epoch 1/10\n",
            "562/562 [==============================] - 5s 6ms/step - loss: 1.2566 - accuracy: 0.4805 - val_loss: 1.0494 - val_accuracy: 0.5791\n",
            "Epoch 2/10\n",
            "562/562 [==============================] - 3s 5ms/step - loss: 1.0177 - accuracy: 0.5891 - val_loss: 0.9558 - val_accuracy: 0.6180\n",
            "Epoch 3/10\n",
            "562/562 [==============================] - 3s 5ms/step - loss: 0.9427 - accuracy: 0.6292 - val_loss: 0.8888 - val_accuracy: 0.6466\n",
            "Epoch 4/10\n",
            "562/562 [==============================] - 4s 7ms/step - loss: 0.8939 - accuracy: 0.6508 - val_loss: 0.8630 - val_accuracy: 0.6582\n",
            "Epoch 5/10\n",
            "562/562 [==============================] - 3s 5ms/step - loss: 0.8750 - accuracy: 0.6557 - val_loss: 0.8372 - val_accuracy: 0.6762\n",
            "Epoch 6/10\n",
            "562/562 [==============================] - 3s 5ms/step - loss: 0.8623 - accuracy: 0.6623 - val_loss: 0.8096 - val_accuracy: 0.6888\n",
            "Epoch 7/10\n",
            "562/562 [==============================] - 3s 5ms/step - loss: 0.8391 - accuracy: 0.6752 - val_loss: 0.7967 - val_accuracy: 0.6915\n",
            "Epoch 8/10\n",
            "562/562 [==============================] - 4s 7ms/step - loss: 0.8092 - accuracy: 0.6866 - val_loss: 0.7936 - val_accuracy: 0.6965\n",
            "Epoch 9/10\n",
            "562/562 [==============================] - 3s 5ms/step - loss: 0.7993 - accuracy: 0.6894 - val_loss: 0.8064 - val_accuracy: 0.6865\n",
            "Epoch 10/10\n",
            "562/562 [==============================] - 3s 5ms/step - loss: 0.7989 - accuracy: 0.6901 - val_loss: 0.7599 - val_accuracy: 0.7071\n"
          ]
        }
      ],
      "source": [
        "model_2_history = model_2.fit(train_char_dataset,\n",
        "                              steps_per_epoch=int(0.1*len(train_char_dataset)),\n",
        "                              epochs=10,\n",
        "                              validation_data=valid_char_dataset,\n",
        "                              validation_steps=int(0.1*len(valid_char_dataset)))"
      ]
    },
    {
      "cell_type": "code",
      "execution_count": null,
      "metadata": {
        "colab": {
          "base_uri": "https://localhost:8080/"
        },
        "id": "gJJZju4NQrc8",
        "outputId": "07b2ba7e-02f5-48c8-f8e3-e9090ad1a4b5"
      },
      "outputs": [
        {
          "name": "stdout",
          "output_type": "stream",
          "text": [
            "945/945 [==============================] - 3s 3ms/step\n"
          ]
        },
        {
          "data": {
            "text/plain": [
              "{'accuracy': 70.47199788163644,\n",
              " 'precision': 0.6977254867158423,\n",
              " 'recall': 0.7047199788163644,\n",
              " 'f1': 0.6984154485554218}"
            ]
          },
          "execution_count": 70,
          "metadata": {},
          "output_type": "execute_result"
        }
      ],
      "source": [
        "model_2_pred = tf.argmax(model_2.predict(valid_char_dataset), axis=1)\n",
        "model_2_result = calculate_results(val_label_encoded,\n",
        "                                   model_2_pred)\n",
        "model_2_result"
      ]
    },
    {
      "cell_type": "markdown",
      "metadata": {
        "id": "VmC9Oq5FQrc9"
      },
      "source": [
        "# Model 3: Token Embedding + Character Embedding"
      ]
    },
    {
      "cell_type": "code",
      "execution_count": null,
      "metadata": {
        "id": "8aQaTitOQrc9"
      },
      "outputs": [],
      "source": [
        "# 1. Setup token inputs/model\n",
        "token_inputs = layers.Input(shape=(1,), dtype=tf.string, name='token_input')\n",
        "token_vectors = text_vectorizer(token_inputs)\n",
        "token_embeddings = token_embed(token_vectors)\n",
        "x = layers.Conv1D(64, kernel_size=5, padding=\"same\", activation=\"relu\")(token_embeddings)\n",
        "x = layers.GlobalMaxPooling1D()(x)\n",
        "token_outputs = layers.Dense(128, activation='relu')(x)\n",
        "token_model = tf.keras.Model(token_inputs, token_outputs)\n",
        "\n",
        "# 2. Setup char inputs/model\n",
        "char_inputs = layers.Input(shape=(1,), dtype=tf.string, name='char_input')\n",
        "char_vectors = char_vectorizer(char_inputs)\n",
        "char_embedding = char_embed(char_vectors)\n",
        "char_bi_lstm = layers.Bidirectional(layers.LSTM(24))(char_embedding)\n",
        "char_model = tf.keras.Model(char_inputs, char_bi_lstm)\n",
        "\n",
        "# 3. Concatenate token and char inputs (hybrid token embedding)\n",
        "token_char_concat = layers.Concatenate(name='token_char_hybrid')([token_model.output, char_model.output])\n",
        "\n",
        "# 4. Create output layer\n",
        "combined_dropout = layers.Dropout(0.5)(token_char_concat)\n",
        "combined_dense = layers.Dense(128, activation='relu')(combined_dropout)\n",
        "final_dropout = layers.Dropout(0.5)(combined_dense)\n",
        "output_layer = layers.Dense(num_classes, activation='softmax')(final_dropout)\n",
        "\n",
        "# 5. Combine into one model\n",
        "model_3 = tf.keras.Model(inputs=[token_model.input, char_model.input],\n",
        "                         outputs=output_layer,\n",
        "                         name='model_3_hybrid_embedding')\n"
      ]
    },
    {
      "cell_type": "code",
      "execution_count": null,
      "metadata": {
        "colab": {
          "base_uri": "https://localhost:8080/"
        },
        "id": "KzvXeOPBQrc9",
        "outputId": "5ffe5802-34c4-4be6-a776-a1baa6ac03b9"
      },
      "outputs": [
        {
          "name": "stdout",
          "output_type": "stream",
          "text": [
            "Model: \"model_3_hybrid_embedding\"\n",
            "__________________________________________________________________________________________________\n",
            " Layer (type)                Output Shape                 Param #   Connected to                  \n",
            "==================================================================================================\n",
            " token_input (InputLayer)    [(None, 1)]                  0         []                            \n",
            "                                                                                                  \n",
            " text_vectorization (TextVe  (None, 55)                   0         ['token_input[0][0]']         \n",
            " ctorization)                                                                                     \n",
            "                                                                                                  \n",
            " token_embedding (Embedding  (None, 55, 128)              8299648   ['text_vectorization[1][0]']  \n",
            " )                                                                                                \n",
            "                                                                                                  \n",
            " char_input (InputLayer)     [(None, 1)]                  0         []                            \n",
            "                                                                                                  \n",
            " conv1d_2 (Conv1D)           (None, 55, 64)               41024     ['token_embedding[1][0]']     \n",
            "                                                                                                  \n",
            " char_vectorizer (TextVecto  (None, 290)                  0         ['char_input[0][0]']          \n",
            " rization)                                                                                        \n",
            "                                                                                                  \n",
            " global_max_pooling1d_2 (Gl  (None, 64)                   0         ['conv1d_2[0][0]']            \n",
            " obalMaxPooling1D)                                                                                \n",
            "                                                                                                  \n",
            " char_embedding_layer (Embe  (None, 290, 25)              700       ['char_vectorizer[1][0]']     \n",
            " dding)                                                                                           \n",
            "                                                                                                  \n",
            " dense_2 (Dense)             (None, 128)                  8320      ['global_max_pooling1d_2[0][0]\n",
            "                                                                    ']                            \n",
            "                                                                                                  \n",
            " bidirectional (Bidirection  (None, 48)                   9600      ['char_embedding_layer[1][0]']\n",
            " al)                                                                                              \n",
            "                                                                                                  \n",
            " token_char_hybrid (Concate  (None, 176)                  0         ['dense_2[0][0]',             \n",
            " nate)                                                               'bidirectional[0][0]']       \n",
            "                                                                                                  \n",
            " dropout (Dropout)           (None, 176)                  0         ['token_char_hybrid[0][0]']   \n",
            "                                                                                                  \n",
            " dense_3 (Dense)             (None, 128)                  22656     ['dropout[0][0]']             \n",
            "                                                                                                  \n",
            " dropout_1 (Dropout)         (None, 128)                  0         ['dense_3[0][0]']             \n",
            "                                                                                                  \n",
            " dense_4 (Dense)             (None, 5)                    645       ['dropout_1[0][0]']           \n",
            "                                                                                                  \n",
            "==================================================================================================\n",
            "Total params: 8382593 (31.98 MB)\n",
            "Trainable params: 8382593 (31.98 MB)\n",
            "Non-trainable params: 0 (0.00 Byte)\n",
            "__________________________________________________________________________________________________\n"
          ]
        }
      ],
      "source": [
        "model_3.summary()"
      ]
    },
    {
      "cell_type": "code",
      "execution_count": null,
      "metadata": {
        "colab": {
          "base_uri": "https://localhost:8080/",
          "height": 1000
        },
        "id": "KTlendJLQrc9",
        "outputId": "eb0a9154-2e70-4415-b443-d936520e3440"
      },
      "outputs": [
        {
          "data": {
            "image/png": "[encoded data removed]",
            "text/plain": [
              "<IPython.core.display.Image object>"
            ]
          },
          "execution_count": 73,
          "metadata": {},
          "output_type": "execute_result"
        }
      ],
      "source": [
        "from keras.utils import plot_model\n",
        "plot_model(model_3, show_shapes=True)"
      ]
    },
    {
      "cell_type": "code",
      "execution_count": null,
      "metadata": {
        "id": "ytYp-J2KQrc-"
      },
      "outputs": [],
      "source": [
        "model_3.compile(loss='categorical_crossentropy',\n",
        "                optimizer=tf.keras.optimizers.Adam(),\n",
        "                metrics=['accuracy'])"
      ]
    },
    {
      "cell_type": "code",
      "execution_count": null,
      "metadata": {
        "id": "4hnyE4QfQrc-"
      },
      "outputs": [],
      "source": [
        "# Create data pipeline\n",
        "train_token_char_data = tf.data.Dataset.from_tensor_slices((train_sentences, train_chars))\n",
        "train_token_char_labels = tf.data.Dataset.from_tensor_slices(train_labels_one_hot)\n",
        "train_token_char_dataset = tf.data.Dataset.zip(train_token_char_data, train_token_char_labels).batch(32).prefetch(tf.data.AUTOTUNE)\n",
        "\n",
        "val_token_char_data = tf.data.Dataset.from_tensor_slices((val_sentences, val_chars))\n",
        "val_token_char_labels = tf.data.Dataset.from_tensor_slices(val_labels_one_hot)\n",
        "val_token_char_dataset = tf.data.Dataset.zip(val_token_char_data, val_token_char_labels).batch(32).prefetch(tf.data.AUTOTUNE)\n",
        "\n",
        "test_token_char_data = tf.data.Dataset.from_tensor_slices((test_sentences, test_chars))\n",
        "test_token_char_labels = tf.data.Dataset.from_tensor_slices(test_labels_one_hot)\n",
        "test_token_char_dataset = tf.data.Dataset.zip(test_token_char_data, test_token_char_labels).batch(32).prefetch(tf.data.AUTOTUNE)\n"
      ]
    },
    {
      "cell_type": "code",
      "execution_count": null,
      "metadata": {
        "colab": {
          "base_uri": "https://localhost:8080/"
        },
        "id": "ifRXGjjBQrc-",
        "outputId": "7eca376d-5e9b-4a69-e0ca-ccf4c88b2ff8"
      },
      "outputs": [
        {
          "name": "stdout",
          "output_type": "stream",
          "text": [
            "Epoch 1/10\n",
            "562/562 [==============================] - 50s 69ms/step - loss: 0.6898 - accuracy: 0.7403 - val_loss: 0.5115 - val_accuracy: 0.8162\n",
            "Epoch 2/10\n",
            "562/562 [==============================] - 22s 40ms/step - loss: 0.5188 - accuracy: 0.8201 - val_loss: 0.5253 - val_accuracy: 0.8052\n",
            "Epoch 3/10\n",
            "562/562 [==============================] - 20s 36ms/step - loss: 0.4895 - accuracy: 0.8282 - val_loss: 0.5006 - val_accuracy: 0.8132\n",
            "Epoch 4/10\n",
            "562/562 [==============================] - 23s 41ms/step - loss: 0.4703 - accuracy: 0.8377 - val_loss: 0.5002 - val_accuracy: 0.8128\n",
            "Epoch 5/10\n",
            "562/562 [==============================] - 20s 36ms/step - loss: 0.4806 - accuracy: 0.8357 - val_loss: 0.4944 - val_accuracy: 0.8198\n",
            "Epoch 6/10\n",
            "562/562 [==============================] - 22s 40ms/step - loss: 0.4748 - accuracy: 0.8329 - val_loss: 0.4868 - val_accuracy: 0.8235\n",
            "Epoch 7/10\n",
            "562/562 [==============================] - 24s 43ms/step - loss: 0.4501 - accuracy: 0.8400 - val_loss: 0.5101 - val_accuracy: 0.8185\n",
            "Epoch 8/10\n",
            "562/562 [==============================] - 22s 39ms/step - loss: 0.4393 - accuracy: 0.8475 - val_loss: 0.4831 - val_accuracy: 0.8281\n",
            "Epoch 9/10\n",
            "562/562 [==============================] - 21s 37ms/step - loss: 0.4492 - accuracy: 0.8412 - val_loss: 0.4990 - val_accuracy: 0.8162\n",
            "Epoch 10/10\n",
            "562/562 [==============================] - 23s 41ms/step - loss: 0.4532 - accuracy: 0.8406 - val_loss: 0.4933 - val_accuracy: 0.8265\n"
          ]
        }
      ],
      "source": [
        "model_3_historys = model_3.fit(train_token_char_dataset,\n",
        "                               steps_per_epoch = int(0.1*len(train_token_char_dataset)),\n",
        "                               epochs=10,\n",
        "                               validation_data=val_token_char_dataset,\n",
        "                               validation_steps=int(0.1*len(val_token_char_dataset)))"
      ]
    },
    {
      "cell_type": "code",
      "execution_count": null,
      "metadata": {
        "colab": {
          "base_uri": "https://localhost:8080/"
        },
        "id": "xrwi7JcZQrc-",
        "outputId": "10b0cc79-d406-4bc5-d754-17cf89156227"
      },
      "outputs": [
        {
          "name": "stdout",
          "output_type": "stream",
          "text": [
            "942/942 [==============================] - 12s 13ms/step - loss: 0.5115 - accuracy: 0.8164\n"
          ]
        },
        {
          "data": {
            "text/plain": [
              "[0.5114763975143433, 0.8163596987724304]"
            ]
          },
          "execution_count": 77,
          "metadata": {},
          "output_type": "execute_result"
        }
      ],
      "source": [
        "model_3.evaluate(test_token_char_dataset)"
      ]
    },
    {
      "cell_type": "code",
      "execution_count": null,
      "metadata": {
        "colab": {
          "base_uri": "https://localhost:8080/"
        },
        "id": "6MNj6qJjQrc-",
        "outputId": "8824c4c1-f276-47a2-ed50-b04e1f5610b3"
      },
      "outputs": [
        {
          "name": "stdout",
          "output_type": "stream",
          "text": [
            "942/942 [==============================] - 14s 12ms/step\n"
          ]
        }
      ],
      "source": [
        "model_3_pred = tf.argmax(model_3.predict(test_token_char_dataset), axis=1)\n",
        "model_3_results = calculate_results(test_label_encoded,\n",
        "                                    model_3_pred)"
      ]
    },
    {
      "cell_type": "code",
      "execution_count": null,
      "metadata": {
        "colab": {
          "base_uri": "https://localhost:8080/"
        },
        "id": "Ri9uKjhNQrc_",
        "outputId": "eef699fe-0439-4b1a-bee3-db54a40557b8"
      },
      "outputs": [
        {
          "data": {
            "text/plain": [
              "{'accuracy': 81.63597146175543,\n",
              " 'precision': 0.8136733062183897,\n",
              " 'recall': 0.8163597146175543,\n",
              " 'f1': 0.8134434191778255}"
            ]
          },
          "execution_count": 79,
          "metadata": {},
          "output_type": "execute_result"
        }
      ],
      "source": [
        "model_3_results"
      ]
    },
    {
      "cell_type": "code",
      "execution_count": null,
      "metadata": {
        "colab": {
          "base_uri": "https://localhost:8080/"
        },
        "id": "lG-nIKJ7Qrc_",
        "outputId": "60fa6c28-2144-4eb1-f466-028dde3b884c"
      },
      "outputs": [
        {
          "data": {
            "text/plain": [
              "{'accuracy': 70.47199788163644,\n",
              " 'precision': 0.6977254867158423,\n",
              " 'recall': 0.7047199788163644,\n",
              " 'f1': 0.6984154485554218}"
            ]
          },
          "execution_count": 80,
          "metadata": {},
          "output_type": "execute_result"
        }
      ],
      "source": [
        "model_2_result"
      ]
    },
    {
      "cell_type": "code",
      "execution_count": null,
      "metadata": {
        "colab": {
          "base_uri": "https://localhost:8080/"
        },
        "id": "806htZxyQrc_",
        "outputId": "2f0b27cc-5064-43e1-936d-5d1cd961ce0a"
      },
      "outputs": [
        {
          "data": {
            "text/plain": [
              "{'accuracy': 82.76843638289422,\n",
              " 'precision': 0.8243403728911385,\n",
              " 'recall': 0.8276843638289422,\n",
              " 'f1': 0.82480239587185}"
            ]
          },
          "execution_count": 81,
          "metadata": {},
          "output_type": "execute_result"
        }
      ],
      "source": [
        "model_1_results"
      ]
    },
    {
      "cell_type": "code",
      "execution_count": null,
      "metadata": {
        "colab": {
          "base_uri": "https://localhost:8080/"
        },
        "id": "DOIk3cpdQrc_",
        "outputId": "a752eb71-ebf8-4c9e-ac65-fd4f9b9b7843"
      },
      "outputs": [
        {
          "data": {
            "text/plain": [
              "{'accuracy': 72.1832384482987,\n",
              " 'precision': 0.7186466952323352,\n",
              " 'recall': 0.7218323844829869,\n",
              " 'f1': 0.6989250353450294}"
            ]
          },
          "execution_count": 82,
          "metadata": {},
          "output_type": "execute_result"
        }
      ],
      "source": [
        "baseline_results"
      ]
    },
    {
      "cell_type": "markdown",
      "metadata": {
        "id": "obd0jvpxQrdA"
      },
      "source": [
        "# Model 4: Token Embedding + Character Embedding + Positional Embedding"
      ]
    },
    {
      "cell_type": "markdown",
      "metadata": {
        "id": "QkfAN_m-lDlm"
      },
      "source": [
        "### Model Checkpoint"
      ]
    },
    {
      "cell_type": "code",
      "execution_count": null,
      "metadata": {
        "id": "DlJ55ClulDPE"
      },
      "outputs": [],
      "source": [
        "callback = tf.keras.callbacks.EarlyStopping(monitor='val_accuracy',\n",
        "                                              patience=3,\n",
        "                                         restore_best_weights=True)"
      ]
    },
    {
      "cell_type": "markdown",
      "metadata": {
        "id": "qf7CXnWyQrdA"
      },
      "source": [
        "### Create Positional Embeddings"
      ]
    },
    {
      "cell_type": "code",
      "execution_count": null,
      "metadata": {
        "colab": {
          "base_uri": "https://localhost:8080/",
          "height": 1000
        },
        "id": "scc0K6QIQrdA",
        "outputId": "2f51b6e4-7f1f-4ee8-f370-b69b41e9779f"
      },
      "outputs": [
        {
          "data": {
            "text/html": [
              "<div>\n",
              "<style scoped>\n",
              "    .dataframe tbody tr th:only-of-type {\n",
              "        vertical-align: middle;\n",
              "    }\n",
              "\n",
              "    .dataframe tbody tr th {\n",
              "        vertical-align: top;\n",
              "    }\n",
              "\n",
              "    .dataframe thead th {\n",
              "        text-align: right;\n",
              "    }\n",
              "</style>\n",
              "<table border=\"1\" class=\"dataframe\">\n",
              "  <thead>\n",
              "    <tr style=\"text-align: right;\">\n",
              "      <th></th>\n",
              "      <th>count</th>\n",
              "    </tr>\n",
              "    <tr>\n",
              "      <th>line_number</th>\n",
              "      <th></th>\n",
              "    </tr>\n",
              "  </thead>\n",
              "  <tbody>\n",
              "    <tr>\n",
              "      <th>0</th>\n",
              "      <td>15000</td>\n",
              "    </tr>\n",
              "    <tr>\n",
              "      <th>1</th>\n",
              "      <td>15000</td>\n",
              "    </tr>\n",
              "    <tr>\n",
              "      <th>2</th>\n",
              "      <td>15000</td>\n",
              "    </tr>\n",
              "    <tr>\n",
              "      <th>3</th>\n",
              "      <td>15000</td>\n",
              "    </tr>\n",
              "    <tr>\n",
              "      <th>4</th>\n",
              "      <td>14992</td>\n",
              "    </tr>\n",
              "    <tr>\n",
              "      <th>5</th>\n",
              "      <td>14949</td>\n",
              "    </tr>\n",
              "    <tr>\n",
              "      <th>6</th>\n",
              "      <td>14758</td>\n",
              "    </tr>\n",
              "    <tr>\n",
              "      <th>7</th>\n",
              "      <td>14279</td>\n",
              "    </tr>\n",
              "    <tr>\n",
              "      <th>8</th>\n",
              "      <td>13346</td>\n",
              "    </tr>\n",
              "    <tr>\n",
              "      <th>9</th>\n",
              "      <td>11981</td>\n",
              "    </tr>\n",
              "    <tr>\n",
              "      <th>10</th>\n",
              "      <td>10041</td>\n",
              "    </tr>\n",
              "    <tr>\n",
              "      <th>11</th>\n",
              "      <td>7892</td>\n",
              "    </tr>\n",
              "    <tr>\n",
              "      <th>12</th>\n",
              "      <td>5853</td>\n",
              "    </tr>\n",
              "    <tr>\n",
              "      <th>13</th>\n",
              "      <td>4152</td>\n",
              "    </tr>\n",
              "    <tr>\n",
              "      <th>14</th>\n",
              "      <td>2835</td>\n",
              "    </tr>\n",
              "    <tr>\n",
              "      <th>15</th>\n",
              "      <td>1861</td>\n",
              "    </tr>\n",
              "    <tr>\n",
              "      <th>16</th>\n",
              "      <td>1188</td>\n",
              "    </tr>\n",
              "    <tr>\n",
              "      <th>17</th>\n",
              "      <td>751</td>\n",
              "    </tr>\n",
              "    <tr>\n",
              "      <th>18</th>\n",
              "      <td>462</td>\n",
              "    </tr>\n",
              "    <tr>\n",
              "      <th>19</th>\n",
              "      <td>286</td>\n",
              "    </tr>\n",
              "    <tr>\n",
              "      <th>20</th>\n",
              "      <td>162</td>\n",
              "    </tr>\n",
              "    <tr>\n",
              "      <th>21</th>\n",
              "      <td>101</td>\n",
              "    </tr>\n",
              "    <tr>\n",
              "      <th>22</th>\n",
              "      <td>66</td>\n",
              "    </tr>\n",
              "    <tr>\n",
              "      <th>23</th>\n",
              "      <td>33</td>\n",
              "    </tr>\n",
              "    <tr>\n",
              "      <th>24</th>\n",
              "      <td>22</td>\n",
              "    </tr>\n",
              "    <tr>\n",
              "      <th>25</th>\n",
              "      <td>14</td>\n",
              "    </tr>\n",
              "    <tr>\n",
              "      <th>26</th>\n",
              "      <td>7</td>\n",
              "    </tr>\n",
              "    <tr>\n",
              "      <th>27</th>\n",
              "      <td>4</td>\n",
              "    </tr>\n",
              "    <tr>\n",
              "      <th>28</th>\n",
              "      <td>3</td>\n",
              "    </tr>\n",
              "    <tr>\n",
              "      <th>29</th>\n",
              "      <td>1</td>\n",
              "    </tr>\n",
              "    <tr>\n",
              "      <th>30</th>\n",
              "      <td>1</td>\n",
              "    </tr>\n",
              "  </tbody>\n",
              "</table>\n",
              "</div><br><label><b>dtype:</b> int64</label>"
            ],
            "text/plain": [
              "line_number\n",
              "0     15000\n",
              "1     15000\n",
              "2     15000\n",
              "3     15000\n",
              "4     14992\n",
              "5     14949\n",
              "6     14758\n",
              "7     14279\n",
              "8     13346\n",
              "9     11981\n",
              "10    10041\n",
              "11     7892\n",
              "12     5853\n",
              "13     4152\n",
              "14     2835\n",
              "15     1861\n",
              "16     1188\n",
              "17      751\n",
              "18      462\n",
              "19      286\n",
              "20      162\n",
              "21      101\n",
              "22       66\n",
              "23       33\n",
              "24       22\n",
              "25       14\n",
              "26        7\n",
              "27        4\n",
              "28        3\n",
              "29        1\n",
              "30        1\n",
              "Name: count, dtype: int64"
            ]
          },
          "execution_count": 84,
          "metadata": {},
          "output_type": "execute_result"
        }
      ],
      "source": [
        "# How many different line numbers are there:\n",
        "train_df['line_number'].value_counts()"
      ]
    },
    {
      "cell_type": "code",
      "execution_count": null,
      "metadata": {
        "colab": {
          "base_uri": "https://localhost:8080/",
          "height": 448
        },
        "id": "C2RfTtV9QrdA",
        "outputId": "6bd47a8a-7004-4e41-a580-8bb8ed3b31ce"
      },
      "outputs": [
        {
          "data": {
            "text/plain": [
              "<Axes: ylabel='Frequency'>"
            ]
          },
          "execution_count": 85,
          "metadata": {},
          "output_type": "execute_result"
        },
        {
          "data": {
            "image/png": "[encoded data removed]",
            "text/plain": [
              "<Figure size 640x480 with 1 Axes>"
            ]
          },
          "metadata": {},
          "output_type": "display_data"
        }
      ],
      "source": [
        "train_df['line_number'].plot.hist()"
      ]
    },
    {
      "cell_type": "code",
      "execution_count": null,
      "metadata": {
        "colab": {
          "base_uri": "https://localhost:8080/"
        },
        "id": "_oBwuvhnQrdA",
        "outputId": "80f3a363-b5d3-4c83-85b3-f8667aae4433"
      },
      "outputs": [
        {
          "data": {
            "text/plain": [
              "15.0"
            ]
          },
          "execution_count": 86,
          "metadata": {},
          "output_type": "execute_result"
        }
      ],
      "source": [
        "np.percentile(train_df.line_number, 98)"
      ]
    },
    {
      "cell_type": "code",
      "execution_count": null,
      "metadata": {
        "colab": {
          "base_uri": "https://localhost:8080/"
        },
        "id": "SHgW7IU6QrdB",
        "outputId": "70499dd9-185f-4463-fe66-280746e2a844"
      },
      "outputs": [
        {
          "data": {
            "text/plain": [
              "(<tf.Tensor: shape=(14, 15), dtype=float32, numpy=\n",
              " array([[1., 0., 0., 0., 0., 0., 0., 0., 0., 0., 0., 0., 0., 0., 0.],\n",
              "        [0., 1., 0., 0., 0., 0., 0., 0., 0., 0., 0., 0., 0., 0., 0.],\n",
              "        [0., 0., 1., 0., 0., 0., 0., 0., 0., 0., 0., 0., 0., 0., 0.],\n",
              "        [0., 0., 0., 1., 0., 0., 0., 0., 0., 0., 0., 0., 0., 0., 0.],\n",
              "        [0., 0., 0., 0., 1., 0., 0., 0., 0., 0., 0., 0., 0., 0., 0.],\n",
              "        [0., 0., 0., 0., 0., 1., 0., 0., 0., 0., 0., 0., 0., 0., 0.],\n",
              "        [0., 0., 0., 0., 0., 0., 1., 0., 0., 0., 0., 0., 0., 0., 0.],\n",
              "        [0., 0., 0., 0., 0., 0., 0., 1., 0., 0., 0., 0., 0., 0., 0.],\n",
              "        [0., 0., 0., 0., 0., 0., 0., 0., 1., 0., 0., 0., 0., 0., 0.],\n",
              "        [0., 0., 0., 0., 0., 0., 0., 0., 0., 1., 0., 0., 0., 0., 0.],\n",
              "        [0., 0., 0., 0., 0., 0., 0., 0., 0., 0., 1., 0., 0., 0., 0.],\n",
              "        [0., 0., 0., 0., 0., 0., 0., 0., 0., 0., 0., 1., 0., 0., 0.],\n",
              "        [1., 0., 0., 0., 0., 0., 0., 0., 0., 0., 0., 0., 0., 0., 0.],\n",
              "        [0., 1., 0., 0., 0., 0., 0., 0., 0., 0., 0., 0., 0., 0., 0.]],\n",
              "       dtype=float32)>,\n",
              " TensorShape([180040, 15]))"
            ]
          },
          "execution_count": 87,
          "metadata": {},
          "output_type": "execute_result"
        }
      ],
      "source": [
        "train_line_numbers_one_hot = tf.one_hot(train_df['line_number'].to_numpy(), depth=15)\n",
        "val_line_numbers_one_hot = tf.one_hot(val_df['line_number'].to_numpy(), depth=15)\n",
        "test_line_numbers_one_hot = tf.one_hot(test_df['line_number'].to_numpy(), depth=15)\n",
        "train_line_numbers_one_hot[:14], train_line_numbers_one_hot.shape"
      ]
    },
    {
      "cell_type": "code",
      "execution_count": null,
      "metadata": {
        "colab": {
          "base_uri": "https://localhost:8080/",
          "height": 962
        },
        "id": "Cn3iuR2uQrdB",
        "outputId": "fd9f872f-97d3-4f43-ca81-fa6cb3809cf4"
      },
      "outputs": [
        {
          "data": {
            "text/html": [
              "<div>\n",
              "<style scoped>\n",
              "    .dataframe tbody tr th:only-of-type {\n",
              "        vertical-align: middle;\n",
              "    }\n",
              "\n",
              "    .dataframe tbody tr th {\n",
              "        vertical-align: top;\n",
              "    }\n",
              "\n",
              "    .dataframe thead th {\n",
              "        text-align: right;\n",
              "    }\n",
              "</style>\n",
              "<table border=\"1\" class=\"dataframe\">\n",
              "  <thead>\n",
              "    <tr style=\"text-align: right;\">\n",
              "      <th></th>\n",
              "      <th>count</th>\n",
              "    </tr>\n",
              "    <tr>\n",
              "      <th>total_lines</th>\n",
              "      <th></th>\n",
              "    </tr>\n",
              "  </thead>\n",
              "  <tbody>\n",
              "    <tr>\n",
              "      <th>11</th>\n",
              "      <td>24468</td>\n",
              "    </tr>\n",
              "    <tr>\n",
              "      <th>10</th>\n",
              "      <td>23639</td>\n",
              "    </tr>\n",
              "    <tr>\n",
              "      <th>12</th>\n",
              "      <td>22113</td>\n",
              "    </tr>\n",
              "    <tr>\n",
              "      <th>9</th>\n",
              "      <td>19400</td>\n",
              "    </tr>\n",
              "    <tr>\n",
              "      <th>13</th>\n",
              "      <td>18438</td>\n",
              "    </tr>\n",
              "    <tr>\n",
              "      <th>14</th>\n",
              "      <td>14610</td>\n",
              "    </tr>\n",
              "    <tr>\n",
              "      <th>8</th>\n",
              "      <td>12285</td>\n",
              "    </tr>\n",
              "    <tr>\n",
              "      <th>15</th>\n",
              "      <td>10768</td>\n",
              "    </tr>\n",
              "    <tr>\n",
              "      <th>7</th>\n",
              "      <td>7464</td>\n",
              "    </tr>\n",
              "    <tr>\n",
              "      <th>16</th>\n",
              "      <td>7429</td>\n",
              "    </tr>\n",
              "    <tr>\n",
              "      <th>17</th>\n",
              "      <td>5202</td>\n",
              "    </tr>\n",
              "    <tr>\n",
              "      <th>6</th>\n",
              "      <td>3353</td>\n",
              "    </tr>\n",
              "    <tr>\n",
              "      <th>18</th>\n",
              "      <td>3344</td>\n",
              "    </tr>\n",
              "    <tr>\n",
              "      <th>19</th>\n",
              "      <td>2480</td>\n",
              "    </tr>\n",
              "    <tr>\n",
              "      <th>20</th>\n",
              "      <td>1281</td>\n",
              "    </tr>\n",
              "    <tr>\n",
              "      <th>5</th>\n",
              "      <td>1146</td>\n",
              "    </tr>\n",
              "    <tr>\n",
              "      <th>21</th>\n",
              "      <td>770</td>\n",
              "    </tr>\n",
              "    <tr>\n",
              "      <th>22</th>\n",
              "      <td>759</td>\n",
              "    </tr>\n",
              "    <tr>\n",
              "      <th>23</th>\n",
              "      <td>264</td>\n",
              "    </tr>\n",
              "    <tr>\n",
              "      <th>4</th>\n",
              "      <td>215</td>\n",
              "    </tr>\n",
              "    <tr>\n",
              "      <th>24</th>\n",
              "      <td>200</td>\n",
              "    </tr>\n",
              "    <tr>\n",
              "      <th>25</th>\n",
              "      <td>182</td>\n",
              "    </tr>\n",
              "    <tr>\n",
              "      <th>26</th>\n",
              "      <td>81</td>\n",
              "    </tr>\n",
              "    <tr>\n",
              "      <th>28</th>\n",
              "      <td>58</td>\n",
              "    </tr>\n",
              "    <tr>\n",
              "      <th>3</th>\n",
              "      <td>32</td>\n",
              "    </tr>\n",
              "    <tr>\n",
              "      <th>30</th>\n",
              "      <td>31</td>\n",
              "    </tr>\n",
              "    <tr>\n",
              "      <th>27</th>\n",
              "      <td>28</td>\n",
              "    </tr>\n",
              "  </tbody>\n",
              "</table>\n",
              "</div><br><label><b>dtype:</b> int64</label>"
            ],
            "text/plain": [
              "total_lines\n",
              "11    24468\n",
              "10    23639\n",
              "12    22113\n",
              "9     19400\n",
              "13    18438\n",
              "14    14610\n",
              "8     12285\n",
              "15    10768\n",
              "7      7464\n",
              "16     7429\n",
              "17     5202\n",
              "6      3353\n",
              "18     3344\n",
              "19     2480\n",
              "20     1281\n",
              "5      1146\n",
              "21      770\n",
              "22      759\n",
              "23      264\n",
              "4       215\n",
              "24      200\n",
              "25      182\n",
              "26       81\n",
              "28       58\n",
              "3        32\n",
              "30       31\n",
              "27       28\n",
              "Name: count, dtype: int64"
            ]
          },
          "execution_count": 88,
          "metadata": {},
          "output_type": "execute_result"
        }
      ],
      "source": [
        "# total lines\n",
        "train_df['total_lines'].value_counts()"
      ]
    },
    {
      "cell_type": "code",
      "execution_count": null,
      "metadata": {
        "colab": {
          "base_uri": "https://localhost:8080/",
          "height": 449
        },
        "id": "t4YgeTAdQrdB",
        "outputId": "4335df62-ffc3-4190-a90d-4bf6dabf3d07"
      },
      "outputs": [
        {
          "data": {
            "text/plain": [
              "<Axes: ylabel='Frequency'>"
            ]
          },
          "execution_count": 89,
          "metadata": {},
          "output_type": "execute_result"
        },
        {
          "data": {
            "image/png": "[encoded data removed]",
            "text/plain": [
              "<Figure size 640x480 with 1 Axes>"
            ]
          },
          "metadata": {},
          "output_type": "display_data"
        }
      ],
      "source": [
        "train_df['total_lines'].plot.hist()"
      ]
    },
    {
      "cell_type": "code",
      "execution_count": null,
      "metadata": {
        "colab": {
          "base_uri": "https://localhost:8080/"
        },
        "id": "XnatDgimQrdC",
        "outputId": "969f30dd-f746-43c5-8a7f-487ff0e1b7c6"
      },
      "outputs": [
        {
          "data": {
            "text/plain": [
              "20.0"
            ]
          },
          "execution_count": 90,
          "metadata": {},
          "output_type": "execute_result"
        }
      ],
      "source": [
        "np.percentile(train_df.total_lines, 98)"
      ]
    },
    {
      "cell_type": "code",
      "execution_count": null,
      "metadata": {
        "colab": {
          "base_uri": "https://localhost:8080/"
        },
        "id": "S7LR8SuDQrdD",
        "outputId": "d4b3d0c4-f448-4072-c121-9b7d4bda7500"
      },
      "outputs": [
        {
          "data": {
            "text/plain": [
              "(TensorShape([180040, 20]),\n",
              " <tf.Tensor: shape=(10, 20), dtype=float32, numpy=\n",
              " array([[0., 0., 0., 0., 0., 0., 0., 0., 0., 0., 0., 1., 0., 0., 0., 0.,\n",
              "         0., 0., 0., 0.],\n",
              "        [0., 0., 0., 0., 0., 0., 0., 0., 0., 0., 0., 1., 0., 0., 0., 0.,\n",
              "         0., 0., 0., 0.],\n",
              "        [0., 0., 0., 0., 0., 0., 0., 0., 0., 0., 0., 1., 0., 0., 0., 0.,\n",
              "         0., 0., 0., 0.],\n",
              "        [0., 0., 0., 0., 0., 0., 0., 0., 0., 0., 0., 1., 0., 0., 0., 0.,\n",
              "         0., 0., 0., 0.],\n",
              "        [0., 0., 0., 0., 0., 0., 0., 0., 0., 0., 0., 1., 0., 0., 0., 0.,\n",
              "         0., 0., 0., 0.],\n",
              "        [0., 0., 0., 0., 0., 0., 0., 0., 0., 0., 0., 1., 0., 0., 0., 0.,\n",
              "         0., 0., 0., 0.],\n",
              "        [0., 0., 0., 0., 0., 0., 0., 0., 0., 0., 0., 1., 0., 0., 0., 0.,\n",
              "         0., 0., 0., 0.],\n",
              "        [0., 0., 0., 0., 0., 0., 0., 0., 0., 0., 0., 1., 0., 0., 0., 0.,\n",
              "         0., 0., 0., 0.],\n",
              "        [0., 0., 0., 0., 0., 0., 0., 0., 0., 0., 0., 1., 0., 0., 0., 0.,\n",
              "         0., 0., 0., 0.],\n",
              "        [0., 0., 0., 0., 0., 0., 0., 0., 0., 0., 0., 1., 0., 0., 0., 0.,\n",
              "         0., 0., 0., 0.]], dtype=float32)>)"
            ]
          },
          "execution_count": 91,
          "metadata": {},
          "output_type": "execute_result"
        }
      ],
      "source": [
        "train_total_lines_one_hot = tf.one_hot(train_df[\"total_lines\"].to_numpy(), depth=20)\n",
        "val_total_lines_one_hot = tf.one_hot(val_df[\"total_lines\"].to_numpy(), depth=20)\n",
        "test_total_lines_one_hot = tf.one_hot(test_df[\"total_lines\"].to_numpy(), depth=20)\n",
        "train_total_lines_one_hot.shape, train_total_lines_one_hot[:10]"
      ]
    },
    {
      "cell_type": "code",
      "execution_count": null,
      "metadata": {
        "id": "f1xNmQKeQrdD"
      },
      "outputs": [],
      "source": [
        "# Building Tribrid embedding model\n",
        "\n",
        "# 1. Setup token inputs/model\n",
        "token_inputs = layers.Input(shape=(1,), dtype=tf.string, name='token_input')\n",
        "token_vectors = text_vectorizer(token_inputs)\n",
        "token_embeddings = token_embed(token_vectors)\n",
        "x = layers.Conv1D(64, kernel_size=5, padding=\"same\", activation=\"relu\")(token_embeddings)\n",
        "x = layers.GlobalMaxPooling1D()(x)\n",
        "token_outputs = layers.Dense(128, activation='relu')(x)\n",
        "token_model = tf.keras.Model(token_inputs, token_outputs)\n",
        "\n",
        "# 2. Setup char inputs/model\n",
        "char_inputs = layers.Input(shape=(1,), dtype=tf.string, name='char_input')\n",
        "char_vectors = char_vectorizer(char_inputs)\n",
        "char_embedding = char_embed(char_vectors)\n",
        "char_bi_lstm = layers.Bidirectional(layers.LSTM(24))(char_embedding)\n",
        "char_model = tf.keras.Model(char_inputs, char_bi_lstm)\n",
        "\n",
        "# 3. Setup line number inputs/model\n",
        "\n",
        "line_number_layer = layers.Input(shape=(15,), dtype=tf.float32, name='line_number_input')\n",
        "x=layers.Dense(32, activation='relu')(line_number_layer)\n",
        "line_number_model = tf.keras.Model(line_number_layer, x)\n",
        "\n",
        "# 4. Setup total lines inputs/model\n",
        "\n",
        "total_lines_layer = layers.Input(shape=(20,), dtype=tf.float32, name='total_lines_input')\n",
        "x=layers.Dense(32, activation='relu')(total_lines_layer)\n",
        "total_lines_model = tf.keras.Model(total_lines_layer, x)\n",
        "\n",
        "# 5. Combine token and char embedding into hybrid embeddings\n",
        "token_char_concat = layers.Concatenate(name='token_char_hybrid')([token_model.output, char_model.output])\n",
        "\n",
        "# 6. Create output layer for token-char model after Dropout\n",
        "combined_dropout = layers.Dropout(0.5)(token_char_concat)\n",
        "combined_dense = layers.Dense(128, activation='relu')(combined_dropout)\n",
        "final_dropout = layers.Dropout(0.5)(combined_dense)\n",
        "output_layer = layers.Dense(num_classes, activation='softmax')(final_dropout)\n",
        "\n",
        "# 7. Combine positional embedding with token char hybrid embedding\n",
        "tribrid_embedding = layers.Concatenate(name='char_token_position_tribrid')([line_number_model.output,\n",
        "                                                                            total_lines_model.output,\n",
        "                                                                            output_layer])\n",
        "\n",
        "# 8. Create Output Layer\n",
        "tribrid_embedding = tf.expand_dims(tribrid_embedding, axis=1)\n",
        "layer = layers.Bidirectional(layers.LSTM(256))(tribrid_embedding)\n",
        "combined_dropout = layers.Dropout(0.5)(layer)\n",
        "combined_dense = layers.Dense(128, activation='relu')(combined_dropout)\n",
        "final_dropout = layers.Dropout(0.5)(combined_dense)\n",
        "output_layer = layers.Dense(num_classes, activation='softmax', name='output_layer')(final_dropout)\n",
        "\n",
        "model_4 = tf.keras.Model(inputs=[line_number_model.input,\n",
        "                                 total_lines_model.input,\n",
        "                                 token_model.input,\n",
        "                                 char_model.input],\n",
        "                                 outputs=output_layer,\n",
        "                                 name='tribrid_embedding_model')\n",
        "\n"
      ]
    },
    {
      "cell_type": "code",
      "execution_count": null,
      "metadata": {
        "colab": {
          "base_uri": "https://localhost:8080/"
        },
        "id": "6Vo1yLaIQrdD",
        "outputId": "8e074efc-62d7-45ad-eb33-2ff3a9852327"
      },
      "outputs": [
        {
          "name": "stdout",
          "output_type": "stream",
          "text": [
            "Model: \"tribrid_embedding_model\"\n",
            "__________________________________________________________________________________________________\n",
            " Layer (type)                Output Shape                 Param #   Connected to                  \n",
            "==================================================================================================\n",
            " token_input (InputLayer)    [(None, 1)]                  0         []                            \n",
            "                                                                                                  \n",
            " text_vectorization (TextVe  (None, 55)                   0         ['token_input[0][0]']         \n",
            " ctorization)                                                                                     \n",
            "                                                                                                  \n",
            " token_embedding (Embedding  (None, 55, 128)              8299648   ['text_vectorization[2][0]']  \n",
            " )                                                                                                \n",
            "                                                                                                  \n",
            " char_input (InputLayer)     [(None, 1)]                  0         []                            \n",
            "                                                                                                  \n",
            " conv1d_3 (Conv1D)           (None, 55, 64)               41024     ['token_embedding[2][0]']     \n",
            "                                                                                                  \n",
            " char_vectorizer (TextVecto  (None, 290)                  0         ['char_input[0][0]']          \n",
            " rization)                                                                                        \n",
            "                                                                                                  \n",
            " global_max_pooling1d_3 (Gl  (None, 64)                   0         ['conv1d_3[0][0]']            \n",
            " obalMaxPooling1D)                                                                                \n",
            "                                                                                                  \n",
            " char_embedding_layer (Embe  (None, 290, 25)              700       ['char_vectorizer[2][0]']     \n",
            " dding)                                                                                           \n",
            "                                                                                                  \n",
            " dense_5 (Dense)             (None, 128)                  8320      ['global_max_pooling1d_3[0][0]\n",
            "                                                                    ']                            \n",
            "                                                                                                  \n",
            " bidirectional_1 (Bidirecti  (None, 48)                   9600      ['char_embedding_layer[2][0]']\n",
            " onal)                                                                                            \n",
            "                                                                                                  \n",
            " token_char_hybrid (Concate  (None, 176)                  0         ['dense_5[0][0]',             \n",
            " nate)                                                               'bidirectional_1[0][0]']     \n",
            "                                                                                                  \n",
            " dropout_2 (Dropout)         (None, 176)                  0         ['token_char_hybrid[0][0]']   \n",
            "                                                                                                  \n",
            " dense_8 (Dense)             (None, 128)                  22656     ['dropout_2[0][0]']           \n",
            "                                                                                                  \n",
            " line_number_input (InputLa  [(None, 15)]                 0         []                            \n",
            " yer)                                                                                             \n",
            "                                                                                                  \n",
            " total_lines_input (InputLa  [(None, 20)]                 0         []                            \n",
            " yer)                                                                                             \n",
            "                                                                                                  \n",
            " dropout_3 (Dropout)         (None, 128)                  0         ['dense_8[0][0]']             \n",
            "                                                                                                  \n",
            " dense_6 (Dense)             (None, 32)                   512       ['line_number_input[0][0]']   \n",
            "                                                                                                  \n",
            " dense_7 (Dense)             (None, 32)                   672       ['total_lines_input[0][0]']   \n",
            "                                                                                                  \n",
            " dense_9 (Dense)             (None, 5)                    645       ['dropout_3[0][0]']           \n",
            "                                                                                                  \n",
            " char_token_position_tribri  (None, 69)                   0         ['dense_6[0][0]',             \n",
            " d (Concatenate)                                                     'dense_7[0][0]',             \n",
            "                                                                     'dense_9[0][0]']             \n",
            "                                                                                                  \n",
            " tf.expand_dims (TFOpLambda  (None, 1, 69)                0         ['char_token_position_tribrid[\n",
            " )                                                                  0][0]']                       \n",
            "                                                                                                  \n",
            " bidirectional_2 (Bidirecti  (None, 512)                  667648    ['tf.expand_dims[0][0]']      \n",
            " onal)                                                                                            \n",
            "                                                                                                  \n",
            " dropout_4 (Dropout)         (None, 512)                  0         ['bidirectional_2[0][0]']     \n",
            "                                                                                                  \n",
            " dense_10 (Dense)            (None, 128)                  65664     ['dropout_4[0][0]']           \n",
            "                                                                                                  \n",
            " dropout_5 (Dropout)         (None, 128)                  0         ['dense_10[0][0]']            \n",
            "                                                                                                  \n",
            " output_layer (Dense)        (None, 5)                    645       ['dropout_5[0][0]']           \n",
            "                                                                                                  \n",
            "==================================================================================================\n",
            "Total params: 9117734 (34.78 MB)\n",
            "Trainable params: 9117734 (34.78 MB)\n",
            "Non-trainable params: 0 (0.00 Byte)\n",
            "__________________________________________________________________________________________________\n"
          ]
        }
      ],
      "source": [
        "model_4.summary()"
      ]
    },
    {
      "cell_type": "code",
      "execution_count": null,
      "metadata": {
        "colab": {
          "base_uri": "https://localhost:8080/",
          "height": 1000
        },
        "id": "A0m9E_uqQrdE",
        "outputId": "079a1d86-c115-4d81-c7cc-59c7ff7b2bfd"
      },
      "outputs": [
        {
          "data": {
            "image/png": "[encoded data removed]",
            "text/plain": [
              "<IPython.core.display.Image object>"
            ]
          },
          "execution_count": 94,
          "metadata": {},
          "output_type": "execute_result"
        }
      ],
      "source": [
        "plot_model(model_4)"
      ]
    },
    {
      "cell_type": "code",
      "execution_count": null,
      "metadata": {
        "id": "nunQwQFnQrdE"
      },
      "outputs": [],
      "source": [
        "# Compile\n",
        "\n",
        "model_4.compile(loss=tf.keras.losses.CategoricalCrossentropy(label_smoothing=0.2),\n",
        "                optimizer=tf.keras.optimizers.Adam(),\n",
        "                metrics=['accuracy'])"
      ]
    },
    {
      "cell_type": "code",
      "execution_count": null,
      "metadata": {
        "colab": {
          "base_uri": "https://localhost:8080/"
        },
        "id": "jcibIqn3QrdE",
        "outputId": "289b0b1f-dba6-438b-a50c-23614076fc5a"
      },
      "outputs": [
        {
          "data": {
            "text/plain": [
              "(<_PrefetchDataset element_spec=((TensorSpec(shape=(None, 15), dtype=tf.float32, name=None), TensorSpec(shape=(None, 20), dtype=tf.float32, name=None), TensorSpec(shape=(None,), dtype=tf.string, name=None), TensorSpec(shape=(None,), dtype=tf.string, name=None)), TensorSpec(shape=(None, 5), dtype=tf.float64, name=None))>,\n",
              " <_PrefetchDataset element_spec=((TensorSpec(shape=(None, 15), dtype=tf.float32, name=None), TensorSpec(shape=(None, 20), dtype=tf.float32, name=None), TensorSpec(shape=(None,), dtype=tf.string, name=None), TensorSpec(shape=(None,), dtype=tf.string, name=None)), TensorSpec(shape=(None, 5), dtype=tf.float64, name=None))>)"
            ]
          },
          "execution_count": 96,
          "metadata": {},
          "output_type": "execute_result"
        }
      ],
      "source": [
        "\n",
        "# Create training and validation datasets (all four kinds of inputs)\n",
        "train_pos_char_token_data = tf.data.Dataset.from_tensor_slices((train_line_numbers_one_hot, # line numbers\n",
        "                                                                train_total_lines_one_hot, # total lines\n",
        "                                                                train_sentences, # train tokens\n",
        "                                                                train_chars)) # train chars\n",
        "train_pos_char_token_labels = tf.data.Dataset.from_tensor_slices(train_labels_one_hot) # train labels\n",
        "train_pos_char_token_dataset = tf.data.Dataset.zip((train_pos_char_token_data, train_pos_char_token_labels)) # combine data and labels\n",
        "train_pos_char_token_dataset = train_pos_char_token_dataset.batch(32).prefetch(tf.data.AUTOTUNE) # turn into batches and prefetch appropriately\n",
        "\n",
        "# Validation dataset\n",
        "val_pos_char_token_data = tf.data.Dataset.from_tensor_slices((val_line_numbers_one_hot,\n",
        "                                                              val_total_lines_one_hot,\n",
        "                                                              val_sentences,\n",
        "                                                              val_chars))\n",
        "val_pos_char_token_labels = tf.data.Dataset.from_tensor_slices(val_labels_one_hot)\n",
        "val_pos_char_token_dataset = tf.data.Dataset.zip((val_pos_char_token_data, val_pos_char_token_labels))\n",
        "val_pos_char_token_dataset = val_pos_char_token_dataset.batch(32).prefetch(tf.data.AUTOTUNE) # turn into batches and prefetch appropriately\n",
        "\n",
        "test_pos_char_token_data = tf.data.Dataset.from_tensor_slices((test_line_numbers_one_hot,\n",
        "                                                               test_total_lines_one_hot,\n",
        "                                                               test_sentences,\n",
        "                                                               test_chars))\n",
        "test_pos_char_token_labels = tf.data.Dataset.from_tensor_slices(test_labels_one_hot)\n",
        "test_pos_char_token_dataset = tf.data.Dataset.zip((test_pos_char_token_data, test_pos_char_token_labels))\n",
        "test_pos_char_token_dataset = test_pos_char_token_dataset.batch(32).prefetch(tf.data.AUTOTUNE) # turn into batches and prefetch appropriately\n",
        "\n",
        "# Check input shapes\n",
        "train_pos_char_token_dataset, val_pos_char_token_dataset"
      ]
    },
    {
      "cell_type": "code",
      "execution_count": null,
      "metadata": {
        "colab": {
          "base_uri": "https://localhost:8080/"
        },
        "id": "mq0oTrmRQrdF",
        "outputId": "34157878-f8ed-4d59-be71-f72899175bdc"
      },
      "outputs": [
        {
          "name": "stdout",
          "output_type": "stream",
          "text": [
            "Epoch 1/10\n",
            "562/562 [==============================] - 56s 74ms/step - loss: 1.0914 - accuracy: 0.7021 - val_loss: 0.9282 - val_accuracy: 0.8045\n",
            "Epoch 2/10\n",
            "562/562 [==============================] - 26s 46ms/step - loss: 0.9202 - accuracy: 0.8365 - val_loss: 0.9080 - val_accuracy: 0.8308\n",
            "Epoch 3/10\n",
            "562/562 [==============================] - 23s 41ms/step - loss: 0.8962 - accuracy: 0.8484 - val_loss: 0.8976 - val_accuracy: 0.8334\n",
            "Epoch 4/10\n",
            "562/562 [==============================] - 25s 45ms/step - loss: 0.8907 - accuracy: 0.8551 - val_loss: 0.8900 - val_accuracy: 0.8334\n",
            "Epoch 5/10\n",
            "562/562 [==============================] - 24s 43ms/step - loss: 0.8835 - accuracy: 0.8583 - val_loss: 0.8814 - val_accuracy: 0.8374\n",
            "Epoch 6/10\n",
            "562/562 [==============================] - 24s 43ms/step - loss: 0.8843 - accuracy: 0.8568 - val_loss: 0.8774 - val_accuracy: 0.8481\n",
            "Epoch 7/10\n",
            "562/562 [==============================] - 28s 49ms/step - loss: 0.8730 - accuracy: 0.8689 - val_loss: 0.8770 - val_accuracy: 0.8497\n",
            "Epoch 8/10\n",
            "562/562 [==============================] - 24s 43ms/step - loss: 0.8652 - accuracy: 0.8729 - val_loss: 0.8776 - val_accuracy: 0.8471\n",
            "Epoch 9/10\n",
            "562/562 [==============================] - 24s 43ms/step - loss: 0.8669 - accuracy: 0.8709 - val_loss: 0.8853 - val_accuracy: 0.8451\n",
            "Epoch 10/10\n",
            "562/562 [==============================] - 26s 46ms/step - loss: 0.8657 - accuracy: 0.8747 - val_loss: 0.8841 - val_accuracy: 0.8467\n"
          ]
        }
      ],
      "source": [
        "# Fit the token, char and positional embedding model\n",
        "history_model_4 = model_4.fit(train_pos_char_token_dataset,\n",
        "                              steps_per_epoch=int(0.1 * len(train_pos_char_token_dataset)),\n",
        "                              epochs=10,\n",
        "                              validation_data=val_pos_char_token_dataset,\n",
        "                              validation_steps=int(0.1 * len(val_pos_char_token_dataset)),\n",
        "                              callbacks=[callback])"
      ]
    },
    {
      "cell_type": "code",
      "execution_count": null,
      "metadata": {
        "colab": {
          "base_uri": "https://localhost:8080/"
        },
        "id": "jFEE32NfCTEG",
        "outputId": "e92de7bc-c77e-4324-da9e-127666e50a8c"
      },
      "outputs": [
        {
          "name": "stdout",
          "output_type": "stream",
          "text": [
            "945/945 [==============================] - 13s 14ms/step - loss: 0.8793 - accuracy: 0.8494\n"
          ]
        },
        {
          "data": {
            "text/plain": [
              "[0.8792526125907898, 0.8493645191192627]"
            ]
          },
          "execution_count": 98,
          "metadata": {},
          "output_type": "execute_result"
        }
      ],
      "source": [
        "model_4.evaluate(val_pos_char_token_dataset)"
      ]
    },
    {
      "cell_type": "code",
      "execution_count": null,
      "metadata": {
        "colab": {
          "base_uri": "https://localhost:8080/"
        },
        "id": "q0Dd4yW6QrdF",
        "outputId": "35d22af0-0cc6-4057-d805-0941852eae57"
      },
      "outputs": [
        {
          "name": "stdout",
          "output_type": "stream",
          "text": [
            "942/942 [==============================] - 49s 15ms/step\n"
          ]
        },
        {
          "data": {
            "text/plain": [
              "<tf.Tensor: shape=(30135,), dtype=int64, numpy=array([3, 2, 2, ..., 4, 4, 1])>"
            ]
          },
          "execution_count": 99,
          "metadata": {},
          "output_type": "execute_result"
        }
      ],
      "source": [
        "model_4_pred_probs = tf.argmax(model_4.predict(test_pos_char_token_dataset, verbose=1), axis=1)\n",
        "model_4_pred_probs"
      ]
    },
    {
      "cell_type": "code",
      "execution_count": null,
      "metadata": {
        "colab": {
          "base_uri": "https://localhost:8080/"
        },
        "id": "e5Z3P9pnQrdF",
        "outputId": "193bc94a-b926-49eb-e8b4-c984a250f8c0"
      },
      "outputs": [
        {
          "data": {
            "text/plain": [
              "{'accuracy': 84.47652231624357,\n",
              " 'precision': 0.8452378346976795,\n",
              " 'recall': 0.8447652231624357,\n",
              " 'f1': 0.8434445888670227}"
            ]
          },
          "execution_count": 100,
          "metadata": {},
          "output_type": "execute_result"
        }
      ],
      "source": [
        "model_4_results = calculate_results(y_true=test_label_encoded,\n",
        "                                    y_pred=model_4_pred_probs)\n",
        "model_4_results"
      ]
    },
    {
      "cell_type": "markdown",
      "metadata": {
        "id": "D8GhsQArQrdF"
      },
      "source": [
        "# Model 5: Token Embedding (via Universal Sentence Encoder) + Character Embedding + Positional Embedding"
      ]
    },
    {
      "cell_type": "code",
      "execution_count": null,
      "metadata": {
        "id": "puGwtBIVQrdF"
      },
      "outputs": [],
      "source": [
        "import tensorflow_hub as hub\n",
        "embed = hub.KerasLayer(\"https://www.kaggle.com/models/google/universal-sentence-encoder/TensorFlow2/universal-sentence-encoder/2\",\n",
        "                                        trainable=False,\n",
        "                                        name=\"universal_sentence_encoder\")"
      ]
    },
    {
      "cell_type": "code",
      "execution_count": null,
      "metadata": {
        "id": "J_-rT2ZCQrdG"
      },
      "outputs": [],
      "source": [
        "# Building Tribrid embedding model\n",
        "\n",
        "# 1. Setup token inputs/model\n",
        "token_inputs = layers.Input(shape=[], dtype=tf.string, name='token_input')\n",
        "token_embed = embed(token_inputs)\n",
        "token_outputs = layers.Dense(128, activation='relu')(token_embed)\n",
        "token_model = tf.keras.Model(token_inputs, token_outputs)\n",
        "\n",
        "# 2. Setup char inputs/model\n",
        "char_inputs = layers.Input(shape=[], dtype=tf.string, name='char_input')\n",
        "char_embedding = embed(char_inputs)\n",
        "char_embedding = tf.expand_dims(char_embedding, axis=1)\n",
        "char_bi_lstm = layers.Bidirectional(layers.LSTM(24))(char_embedding)\n",
        "char_model = tf.keras.Model(char_inputs, char_bi_lstm)\n",
        "\n",
        "# 3. Setup line number inputs/model\n",
        "\n",
        "line_number_layer = layers.Input(shape=(15,), dtype=tf.float32, name='line_number_input')\n",
        "x=layers.Dense(32, activation='relu')(line_number_layer)\n",
        "line_number_model = tf.keras.Model(line_number_layer, x)\n",
        "\n",
        "# 4. Setup total lines inputs/model\n",
        "\n",
        "total_lines_layer = layers.Input(shape=(20,), dtype=tf.float32, name='total_lines_input')\n",
        "x=layers.Dense(32, activation='relu')(total_lines_layer)\n",
        "total_lines_model = tf.keras.Model(total_lines_layer, x)\n",
        "\n",
        "# 5. Combine token and char embedding into hybrid embeddings\n",
        "token_char_concat = layers.Concatenate(name='token_char_hybrid')([token_model.output, char_model.output])\n",
        "\n",
        "# 6. Create output layer for token-char model after Dropout\n",
        "combined_dropout = layers.Dropout(0.5)(token_char_concat)\n",
        "combined_dense = layers.Dense(128, activation='relu')(combined_dropout)\n",
        "final_dropout = layers.Dropout(0.5)(combined_dense)\n",
        "output_layer = layers.Dense(num_classes, activation='softmax')(final_dropout)\n",
        "\n",
        "# 7. Combine positional embedding with token char hybrid embedding\n",
        "tribrid_embedding = layers.Concatenate(name='char_token_position_tribrid')([line_number_model.output,\n",
        "                                                                            total_lines_model.output,\n",
        "                                                                            output_layer])\n",
        "\n",
        "# 8. Create Output Layer\n",
        "tribrid_embedding = tf.expand_dims(tribrid_embedding, axis=1)\n",
        "layer = layers.Bidirectional(layers.LSTM(256))(tribrid_embedding)\n",
        "combined_dropout = layers.Dropout(0.5)(layer)\n",
        "combined_dense = layers.Dense(128, activation='relu')(combined_dropout)\n",
        "final_dropout = layers.Dropout(0.5)(combined_dense)\n",
        "output_layer = layers.Dense(num_classes, activation='softmax', name='output_layer')(final_dropout)\n",
        "\n",
        "model_5 = tf.keras.Model(inputs=[line_number_model.input,\n",
        "                                 total_lines_model.input,\n",
        "                                 token_model.input,\n",
        "                                 char_model.input],\n",
        "                                 outputs=output_layer,\n",
        "                                 name='tribrid_embedding_model')\n",
        "\n"
      ]
    },
    {
      "cell_type": "code",
      "execution_count": null,
      "metadata": {
        "id": "u_vNBYL5c7yI"
      },
      "outputs": [],
      "source": [
        "model_5.compile(loss=tf.keras.losses.CategoricalCrossentropy(label_smoothing=0.2),\n",
        "                optimizer=tf.keras.optimizers.Adam(),\n",
        "                metrics=['accuracy'])"
      ]
    },
    {
      "cell_type": "code",
      "execution_count": null,
      "metadata": {
        "colab": {
          "base_uri": "https://localhost:8080/"
        },
        "id": "5JUxSnyadZx5",
        "outputId": "61244770-524a-48c4-90d8-4fbc7cc61adb"
      },
      "outputs": [
        {
          "name": "stdout",
          "output_type": "stream",
          "text": [
            "Model: \"tribrid_embedding_model\"\n",
            "__________________________________________________________________________________________________\n",
            " Layer (type)                Output Shape                 Param #   Connected to                  \n",
            "==================================================================================================\n",
            " token_input (InputLayer)    [(None,)]                    0         []                            \n",
            "                                                                                                  \n",
            " char_input (InputLayer)     [(None,)]                    0         []                            \n",
            "                                                                                                  \n",
            " universal_sentence_encoder  (None, 512)                  2567978   ['token_input[0][0]',         \n",
            "  (KerasLayer)                                            24         'char_input[0][0]']          \n",
            "                                                                                                  \n",
            " tf.expand_dims_1 (TFOpLamb  (None, 1, 512)               0         ['universal_sentence_encoder[1\n",
            " da)                                                                ][0]']                        \n",
            "                                                                                                  \n",
            " dense_11 (Dense)            (None, 128)                  65664     ['universal_sentence_encoder[0\n",
            "                                                                    ][0]']                        \n",
            "                                                                                                  \n",
            " bidirectional_3 (Bidirecti  (None, 48)                   103104    ['tf.expand_dims_1[0][0]']    \n",
            " onal)                                                                                            \n",
            "                                                                                                  \n",
            " token_char_hybrid (Concate  (None, 176)                  0         ['dense_11[0][0]',            \n",
            " nate)                                                               'bidirectional_3[0][0]']     \n",
            "                                                                                                  \n",
            " dropout_6 (Dropout)         (None, 176)                  0         ['token_char_hybrid[0][0]']   \n",
            "                                                                                                  \n",
            " dense_14 (Dense)            (None, 128)                  22656     ['dropout_6[0][0]']           \n",
            "                                                                                                  \n",
            " line_number_input (InputLa  [(None, 15)]                 0         []                            \n",
            " yer)                                                                                             \n",
            "                                                                                                  \n",
            " total_lines_input (InputLa  [(None, 20)]                 0         []                            \n",
            " yer)                                                                                             \n",
            "                                                                                                  \n",
            " dropout_7 (Dropout)         (None, 128)                  0         ['dense_14[0][0]']            \n",
            "                                                                                                  \n",
            " dense_12 (Dense)            (None, 32)                   512       ['line_number_input[0][0]']   \n",
            "                                                                                                  \n",
            " dense_13 (Dense)            (None, 32)                   672       ['total_lines_input[0][0]']   \n",
            "                                                                                                  \n",
            " dense_15 (Dense)            (None, 5)                    645       ['dropout_7[0][0]']           \n",
            "                                                                                                  \n",
            " char_token_position_tribri  (None, 69)                   0         ['dense_12[0][0]',            \n",
            " d (Concatenate)                                                     'dense_13[0][0]',            \n",
            "                                                                     'dense_15[0][0]']            \n",
            "                                                                                                  \n",
            " tf.expand_dims_2 (TFOpLamb  (None, 1, 69)                0         ['char_token_position_tribrid[\n",
            " da)                                                                0][0]']                       \n",
            "                                                                                                  \n",
            " bidirectional_4 (Bidirecti  (None, 512)                  667648    ['tf.expand_dims_2[0][0]']    \n",
            " onal)                                                                                            \n",
            "                                                                                                  \n",
            " dropout_8 (Dropout)         (None, 512)                  0         ['bidirectional_4[0][0]']     \n",
            "                                                                                                  \n",
            " dense_16 (Dense)            (None, 128)                  65664     ['dropout_8[0][0]']           \n",
            "                                                                                                  \n",
            " dropout_9 (Dropout)         (None, 128)                  0         ['dense_16[0][0]']            \n",
            "                                                                                                  \n",
            " output_layer (Dense)        (None, 5)                    645       ['dropout_9[0][0]']           \n",
            "                                                                                                  \n",
            "==================================================================================================\n",
            "Total params: 257725034 (983.14 MB)\n",
            "Trainable params: 927210 (3.54 MB)\n",
            "Non-trainable params: 256797824 (979.61 MB)\n",
            "__________________________________________________________________________________________________\n"
          ]
        }
      ],
      "source": [
        "model_5.summary()"
      ]
    },
    {
      "cell_type": "code",
      "execution_count": null,
      "metadata": {
        "colab": {
          "base_uri": "https://localhost:8080/",
          "height": 1000
        },
        "id": "kLQsO0eCdbzD",
        "outputId": "49f7d113-34f6-4940-e914-23bc14cb89a1"
      },
      "outputs": [
        {
          "data": {
            "image/png": "[encoded data removed]",
            "text/plain": [
              "<IPython.core.display.Image object>"
            ]
          },
          "execution_count": 105,
          "metadata": {},
          "output_type": "execute_result"
        }
      ],
      "source": [
        "plot_model(model_5)"
      ]
    },
    {
      "cell_type": "code",
      "execution_count": null,
      "metadata": {
        "colab": {
          "base_uri": "https://localhost:8080/"
        },
        "id": "qId415y7j7LC",
        "outputId": "89e90a85-df86-4f99-c12f-7478688f6d9c"
      },
      "outputs": [
        {
          "name": "stdout",
          "output_type": "stream",
          "text": [
            "Epoch 1/10\n",
            "562/562 [==============================] - 43s 50ms/step - loss: 1.1756 - accuracy: 0.6371 - val_loss: 1.0170 - val_accuracy: 0.7530\n",
            "Epoch 2/10\n",
            "562/562 [==============================] - 27s 49ms/step - loss: 1.0184 - accuracy: 0.7641 - val_loss: 0.9628 - val_accuracy: 0.7906\n",
            "Epoch 3/10\n",
            "562/562 [==============================] - 25s 44ms/step - loss: 0.9877 - accuracy: 0.7870 - val_loss: 0.9388 - val_accuracy: 0.8015\n",
            "Epoch 4/10\n",
            "562/562 [==============================] - 24s 42ms/step - loss: 0.9735 - accuracy: 0.7958 - val_loss: 0.9282 - val_accuracy: 0.8118\n",
            "Epoch 5/10\n",
            "562/562 [==============================] - 24s 42ms/step - loss: 0.9665 - accuracy: 0.8023 - val_loss: 0.9188 - val_accuracy: 0.8155\n",
            "Epoch 6/10\n",
            "562/562 [==============================] - 25s 45ms/step - loss: 0.9661 - accuracy: 0.8004 - val_loss: 0.9121 - val_accuracy: 0.8211\n",
            "Epoch 7/10\n",
            "562/562 [==============================] - 25s 45ms/step - loss: 0.9523 - accuracy: 0.8075 - val_loss: 0.9059 - val_accuracy: 0.8248\n",
            "Epoch 8/10\n",
            "562/562 [==============================] - 27s 48ms/step - loss: 0.9465 - accuracy: 0.8099 - val_loss: 0.8962 - val_accuracy: 0.8301\n",
            "Epoch 9/10\n",
            "562/562 [==============================] - 24s 43ms/step - loss: 0.9499 - accuracy: 0.8126 - val_loss: 0.9072 - val_accuracy: 0.8211\n",
            "Epoch 10/10\n",
            "562/562 [==============================] - 24s 43ms/step - loss: 0.9434 - accuracy: 0.8169 - val_loss: 0.8982 - val_accuracy: 0.8265\n"
          ]
        }
      ],
      "source": [
        "history_model_5 = model_5.fit(train_pos_char_token_dataset,\n",
        "                              steps_per_epoch=int(0.1 * len(train_pos_char_token_dataset)),\n",
        "                              epochs=10,\n",
        "                              validation_data=val_pos_char_token_dataset,\n",
        "                              validation_steps=int(0.1 * len(val_pos_char_token_dataset)),\n",
        "                              callbacks=[callback])"
      ]
    },
    {
      "cell_type": "code",
      "execution_count": null,
      "metadata": {
        "colab": {
          "base_uri": "https://localhost:8080/"
        },
        "id": "2D3HVky9c7vV",
        "outputId": "6daca30d-a9ea-48eb-af2f-90b66b6e45cc"
      },
      "outputs": [
        {
          "name": "stdout",
          "output_type": "stream",
          "text": [
            "942/942 [==============================] - 28s 28ms/step\n"
          ]
        },
        {
          "data": {
            "text/plain": [
              "<tf.Tensor: shape=(30135,), dtype=int64, numpy=array([3, 2, 2, ..., 4, 4, 4])>"
            ]
          },
          "execution_count": 107,
          "metadata": {},
          "output_type": "execute_result"
        }
      ],
      "source": [
        "model_5_pred_probs = tf.argmax(model_5.predict(test_pos_char_token_dataset, verbose=1), axis=1)\n",
        "model_5_pred_probs"
      ]
    },
    {
      "cell_type": "code",
      "execution_count": null,
      "metadata": {
        "colab": {
          "base_uri": "https://localhost:8080/"
        },
        "id": "jRXikIeUc7oo",
        "outputId": "eedc9d5f-0935-4a1a-e904-6f84455b9876"
      },
      "outputs": [
        {
          "data": {
            "text/plain": [
              "{'accuracy': 82.57839721254355,\n",
              " 'precision': 0.8241494518635197,\n",
              " 'recall': 0.8257839721254355,\n",
              " 'f1': 0.8166334116862802}"
            ]
          },
          "execution_count": 108,
          "metadata": {},
          "output_type": "execute_result"
        }
      ],
      "source": [
        "model_5_results = calculate_results(y_true=test_label_encoded,\n",
        "                                    y_pred=model_5_pred_probs)\n",
        "model_5_results"
      ]
    },
    {
      "cell_type": "markdown",
      "metadata": {
        "id": "soD9btwkCpWJ"
      },
      "source": [
        "# Model 6: Token Embedding (via USE) + Character Embedding + Positional Embedding + Line Relation"
      ]
    },
    {
      "cell_type": "code",
      "execution_count": null,
      "metadata": {
        "colab": {
          "base_uri": "https://localhost:8080/",
          "height": 363
        },
        "id": "UdzYSyBGCxPD",
        "outputId": "323a46ad-83b6-476c-8d00-ab69058740a6"
      },
      "outputs": [
        {
          "data": {
            "application/vnd.google.colaboratory.intrinsic+json": {
              "type": "dataframe",
              "variable_name": "train_df"
            },
            "text/html": [
              "\n",
              "  <div id=\"df-27fd9d1b-ed24-46d0-9c0b-6368488b790e\" class=\"colab-df-container\">\n",
              "    <div>\n",
              "<style scoped>\n",
              "    .dataframe tbody tr th:only-of-type {\n",
              "        vertical-align: middle;\n",
              "    }\n",
              "\n",
              "    .dataframe tbody tr th {\n",
              "        vertical-align: top;\n",
              "    }\n",
              "\n",
              "    .dataframe thead th {\n",
              "        text-align: right;\n",
              "    }\n",
              "</style>\n",
              "<table border=\"1\" class=\"dataframe\">\n",
              "  <thead>\n",
              "    <tr style=\"text-align: right;\">\n",
              "      <th></th>\n",
              "      <th>target</th>\n",
              "      <th>text</th>\n",
              "      <th>line_number</th>\n",
              "      <th>total_lines</th>\n",
              "      <th>line_number_total</th>\n",
              "    </tr>\n",
              "  </thead>\n",
              "  <tbody>\n",
              "    <tr>\n",
              "      <th>0</th>\n",
              "      <td>OBJECTIVE</td>\n",
              "      <td>to investigate the efficacy of @ weeks of dail...</td>\n",
              "      <td>0</td>\n",
              "      <td>11</td>\n",
              "      <td>0_of_11</td>\n",
              "    </tr>\n",
              "    <tr>\n",
              "      <th>1</th>\n",
              "      <td>METHODS</td>\n",
              "      <td>a total of @ patients with primary knee oa wer...</td>\n",
              "      <td>1</td>\n",
              "      <td>11</td>\n",
              "      <td>1_of_11</td>\n",
              "    </tr>\n",
              "    <tr>\n",
              "      <th>2</th>\n",
              "      <td>METHODS</td>\n",
              "      <td>outcome measures included pain reduction and i...</td>\n",
              "      <td>2</td>\n",
              "      <td>11</td>\n",
              "      <td>2_of_11</td>\n",
              "    </tr>\n",
              "    <tr>\n",
              "      <th>3</th>\n",
              "      <td>METHODS</td>\n",
              "      <td>pain was assessed using the visual analog pain...</td>\n",
              "      <td>3</td>\n",
              "      <td>11</td>\n",
              "      <td>3_of_11</td>\n",
              "    </tr>\n",
              "    <tr>\n",
              "      <th>4</th>\n",
              "      <td>METHODS</td>\n",
              "      <td>secondary outcome measures included the wester...</td>\n",
              "      <td>4</td>\n",
              "      <td>11</td>\n",
              "      <td>4_of_11</td>\n",
              "    </tr>\n",
              "    <tr>\n",
              "      <th>5</th>\n",
              "      <td>METHODS</td>\n",
              "      <td>serum levels of interleukin @ ( il-@ ) , il-@ ...</td>\n",
              "      <td>5</td>\n",
              "      <td>11</td>\n",
              "      <td>5_of_11</td>\n",
              "    </tr>\n",
              "    <tr>\n",
              "      <th>6</th>\n",
              "      <td>RESULTS</td>\n",
              "      <td>there was a clinically relevant reduction in t...</td>\n",
              "      <td>6</td>\n",
              "      <td>11</td>\n",
              "      <td>6_of_11</td>\n",
              "    </tr>\n",
              "    <tr>\n",
              "      <th>7</th>\n",
              "      <td>RESULTS</td>\n",
              "      <td>the mean difference between treatment arms ( @...</td>\n",
              "      <td>7</td>\n",
              "      <td>11</td>\n",
              "      <td>7_of_11</td>\n",
              "    </tr>\n",
              "    <tr>\n",
              "      <th>8</th>\n",
              "      <td>RESULTS</td>\n",
              "      <td>further , there was a clinically relevant redu...</td>\n",
              "      <td>8</td>\n",
              "      <td>11</td>\n",
              "      <td>8_of_11</td>\n",
              "    </tr>\n",
              "    <tr>\n",
              "      <th>9</th>\n",
              "      <td>RESULTS</td>\n",
              "      <td>these differences remained significant at @ we...</td>\n",
              "      <td>9</td>\n",
              "      <td>11</td>\n",
              "      <td>9_of_11</td>\n",
              "    </tr>\n",
              "  </tbody>\n",
              "</table>\n",
              "</div>\n",
              "    <div class=\"colab-df-buttons\">\n",
              "\n",
              "  <div class=\"colab-df-container\">\n",
              "    <button class=\"colab-df-convert\" onclick=\"convertToInteractive('df-27fd9d1b-ed24-46d0-9c0b-6368488b790e')\"\n",
              "            title=\"Convert this dataframe to an interactive table.\"\n",
              "            style=\"display:none;\">\n",
              "\n",
              "  <svg xmlns=\"http://www.w3.org/2000/svg\" height=\"24px\" viewBox=\"0 -960 960 960\">\n",
              "    <path d=\"M120-120v-720h720v720H120Zm60-500h600v-160H180v160Zm220 220h160v-160H400v160Zm0 220h160v-160H400v160ZM180-400h160v-160H180v160Zm440 0h160v-160H620v160ZM180-180h160v-160H180v160Zm440 0h160v-160H620v160Z\"/>\n",
              "  </svg>\n",
              "    </button>\n",
              "\n",
              "  <style>\n",
              "    .colab-df-container {\n",
              "      display:flex;\n",
              "      gap: 12px;\n",
              "    }\n",
              "\n",
              "    .colab-df-convert {\n",
              "      background-color: #E8F0FE;\n",
              "      border: none;\n",
              "      border-radius: 50%;\n",
              "      cursor: pointer;\n",
              "      display: none;\n",
              "      fill: #1967D2;\n",
              "      height: 32px;\n",
              "      padding: 0 0 0 0;\n",
              "      width: 32px;\n",
              "    }\n",
              "\n",
              "    .colab-df-convert:hover {\n",
              "      background-color: #E2EBFA;\n",
              "      box-shadow: 0px 1px 2px rgba(60, 64, 67, 0.3), 0px 1px 3px 1px rgba(60, 64, 67, 0.15);\n",
              "      fill: #174EA6;\n",
              "    }\n",
              "\n",
              "    .colab-df-buttons div {\n",
              "      margin-bottom: 4px;\n",
              "    }\n",
              "\n",
              "    [theme=dark] .colab-df-convert {\n",
              "      background-color: #3B4455;\n",
              "      fill: #D2E3FC;\n",
              "    }\n",
              "\n",
              "    [theme=dark] .colab-df-convert:hover {\n",
              "      background-color: #434B5C;\n",
              "      box-shadow: 0px 1px 3px 1px rgba(0, 0, 0, 0.15);\n",
              "      filter: drop-shadow(0px 1px 2px rgba(0, 0, 0, 0.3));\n",
              "      fill: #FFFFFF;\n",
              "    }\n",
              "  </style>\n",
              "\n",
              "    <script>\n",
              "      const buttonEl =\n",
              "        document.querySelector('#df-27fd9d1b-ed24-46d0-9c0b-6368488b790e button.colab-df-convert');\n",
              "      buttonEl.style.display =\n",
              "        google.colab.kernel.accessAllowed ? 'block' : 'none';\n",
              "\n",
              "      async function convertToInteractive(key) {\n",
              "        const element = document.querySelector('#df-27fd9d1b-ed24-46d0-9c0b-6368488b790e');\n",
              "        const dataTable =\n",
              "          await google.colab.kernel.invokeFunction('convertToInteractive',\n",
              "                                                    [key], {});\n",
              "        if (!dataTable) return;\n",
              "\n",
              "        const docLinkHtml = 'Like what you see? Visit the ' +\n",
              "          '<a target=\"_blank\" href=https://colab.research.google.com/notebooks/data_table.ipynb>data table notebook</a>'\n",
              "          + ' to learn more about interactive tables.';\n",
              "        element.innerHTML = '';\n",
              "        dataTable['output_type'] = 'display_data';\n",
              "        await google.colab.output.renderOutput(dataTable, element);\n",
              "        const docLink = document.createElement('div');\n",
              "        docLink.innerHTML = docLinkHtml;\n",
              "        element.appendChild(docLink);\n",
              "      }\n",
              "    </script>\n",
              "  </div>\n",
              "\n",
              "\n",
              "<div id=\"df-c742ed2e-4638-4cb2-a43e-51a8734e4621\">\n",
              "  <button class=\"colab-df-quickchart\" onclick=\"quickchart('df-c742ed2e-4638-4cb2-a43e-51a8734e4621')\"\n",
              "            title=\"Suggest charts\"\n",
              "            style=\"display:none;\">\n",
              "\n",
              "<svg xmlns=\"http://www.w3.org/2000/svg\" height=\"24px\"viewBox=\"0 0 24 24\"\n",
              "     width=\"24px\">\n",
              "    <g>\n",
              "        <path d=\"M19 3H5c-1.1 0-2 .9-2 2v14c0 1.1.9 2 2 2h14c1.1 0 2-.9 2-2V5c0-1.1-.9-2-2-2zM9 17H7v-7h2v7zm4 0h-2V7h2v10zm4 0h-2v-4h2v4z\"/>\n",
              "    </g>\n",
              "</svg>\n",
              "  </button>\n",
              "\n",
              "<style>\n",
              "  .colab-df-quickchart {\n",
              "      --bg-color: #E8F0FE;\n",
              "      --fill-color: #1967D2;\n",
              "      --hover-bg-color: #E2EBFA;\n",
              "      --hover-fill-color: #174EA6;\n",
              "      --disabled-fill-color: #AAA;\n",
              "      --disabled-bg-color: #DDD;\n",
              "  }\n",
              "\n",
              "  [theme=dark] .colab-df-quickchart {\n",
              "      --bg-color: #3B4455;\n",
              "      --fill-color: #D2E3FC;\n",
              "      --hover-bg-color: #434B5C;\n",
              "      --hover-fill-color: #FFFFFF;\n",
              "      --disabled-bg-color: #3B4455;\n",
              "      --disabled-fill-color: #666;\n",
              "  }\n",
              "\n",
              "  .colab-df-quickchart {\n",
              "    background-color: var(--bg-color);\n",
              "    border: none;\n",
              "    border-radius: 50%;\n",
              "    cursor: pointer;\n",
              "    display: none;\n",
              "    fill: var(--fill-color);\n",
              "    height: 32px;\n",
              "    padding: 0;\n",
              "    width: 32px;\n",
              "  }\n",
              "\n",
              "  .colab-df-quickchart:hover {\n",
              "    background-color: var(--hover-bg-color);\n",
              "    box-shadow: 0 1px 2px rgba(60, 64, 67, 0.3), 0 1px 3px 1px rgba(60, 64, 67, 0.15);\n",
              "    fill: var(--button-hover-fill-color);\n",
              "  }\n",
              "\n",
              "  .colab-df-quickchart-complete:disabled,\n",
              "  .colab-df-quickchart-complete:disabled:hover {\n",
              "    background-color: var(--disabled-bg-color);\n",
              "    fill: var(--disabled-fill-color);\n",
              "    box-shadow: none;\n",
              "  }\n",
              "\n",
              "  .colab-df-spinner {\n",
              "    border: 2px solid var(--fill-color);\n",
              "    border-color: transparent;\n",
              "    border-bottom-color: var(--fill-color);\n",
              "    animation:\n",
              "      spin 1s steps(1) infinite;\n",
              "  }\n",
              "\n",
              "  @keyframes spin {\n",
              "    0% {\n",
              "      border-color: transparent;\n",
              "      border-bottom-color: var(--fill-color);\n",
              "      border-left-color: var(--fill-color);\n",
              "    }\n",
              "    20% {\n",
              "      border-color: transparent;\n",
              "      border-left-color: var(--fill-color);\n",
              "      border-top-color: var(--fill-color);\n",
              "    }\n",
              "    30% {\n",
              "      border-color: transparent;\n",
              "      border-left-color: var(--fill-color);\n",
              "      border-top-color: var(--fill-color);\n",
              "      border-right-color: var(--fill-color);\n",
              "    }\n",
              "    40% {\n",
              "      border-color: transparent;\n",
              "      border-right-color: var(--fill-color);\n",
              "      border-top-color: var(--fill-color);\n",
              "    }\n",
              "    60% {\n",
              "      border-color: transparent;\n",
              "      border-right-color: var(--fill-color);\n",
              "    }\n",
              "    80% {\n",
              "      border-color: transparent;\n",
              "      border-right-color: var(--fill-color);\n",
              "      border-bottom-color: var(--fill-color);\n",
              "    }\n",
              "    90% {\n",
              "      border-color: transparent;\n",
              "      border-bottom-color: var(--fill-color);\n",
              "    }\n",
              "  }\n",
              "</style>\n",
              "\n",
              "  <script>\n",
              "    async function quickchart(key) {\n",
              "      const quickchartButtonEl =\n",
              "        document.querySelector('#' + key + ' button');\n",
              "      quickchartButtonEl.disabled = true;  // To prevent multiple clicks.\n",
              "      quickchartButtonEl.classList.add('colab-df-spinner');\n",
              "      try {\n",
              "        const charts = await google.colab.kernel.invokeFunction(\n",
              "            'suggestCharts', [key], {});\n",
              "      } catch (error) {\n",
              "        console.error('Error during call to suggestCharts:', error);\n",
              "      }\n",
              "      quickchartButtonEl.classList.remove('colab-df-spinner');\n",
              "      quickchartButtonEl.classList.add('colab-df-quickchart-complete');\n",
              "    }\n",
              "    (() => {\n",
              "      let quickchartButtonEl =\n",
              "        document.querySelector('#df-c742ed2e-4638-4cb2-a43e-51a8734e4621 button');\n",
              "      quickchartButtonEl.style.display =\n",
              "        google.colab.kernel.accessAllowed ? 'block' : 'none';\n",
              "    })();\n",
              "  </script>\n",
              "</div>\n",
              "\n",
              "    </div>\n",
              "  </div>\n"
            ],
            "text/plain": [
              "      target                                               text  line_number  \\\n",
              "0  OBJECTIVE  to investigate the efficacy of @ weeks of dail...            0   \n",
              "1    METHODS  a total of @ patients with primary knee oa wer...            1   \n",
              "2    METHODS  outcome measures included pain reduction and i...            2   \n",
              "3    METHODS  pain was assessed using the visual analog pain...            3   \n",
              "4    METHODS  secondary outcome measures included the wester...            4   \n",
              "5    METHODS  serum levels of interleukin @ ( il-@ ) , il-@ ...            5   \n",
              "6    RESULTS  there was a clinically relevant reduction in t...            6   \n",
              "7    RESULTS  the mean difference between treatment arms ( @...            7   \n",
              "8    RESULTS  further , there was a clinically relevant redu...            8   \n",
              "9    RESULTS  these differences remained significant at @ we...            9   \n",
              "\n",
              "   total_lines line_number_total  \n",
              "0           11           0_of_11  \n",
              "1           11           1_of_11  \n",
              "2           11           2_of_11  \n",
              "3           11           3_of_11  \n",
              "4           11           4_of_11  \n",
              "5           11           5_of_11  \n",
              "6           11           6_of_11  \n",
              "7           11           7_of_11  \n",
              "8           11           8_of_11  \n",
              "9           11           9_of_11  "
            ]
          },
          "execution_count": 109,
          "metadata": {},
          "output_type": "execute_result"
        }
      ],
      "source": [
        "train_df['line_number_total'] = train_df['line_number'].astype(str) + '_of_' + train_df['total_lines'].astype(str)\n",
        "val_df['line_number_total'] = val_df['line_number'].astype(str) + '_of_' + val_df['total_lines'].astype(str)\n",
        "test_df['line_number_total'] = test_df['line_number'].astype(str) + '_of_' + test_df['total_lines'].astype(str)\n",
        "\n",
        "train_df.head(10)"
      ]
    },
    {
      "cell_type": "code",
      "execution_count": null,
      "metadata": {
        "colab": {
          "base_uri": "https://localhost:8080/"
        },
        "id": "wiuNzjd-CxMc",
        "outputId": "5810077a-1c18-4b65-d1e0-9a4017dc9eda"
      },
      "outputs": [
        {
          "data": {
            "text/plain": [
              "((180040, 460), (30212, 460), (30135, 460))"
            ]
          },
          "execution_count": 110,
          "metadata": {},
          "output_type": "execute_result"
        }
      ],
      "source": [
        "from sklearn.preprocessing import OneHotEncoder\n",
        "\n",
        "# Creating an instance\n",
        "one_hot_encoder = OneHotEncoder()\n",
        "\n",
        "# Fitting on the training dataframe\n",
        "one_hot_encoder.fit(np.expand_dims(train_df['line_number_total'] , axis = 1))\n",
        "\n",
        "# Transforming both train and val df\n",
        "train_line_number_total_encoded = one_hot_encoder.transform(np.expand_dims(train_df['line_number_total'] , axis =1))\n",
        "val_line_number_total_encoded  = one_hot_encoder.transform(np.expand_dims(val_df['line_number_total'] , axis= 1))\n",
        "test_line_number_total_encoded  = one_hot_encoder.transform(np.expand_dims(test_df['line_number_total'] , axis= 1))\n",
        "\n",
        "# Checking the shapes\n",
        "train_line_number_total_encoded.shape , val_line_number_total_encoded.shape, test_line_number_total_encoded.shape"
      ]
    },
    {
      "cell_type": "code",
      "execution_count": null,
      "metadata": {
        "id": "vFo9mdHgCxKH"
      },
      "outputs": [],
      "source": [
        "train_line_number_total_encoded = train_line_number_total_encoded.toarray()\n",
        "val_line_number_total_encoded = val_line_number_total_encoded.toarray()\n",
        "test_line_number_total_encoded = test_line_number_total_encoded.toarray()\n",
        "\n",
        "# Converting the datatype to int\n",
        "train_line_number_total_encoded = tf.cast(train_line_number_total_encoded , dtype= tf.int32)\n",
        "val_line_number_total_encoded = tf.cast(val_line_number_total_encoded , dtype= tf.int32)\n",
        "test_line_number_total_encoded = tf.cast(test_line_number_total_encoded , dtype= tf.int32)"
      ]
    },
    {
      "cell_type": "code",
      "execution_count": null,
      "metadata": {
        "colab": {
          "base_uri": "https://localhost:8080/"
        },
        "id": "XLRCdDTPCxE5",
        "outputId": "82ceff9e-d447-4793-831a-776bcc93b8e1"
      },
      "outputs": [
        {
          "data": {
            "text/plain": [
              "(<_PrefetchDataset element_spec=((TensorSpec(shape=(None,), dtype=tf.string, name=None), TensorSpec(shape=(None,), dtype=tf.string, name=None), TensorSpec(shape=(None, 460), dtype=tf.int32, name=None), TensorSpec(shape=(None, 15), dtype=tf.float32, name=None), TensorSpec(shape=(None, 20), dtype=tf.float32, name=None)), TensorSpec(shape=(None, 5), dtype=tf.float64, name=None))>,\n",
              " <_PrefetchDataset element_spec=((TensorSpec(shape=(None,), dtype=tf.string, name=None), TensorSpec(shape=(None,), dtype=tf.string, name=None), TensorSpec(shape=(None, 460), dtype=tf.int32, name=None), TensorSpec(shape=(None, 15), dtype=tf.float32, name=None), TensorSpec(shape=(None, 20), dtype=tf.float32, name=None)), TensorSpec(shape=(None, 5), dtype=tf.float64, name=None))>,\n",
              " <_PrefetchDataset element_spec=((TensorSpec(shape=(None,), dtype=tf.string, name=None), TensorSpec(shape=(None,), dtype=tf.string, name=None), TensorSpec(shape=(None, 460), dtype=tf.int32, name=None), TensorSpec(shape=(None, 15), dtype=tf.float32, name=None), TensorSpec(shape=(None, 20), dtype=tf.float32, name=None)), TensorSpec(shape=(None, 5), dtype=tf.float64, name=None))>)"
            ]
          },
          "execution_count": 112,
          "metadata": {},
          "output_type": "execute_result"
        }
      ],
      "source": [
        "train_data = tf.data.Dataset.from_tensor_slices((train_sentences ,\n",
        "                                                 train_chars ,\n",
        "                                                 train_line_number_total_encoded,\n",
        "                                                 train_line_numbers_one_hot,\n",
        "                                                                train_total_lines_one_hot))\n",
        "\n",
        "train_labels = tf.data.Dataset.from_tensor_slices(train_labels_one_hot)\n",
        "\n",
        "val_data = tf.data.Dataset.from_tensor_slices((val_sentences ,\n",
        "                                               val_chars ,\n",
        "                                               val_line_number_total_encoded,\n",
        "                                               val_line_numbers_one_hot,\n",
        "                                                                val_total_lines_one_hot,))\n",
        "\n",
        "val_labels = tf.data.Dataset.from_tensor_slices(val_labels_one_hot)\n",
        "\n",
        "test_data = tf.data.Dataset.from_tensor_slices((test_sentences ,\n",
        "                                                test_chars ,\n",
        "                                                test_line_number_total_encoded,\n",
        "                                                test_line_numbers_one_hot,\n",
        "                                                                test_total_lines_one_hot,))\n",
        "\n",
        "test_labels = tf.data.Dataset.from_tensor_slices(test_labels_one_hot)\n",
        "\n",
        "# Zipping the data and labels\n",
        "train_dataset = tf.data.Dataset.zip((train_data , train_labels))\n",
        "val_dataset = tf.data.Dataset.zip((val_data , val_labels))\n",
        "test_dataset = tf.data.Dataset.zip((test_data , test_labels))\n",
        "\n",
        "# Applying batch and prefetching\n",
        "train_dataset = train_dataset.batch(64).prefetch(tf.data.AUTOTUNE)\n",
        "val_dataset = val_dataset.batch(64).prefetch(tf.data.AUTOTUNE)\n",
        "test_dataset = test_dataset.batch(64).prefetch(tf.data.AUTOTUNE)\n",
        "\n",
        "train_dataset , val_dataset, test_dataset\n"
      ]
    },
    {
      "cell_type": "code",
      "execution_count": null,
      "metadata": {
        "id": "6ke74q2lwizX"
      },
      "outputs": [],
      "source": [
        "embed.trainable=True"
      ]
    },
    {
      "cell_type": "code",
      "execution_count": null,
      "metadata": {
        "colab": {
          "base_uri": "https://localhost:8080/"
        },
        "id": "HBKxp8s4CxCl",
        "outputId": "118c00e0-9ef7-404b-b127-78a893302416"
      },
      "outputs": [
        {
          "name": "stdout",
          "output_type": "stream",
          "text": [
            "Model: \"model_16\"\n",
            "__________________________________________________________________________________________________\n",
            " Layer (type)                Output Shape                 Param #   Connected to                  \n",
            "==================================================================================================\n",
            " token_input (InputLayer)    [(None,)]                    0         []                            \n",
            "                                                                                                  \n",
            " universal_sentence_encoder  (None, 512)                  2567978   ['token_input[0][0]',         \n",
            "  (KerasLayer)                                            24         'char_input[0][0]']          \n",
            "                                                                                                  \n",
            " tf.expand_dims_3 (TFOpLamb  (None, 1, 512)               0         ['universal_sentence_encoder[2\n",
            " da)                                                                ][0]']                        \n",
            "                                                                                                  \n",
            " char_input (InputLayer)     [(None,)]                    0         []                            \n",
            "                                                                                                  \n",
            " conv1d_4 (Conv1D)           (None, 1, 64)                163904    ['tf.expand_dims_3[0][0]']    \n",
            "                                                                                                  \n",
            " global_max_pooling1d_4 (Gl  (None, 64)                   0         ['conv1d_4[0][0]']            \n",
            " obalMaxPooling1D)                                                                                \n",
            "                                                                                                  \n",
            " tf.expand_dims_4 (TFOpLamb  (None, 1, 512)               0         ['universal_sentence_encoder[3\n",
            " da)                                                                ][0]']                        \n",
            "                                                                                                  \n",
            " input_3 (InputLayer)        [(None, 460)]                0         []                            \n",
            "                                                                                                  \n",
            " line_number_input (InputLa  [(None, 15)]                 0         []                            \n",
            " yer)                                                                                             \n",
            "                                                                                                  \n",
            " total_lines_input (InputLa  [(None, 20)]                 0         []                            \n",
            " yer)                                                                                             \n",
            "                                                                                                  \n",
            " dense_17 (Dense)            (None, 128)                  8320      ['global_max_pooling1d_4[0][0]\n",
            "                                                                    ']                            \n",
            "                                                                                                  \n",
            " bidirectional_5 (Bidirecti  (None, 48)                   103104    ['tf.expand_dims_4[0][0]']    \n",
            " onal)                                                                                            \n",
            "                                                                                                  \n",
            " dense_18 (Dense)            (None, 32)                   14752     ['input_3[0][0]']             \n",
            "                                                                                                  \n",
            " dense_19 (Dense)            (None, 32)                   512       ['line_number_input[0][0]']   \n",
            "                                                                                                  \n",
            " dense_20 (Dense)            (None, 32)                   672       ['total_lines_input[0][0]']   \n",
            "                                                                                                  \n",
            " token_char_hybrid_embeddin  (None, 176)                  0         ['dense_17[0][0]',            \n",
            " g (Concatenate)                                                     'bidirectional_5[0][0]']     \n",
            "                                                                                                  \n",
            " tribid_embeddings (Concate  (None, 96)                   0         ['dense_18[0][0]',            \n",
            " nate)                                                               'dense_19[0][0]',            \n",
            "                                                                     'dense_20[0][0]']            \n",
            "                                                                                                  \n",
            " final_embeddings (Concaten  (None, 272)                  0         ['token_char_hybrid_embedding[\n",
            " ate)                                                               0][0]',                       \n",
            "                                                                     'tribid_embeddings[0][0]']   \n",
            "                                                                                                  \n",
            " tf.expand_dims_5 (TFOpLamb  (None, 1, 272)               0         ['final_embeddings[0][0]']    \n",
            " da)                                                                                              \n",
            "                                                                                                  \n",
            " bidirectional_6 (Bidirecti  (None, 512)                  1083392   ['tf.expand_dims_5[0][0]']    \n",
            " onal)                                                                                            \n",
            "                                                                                                  \n",
            " dropout_10 (Dropout)        (None, 512)                  0         ['bidirectional_6[0][0]']     \n",
            "                                                                                                  \n",
            " dense_21 (Dense)            (None, 128)                  65664     ['dropout_10[0][0]']          \n",
            "                                                                                                  \n",
            " dropout_11 (Dropout)        (None, 128)                  0         ['dense_21[0][0]']            \n",
            "                                                                                                  \n",
            " output_layer (Dense)        (None, 5)                    645       ['dropout_11[0][0]']          \n",
            "                                                                                                  \n",
            "==================================================================================================\n",
            "Total params: 258238789 (985.10 MB)\n",
            "Trainable params: 258238789 (985.10 MB)\n",
            "Non-trainable params: 0 (0.00 Byte)\n",
            "__________________________________________________________________________________________________\n"
          ]
        }
      ],
      "source": [
        "token_inputs = layers.Input(shape=[], dtype=tf.string, name='token_input')\n",
        "token_embed = embed(token_inputs)\n",
        "token_embedings = tf.expand_dims(token_embed, axis=1)\n",
        "x = layers.Conv1D(64, kernel_size=5, padding=\"same\", activation=\"relu\")(token_embedings)\n",
        "x = layers.GlobalMaxPooling1D()(x)\n",
        "token_outputs = layers.Dense(128, activation='relu')(x)\n",
        "token_model = tf.keras.Model(token_inputs, token_outputs)\n",
        "\n",
        "char_inputs = layers.Input(shape=[], dtype=tf.string, name='char_input')\n",
        "char_embedding = embed(char_inputs)\n",
        "char_embedding = tf.expand_dims(char_embedding, axis=1)\n",
        "char_bi_lstm = layers.Bidirectional(layers.LSTM(24))(char_embedding)\n",
        "char_model = tf.keras.Model(char_inputs, char_bi_lstm)\n",
        "\n",
        "line_number_total_input = layers.Input(shape = (460,), dtype = tf.int32)\n",
        "dense = layers.Dense(32 , activation = 'relu')(line_number_total_input)\n",
        "total_line_number_model = tf.keras.Model(line_number_total_input , dense)\n",
        "\n",
        "# Setup line number inputs/model\n",
        "\n",
        "line_number_layer = layers.Input(shape=(15,), dtype=tf.float32, name='line_number_input')\n",
        "x=layers.Dense(32, activation='relu')(line_number_layer)\n",
        "line_number_model = tf.keras.Model(line_number_layer, x)\n",
        "\n",
        "# Setup total lines inputs/model\n",
        "\n",
        "total_lines_layer = layers.Input(shape=(20,), dtype=tf.float32, name='total_lines_input')\n",
        "x=layers.Dense(32, activation='relu')(total_lines_layer)\n",
        "total_lines_model = tf.keras.Model(total_lines_layer, x)\n",
        "\n",
        "\n",
        "# Concatenating the tokens amd chars output (Hybrid!!!)\n",
        "combined_embeddings = layers.Concatenate(name = 'token_char_hybrid_embedding')([token_model.output ,\n",
        "                                                                                char_model.output])\n",
        "\n",
        "# Combining the line_number_total to our hybrid model (Time for Tribid!!)\n",
        "z = layers.Concatenate(name = 'tribid_embeddings')([total_line_number_model.output ,\n",
        "                                                    line_number_model.output,\n",
        "                                                    total_lines_model.output])\n",
        "\n",
        "final_embeddings = layers.Concatenate(name = 'final_embeddings')([combined_embeddings , z])\n",
        "\n",
        "# Adding a dense + dropout and creating our output layer\n",
        "final_embeddings = tf.expand_dims(final_embeddings, axis=1)\n",
        "layer = layers.Bidirectional(layers.LSTM(256))(final_embeddings)\n",
        "combined_dropout = layers.Dropout(0.5)(layer)\n",
        "combined_dense = layers.Dense(128, activation='relu')(combined_dropout)\n",
        "final_dropout = layers.Dropout(0.5)(combined_dense)\n",
        "output_layer = layers.Dense(num_classes, activation='softmax', name='output_layer')(final_dropout)\n",
        "# Packing into a model\n",
        "model_6 = tf.keras.Model(inputs = [token_model.input ,\n",
        "                                        char_model.input ,\n",
        "                                        total_line_number_model.input,\n",
        "                                        line_number_model.input,\n",
        "                                        total_lines_model.input] ,\n",
        "                              outputs = output_layer)\n",
        "\n",
        "model_6.summary()"
      ]
    },
    {
      "cell_type": "code",
      "execution_count": null,
      "metadata": {
        "id": "6JiLYW_8MG94"
      },
      "outputs": [],
      "source": [
        "model_6.compile(loss=tf.keras.losses.CategoricalCrossentropy(label_smoothing=0.2),\n",
        "                optimizer=tf.keras.optimizers.Adam(),\n",
        "                metrics=['accuracy'])"
      ]
    },
    {
      "cell_type": "code",
      "execution_count": null,
      "metadata": {
        "colab": {
          "base_uri": "https://localhost:8080/",
          "height": 1000
        },
        "id": "sLirI79vMOGX",
        "outputId": "4e9cf349-f99d-4f54-9bf2-099b8bdfcf26"
      },
      "outputs": [
        {
          "data": {
            "image/png": "[encoded data removed]",
            "text/plain": [
              "<IPython.core.display.Image object>"
            ]
          },
          "execution_count": 116,
          "metadata": {},
          "output_type": "execute_result"
        }
      ],
      "source": [
        "plot_model(model_6)"
      ]
    },
    {
      "cell_type": "code",
      "execution_count": null,
      "metadata": {
        "colab": {
          "base_uri": "https://localhost:8080/"
        },
        "id": "5ya-HlgJMW2b",
        "outputId": "1d4b13f9-7776-4786-852e-54ac30461017"
      },
      "outputs": [
        {
          "name": "stdout",
          "output_type": "stream",
          "text": [
            "Epoch 1/10\n",
            "281/281 [==============================] - 191s 554ms/step - loss: 1.0662 - accuracy: 0.7279 - val_loss: 0.9010 - val_accuracy: 0.8331\n",
            "Epoch 2/10\n",
            "281/281 [==============================] - 49s 175ms/step - loss: 0.9143 - accuracy: 0.8426 - val_loss: 0.8890 - val_accuracy: 0.8514\n",
            "Epoch 3/10\n",
            "281/281 [==============================] - 46s 164ms/step - loss: 0.8913 - accuracy: 0.8585 - val_loss: 0.8606 - val_accuracy: 0.8767\n",
            "Epoch 4/10\n",
            "281/281 [==============================] - 41s 147ms/step - loss: 0.8797 - accuracy: 0.8727 - val_loss: 0.8487 - val_accuracy: 0.8773\n",
            "Epoch 5/10\n",
            "281/281 [==============================] - 40s 144ms/step - loss: 0.8743 - accuracy: 0.8761 - val_loss: 0.8465 - val_accuracy: 0.8777\n",
            "Epoch 6/10\n",
            "281/281 [==============================] - 41s 145ms/step - loss: 0.8772 - accuracy: 0.8738 - val_loss: 0.8379 - val_accuracy: 0.8850\n",
            "Epoch 7/10\n",
            "281/281 [==============================] - 41s 146ms/step - loss: 0.8648 - accuracy: 0.8823 - val_loss: 0.8453 - val_accuracy: 0.8856\n",
            "Epoch 8/10\n",
            "281/281 [==============================] - 40s 141ms/step - loss: 0.8554 - accuracy: 0.8887 - val_loss: 0.8348 - val_accuracy: 0.8890\n",
            "Epoch 9/10\n",
            "281/281 [==============================] - 39s 137ms/step - loss: 0.8595 - accuracy: 0.8871 - val_loss: 0.8320 - val_accuracy: 0.8900\n",
            "Epoch 10/10\n",
            "281/281 [==============================] - 38s 134ms/step - loss: 0.8578 - accuracy: 0.8857 - val_loss: 0.8351 - val_accuracy: 0.8866\n"
          ]
        }
      ],
      "source": [
        "history_model_6 = model_6.fit(train_dataset,\n",
        "                              steps_per_epoch=int(0.1 * len(train_dataset)),\n",
        "                              epochs=10,\n",
        "                              validation_data=val_dataset,\n",
        "                              validation_steps=int(0.1 * len(val_dataset)),\n",
        "                              callbacks=[callback])"
      ]
    },
    {
      "cell_type": "code",
      "execution_count": null,
      "metadata": {
        "colab": {
          "base_uri": "https://localhost:8080/"
        },
        "id": "elve5MMaMcq7",
        "outputId": "ff7b08b2-99da-46b4-91b1-8ce77c78d333"
      },
      "outputs": [
        {
          "name": "stdout",
          "output_type": "stream",
          "text": [
            "471/471 [==============================] - 21s 40ms/step\n"
          ]
        },
        {
          "data": {
            "text/plain": [
              "<tf.Tensor: shape=(30135,), dtype=int64, numpy=array([0, 2, 2, ..., 4, 4, 1])>"
            ]
          },
          "execution_count": 118,
          "metadata": {},
          "output_type": "execute_result"
        }
      ],
      "source": [
        "model_6_pred_probs = tf.argmax(model_6.predict(test_dataset, verbose=1), axis=1)\n",
        "model_6_pred_probs"
      ]
    },
    {
      "cell_type": "code",
      "execution_count": null,
      "metadata": {
        "colab": {
          "base_uri": "https://localhost:8080/"
        },
        "id": "a8AkMUSNMgFu",
        "outputId": "34e508e8-9f27-4ca7-815b-1243d35625f5"
      },
      "outputs": [
        {
          "data": {
            "text/plain": [
              "{'accuracy': 88.4685581549693,\n",
              " 'precision': 0.8847674863062345,\n",
              " 'recall': 0.884685581549693,\n",
              " 'f1': 0.8830134782674915}"
            ]
          },
          "execution_count": 119,
          "metadata": {},
          "output_type": "execute_result"
        }
      ],
      "source": [
        "model_6_results = calculate_results(y_true=test_label_encoded,\n",
        "                                    y_pred=model_6_pred_probs)\n",
        "model_6_results"
      ]
    },
    {
      "cell_type": "markdown",
      "metadata": {
        "id": "t7irEmy4QrdG"
      },
      "source": [
        "# Performance of all Models"
      ]
    },
    {
      "cell_type": "code",
      "execution_count": null,
      "metadata": {
        "colab": {
          "base_uri": "https://localhost:8080/",
          "height": 269
        },
        "id": "aL0PlEgYQrdG",
        "outputId": "064bffda-7d15-414b-a755-7486a21a4312"
      },
      "outputs": [
        {
          "data": {
            "application/vnd.google.colaboratory.intrinsic+json": {
              "summary": "{\n  \"name\": \"all_model_results\",\n  \"rows\": 7,\n  \"fields\": [\n    {\n      \"column\": \"accuracy\",\n      \"properties\": {\n        \"dtype\": \"number\",\n        \"std\": 6.578701400194239,\n        \"min\": 70.47199788163644,\n        \"max\": 88.4685581549693,\n        \"num_unique_values\": 7,\n        \"samples\": [\n          72.1832384482987,\n          82.76843638289422,\n          82.57839721254355\n        ],\n        \"semantic_type\": \"\",\n        \"description\": \"\"\n      }\n    },\n    {\n      \"column\": \"precision\",\n      \"properties\": {\n        \"dtype\": \"number\",\n        \"std\": 0.06790018829237437,\n        \"min\": 0.6977254867158423,\n        \"max\": 0.8847674863062345,\n        \"num_unique_values\": 7,\n        \"samples\": [\n          0.7186466952323352,\n          0.8243403728911385,\n          0.8241494518635197\n        ],\n        \"semantic_type\": \"\",\n        \"description\": \"\"\n      }\n    },\n    {\n      \"column\": \"recall\",\n      \"properties\": {\n        \"dtype\": \"number\",\n        \"std\": 0.0657870140019424,\n        \"min\": 0.7047199788163644,\n        \"max\": 0.884685581549693,\n        \"num_unique_values\": 7,\n        \"samples\": [\n          0.7218323844829869,\n          0.8276843638289422,\n          0.8257839721254355\n        ],\n        \"semantic_type\": \"\",\n        \"description\": \"\"\n      }\n    },\n    {\n      \"column\": \"f1\",\n      \"properties\": {\n        \"dtype\": \"number\",\n        \"std\": 0.07108896541982332,\n        \"min\": 0.6984154485554218,\n        \"max\": 0.8830134782674915,\n        \"num_unique_values\": 7,\n        \"samples\": [\n          0.6989250353450294,\n          0.82480239587185,\n          0.8166334116862802\n        ],\n        \"semantic_type\": \"\",\n        \"description\": \"\"\n      }\n    }\n  ]\n}",
              "type": "dataframe",
              "variable_name": "all_model_results"
            },
            "text/html": [
              "\n",
              "  <div id=\"df-d702a125-4dda-43d3-adbf-6a5534bf6cb3\" class=\"colab-df-container\">\n",
              "    <div>\n",
              "<style scoped>\n",
              "    .dataframe tbody tr th:only-of-type {\n",
              "        vertical-align: middle;\n",
              "    }\n",
              "\n",
              "    .dataframe tbody tr th {\n",
              "        vertical-align: top;\n",
              "    }\n",
              "\n",
              "    .dataframe thead th {\n",
              "        text-align: right;\n",
              "    }\n",
              "</style>\n",
              "<table border=\"1\" class=\"dataframe\">\n",
              "  <thead>\n",
              "    <tr style=\"text-align: right;\">\n",
              "      <th></th>\n",
              "      <th>accuracy</th>\n",
              "      <th>precision</th>\n",
              "      <th>recall</th>\n",
              "      <th>f1</th>\n",
              "    </tr>\n",
              "  </thead>\n",
              "  <tbody>\n",
              "    <tr>\n",
              "      <th>baseline</th>\n",
              "      <td>72.183238</td>\n",
              "      <td>0.718647</td>\n",
              "      <td>0.721832</td>\n",
              "      <td>0.698925</td>\n",
              "    </tr>\n",
              "    <tr>\n",
              "      <th>model_1</th>\n",
              "      <td>82.768436</td>\n",
              "      <td>0.824340</td>\n",
              "      <td>0.827684</td>\n",
              "      <td>0.824802</td>\n",
              "    </tr>\n",
              "    <tr>\n",
              "      <th>model_2</th>\n",
              "      <td>70.471998</td>\n",
              "      <td>0.697725</td>\n",
              "      <td>0.704720</td>\n",
              "      <td>0.698415</td>\n",
              "    </tr>\n",
              "    <tr>\n",
              "      <th>model_3</th>\n",
              "      <td>81.635971</td>\n",
              "      <td>0.813673</td>\n",
              "      <td>0.816360</td>\n",
              "      <td>0.813443</td>\n",
              "    </tr>\n",
              "    <tr>\n",
              "      <th>model_4</th>\n",
              "      <td>84.476522</td>\n",
              "      <td>0.845238</td>\n",
              "      <td>0.844765</td>\n",
              "      <td>0.843445</td>\n",
              "    </tr>\n",
              "    <tr>\n",
              "      <th>model_5</th>\n",
              "      <td>82.578397</td>\n",
              "      <td>0.824149</td>\n",
              "      <td>0.825784</td>\n",
              "      <td>0.816633</td>\n",
              "    </tr>\n",
              "    <tr>\n",
              "      <th>model_6</th>\n",
              "      <td>88.468558</td>\n",
              "      <td>0.884767</td>\n",
              "      <td>0.884686</td>\n",
              "      <td>0.883013</td>\n",
              "    </tr>\n",
              "  </tbody>\n",
              "</table>\n",
              "</div>\n",
              "    <div class=\"colab-df-buttons\">\n",
              "\n",
              "  <div class=\"colab-df-container\">\n",
              "    <button class=\"colab-df-convert\" onclick=\"convertToInteractive('df-d702a125-4dda-43d3-adbf-6a5534bf6cb3')\"\n",
              "            title=\"Convert this dataframe to an interactive table.\"\n",
              "            style=\"display:none;\">\n",
              "\n",
              "  <svg xmlns=\"http://www.w3.org/2000/svg\" height=\"24px\" viewBox=\"0 -960 960 960\">\n",
              "    <path d=\"M120-120v-720h720v720H120Zm60-500h600v-160H180v160Zm220 220h160v-160H400v160Zm0 220h160v-160H400v160ZM180-400h160v-160H180v160Zm440 0h160v-160H620v160ZM180-180h160v-160H180v160Zm440 0h160v-160H620v160Z\"/>\n",
              "  </svg>\n",
              "    </button>\n",
              "\n",
              "  <style>\n",
              "    .colab-df-container {\n",
              "      display:flex;\n",
              "      gap: 12px;\n",
              "    }\n",
              "\n",
              "    .colab-df-convert {\n",
              "      background-color: #E8F0FE;\n",
              "      border: none;\n",
              "      border-radius: 50%;\n",
              "      cursor: pointer;\n",
              "      display: none;\n",
              "      fill: #1967D2;\n",
              "      height: 32px;\n",
              "      padding: 0 0 0 0;\n",
              "      width: 32px;\n",
              "    }\n",
              "\n",
              "    .colab-df-convert:hover {\n",
              "      background-color: #E2EBFA;\n",
              "      box-shadow: 0px 1px 2px rgba(60, 64, 67, 0.3), 0px 1px 3px 1px rgba(60, 64, 67, 0.15);\n",
              "      fill: #174EA6;\n",
              "    }\n",
              "\n",
              "    .colab-df-buttons div {\n",
              "      margin-bottom: 4px;\n",
              "    }\n",
              "\n",
              "    [theme=dark] .colab-df-convert {\n",
              "      background-color: #3B4455;\n",
              "      fill: #D2E3FC;\n",
              "    }\n",
              "\n",
              "    [theme=dark] .colab-df-convert:hover {\n",
              "      background-color: #434B5C;\n",
              "      box-shadow: 0px 1px 3px 1px rgba(0, 0, 0, 0.15);\n",
              "      filter: drop-shadow(0px 1px 2px rgba(0, 0, 0, 0.3));\n",
              "      fill: #FFFFFF;\n",
              "    }\n",
              "  </style>\n",
              "\n",
              "    <script>\n",
              "      const buttonEl =\n",
              "        document.querySelector('#df-d702a125-4dda-43d3-adbf-6a5534bf6cb3 button.colab-df-convert');\n",
              "      buttonEl.style.display =\n",
              "        google.colab.kernel.accessAllowed ? 'block' : 'none';\n",
              "\n",
              "      async function convertToInteractive(key) {\n",
              "        const element = document.querySelector('#df-d702a125-4dda-43d3-adbf-6a5534bf6cb3');\n",
              "        const dataTable =\n",
              "          await google.colab.kernel.invokeFunction('convertToInteractive',\n",
              "                                                    [key], {});\n",
              "        if (!dataTable) return;\n",
              "\n",
              "        const docLinkHtml = 'Like what you see? Visit the ' +\n",
              "          '<a target=\"_blank\" href=https://colab.research.google.com/notebooks/data_table.ipynb>data table notebook</a>'\n",
              "          + ' to learn more about interactive tables.';\n",
              "        element.innerHTML = '';\n",
              "        dataTable['output_type'] = 'display_data';\n",
              "        await google.colab.output.renderOutput(dataTable, element);\n",
              "        const docLink = document.createElement('div');\n",
              "        docLink.innerHTML = docLinkHtml;\n",
              "        element.appendChild(docLink);\n",
              "      }\n",
              "    </script>\n",
              "  </div>\n",
              "\n",
              "\n",
              "<div id=\"df-805cc470-0719-4cec-954e-6acb8d18ef23\">\n",
              "  <button class=\"colab-df-quickchart\" onclick=\"quickchart('df-805cc470-0719-4cec-954e-6acb8d18ef23')\"\n",
              "            title=\"Suggest charts\"\n",
              "            style=\"display:none;\">\n",
              "\n",
              "<svg xmlns=\"http://www.w3.org/2000/svg\" height=\"24px\"viewBox=\"0 0 24 24\"\n",
              "     width=\"24px\">\n",
              "    <g>\n",
              "        <path d=\"M19 3H5c-1.1 0-2 .9-2 2v14c0 1.1.9 2 2 2h14c1.1 0 2-.9 2-2V5c0-1.1-.9-2-2-2zM9 17H7v-7h2v7zm4 0h-2V7h2v10zm4 0h-2v-4h2v4z\"/>\n",
              "    </g>\n",
              "</svg>\n",
              "  </button>\n",
              "\n",
              "<style>\n",
              "  .colab-df-quickchart {\n",
              "      --bg-color: #E8F0FE;\n",
              "      --fill-color: #1967D2;\n",
              "      --hover-bg-color: #E2EBFA;\n",
              "      --hover-fill-color: #174EA6;\n",
              "      --disabled-fill-color: #AAA;\n",
              "      --disabled-bg-color: #DDD;\n",
              "  }\n",
              "\n",
              "  [theme=dark] .colab-df-quickchart {\n",
              "      --bg-color: #3B4455;\n",
              "      --fill-color: #D2E3FC;\n",
              "      --hover-bg-color: #434B5C;\n",
              "      --hover-fill-color: #FFFFFF;\n",
              "      --disabled-bg-color: #3B4455;\n",
              "      --disabled-fill-color: #666;\n",
              "  }\n",
              "\n",
              "  .colab-df-quickchart {\n",
              "    background-color: var(--bg-color);\n",
              "    border: none;\n",
              "    border-radius: 50%;\n",
              "    cursor: pointer;\n",
              "    display: none;\n",
              "    fill: var(--fill-color);\n",
              "    height: 32px;\n",
              "    padding: 0;\n",
              "    width: 32px;\n",
              "  }\n",
              "\n",
              "  .colab-df-quickchart:hover {\n",
              "    background-color: var(--hover-bg-color);\n",
              "    box-shadow: 0 1px 2px rgba(60, 64, 67, 0.3), 0 1px 3px 1px rgba(60, 64, 67, 0.15);\n",
              "    fill: var(--button-hover-fill-color);\n",
              "  }\n",
              "\n",
              "  .colab-df-quickchart-complete:disabled,\n",
              "  .colab-df-quickchart-complete:disabled:hover {\n",
              "    background-color: var(--disabled-bg-color);\n",
              "    fill: var(--disabled-fill-color);\n",
              "    box-shadow: none;\n",
              "  }\n",
              "\n",
              "  .colab-df-spinner {\n",
              "    border: 2px solid var(--fill-color);\n",
              "    border-color: transparent;\n",
              "    border-bottom-color: var(--fill-color);\n",
              "    animation:\n",
              "      spin 1s steps(1) infinite;\n",
              "  }\n",
              "\n",
              "  @keyframes spin {\n",
              "    0% {\n",
              "      border-color: transparent;\n",
              "      border-bottom-color: var(--fill-color);\n",
              "      border-left-color: var(--fill-color);\n",
              "    }\n",
              "    20% {\n",
              "      border-color: transparent;\n",
              "      border-left-color: var(--fill-color);\n",
              "      border-top-color: var(--fill-color);\n",
              "    }\n",
              "    30% {\n",
              "      border-color: transparent;\n",
              "      border-left-color: var(--fill-color);\n",
              "      border-top-color: var(--fill-color);\n",
              "      border-right-color: var(--fill-color);\n",
              "    }\n",
              "    40% {\n",
              "      border-color: transparent;\n",
              "      border-right-color: var(--fill-color);\n",
              "      border-top-color: var(--fill-color);\n",
              "    }\n",
              "    60% {\n",
              "      border-color: transparent;\n",
              "      border-right-color: var(--fill-color);\n",
              "    }\n",
              "    80% {\n",
              "      border-color: transparent;\n",
              "      border-right-color: var(--fill-color);\n",
              "      border-bottom-color: var(--fill-color);\n",
              "    }\n",
              "    90% {\n",
              "      border-color: transparent;\n",
              "      border-bottom-color: var(--fill-color);\n",
              "    }\n",
              "  }\n",
              "</style>\n",
              "\n",
              "  <script>\n",
              "    async function quickchart(key) {\n",
              "      const quickchartButtonEl =\n",
              "        document.querySelector('#' + key + ' button');\n",
              "      quickchartButtonEl.disabled = true;  // To prevent multiple clicks.\n",
              "      quickchartButtonEl.classList.add('colab-df-spinner');\n",
              "      try {\n",
              "        const charts = await google.colab.kernel.invokeFunction(\n",
              "            'suggestCharts', [key], {});\n",
              "      } catch (error) {\n",
              "        console.error('Error during call to suggestCharts:', error);\n",
              "      }\n",
              "      quickchartButtonEl.classList.remove('colab-df-spinner');\n",
              "      quickchartButtonEl.classList.add('colab-df-quickchart-complete');\n",
              "    }\n",
              "    (() => {\n",
              "      let quickchartButtonEl =\n",
              "        document.querySelector('#df-805cc470-0719-4cec-954e-6acb8d18ef23 button');\n",
              "      quickchartButtonEl.style.display =\n",
              "        google.colab.kernel.accessAllowed ? 'block' : 'none';\n",
              "    })();\n",
              "  </script>\n",
              "</div>\n",
              "\n",
              "  <div id=\"id_8f731410-4b8a-48f9-9c87-3706e7ac2c72\">\n",
              "    <style>\n",
              "      .colab-df-generate {\n",
              "        background-color: #E8F0FE;\n",
              "        border: none;\n",
              "        border-radius: 50%;\n",
              "        cursor: pointer;\n",
              "        display: none;\n",
              "        fill: #1967D2;\n",
              "        height: 32px;\n",
              "        padding: 0 0 0 0;\n",
              "        width: 32px;\n",
              "      }\n",
              "\n",
              "      .colab-df-generate:hover {\n",
              "        background-color: #E2EBFA;\n",
              "        box-shadow: 0px 1px 2px rgba(60, 64, 67, 0.3), 0px 1px 3px 1px rgba(60, 64, 67, 0.15);\n",
              "        fill: #174EA6;\n",
              "      }\n",
              "\n",
              "      [theme=dark] .colab-df-generate {\n",
              "        background-color: #3B4455;\n",
              "        fill: #D2E3FC;\n",
              "      }\n",
              "\n",
              "      [theme=dark] .colab-df-generate:hover {\n",
              "        background-color: #434B5C;\n",
              "        box-shadow: 0px 1px 3px 1px rgba(0, 0, 0, 0.15);\n",
              "        filter: drop-shadow(0px 1px 2px rgba(0, 0, 0, 0.3));\n",
              "        fill: #FFFFFF;\n",
              "      }\n",
              "    </style>\n",
              "    <button class=\"colab-df-generate\" onclick=\"generateWithVariable('all_model_results')\"\n",
              "            title=\"Generate code using this dataframe.\"\n",
              "            style=\"display:none;\">\n",
              "\n",
              "  <svg xmlns=\"http://www.w3.org/2000/svg\" height=\"24px\"viewBox=\"0 0 24 24\"\n",
              "       width=\"24px\">\n",
              "    <path d=\"M7,19H8.4L18.45,9,17,7.55,7,17.6ZM5,21V16.75L18.45,3.32a2,2,0,0,1,2.83,0l1.4,1.43a1.91,1.91,0,0,1,.58,1.4,1.91,1.91,0,0,1-.58,1.4L9.25,21ZM18.45,9,17,7.55Zm-12,3A5.31,5.31,0,0,0,4.9,8.1,5.31,5.31,0,0,0,1,6.5,5.31,5.31,0,0,0,4.9,4.9,5.31,5.31,0,0,0,6.5,1,5.31,5.31,0,0,0,8.1,4.9,5.31,5.31,0,0,0,12,6.5,5.46,5.46,0,0,0,6.5,12Z\"/>\n",
              "  </svg>\n",
              "    </button>\n",
              "    <script>\n",
              "      (() => {\n",
              "      const buttonEl =\n",
              "        document.querySelector('#id_8f731410-4b8a-48f9-9c87-3706e7ac2c72 button.colab-df-generate');\n",
              "      buttonEl.style.display =\n",
              "        google.colab.kernel.accessAllowed ? 'block' : 'none';\n",
              "\n",
              "      buttonEl.onclick = () => {\n",
              "        google.colab.notebook.generateWithVariable('all_model_results');\n",
              "      }\n",
              "      })();\n",
              "    </script>\n",
              "  </div>\n",
              "\n",
              "    </div>\n",
              "  </div>\n"
            ],
            "text/plain": [
              "           accuracy  precision    recall        f1\n",
              "baseline  72.183238   0.718647  0.721832  0.698925\n",
              "model_1   82.768436   0.824340  0.827684  0.824802\n",
              "model_2   70.471998   0.697725  0.704720  0.698415\n",
              "model_3   81.635971   0.813673  0.816360  0.813443\n",
              "model_4   84.476522   0.845238  0.844765  0.843445\n",
              "model_5   82.578397   0.824149  0.825784  0.816633\n",
              "model_6   88.468558   0.884767  0.884686  0.883013"
            ]
          },
          "execution_count": 120,
          "metadata": {},
          "output_type": "execute_result"
        }
      ],
      "source": [
        "all_model_results = pd.DataFrame({\"baseline\": baseline_results,\n",
        "                                  \"model_1\": model_1_results,\n",
        "                                  \"model_2\": model_2_result,\n",
        "                                  \"model_3\": model_3_results,\n",
        "                                  \"model_4\": model_4_results,\n",
        "                                  'model_5': model_5_results,\n",
        "                                  'model_6': model_6_results})\n",
        "all_model_results = all_model_results.transpose()\n",
        "all_model_results"
      ]
    },
    {
      "cell_type": "code",
      "execution_count": null,
      "metadata": {
        "colab": {
          "base_uri": "https://localhost:8080/",
          "height": 644
        },
        "id": "k4mjaruFQrdG",
        "outputId": "7f03d431-5c3c-41d1-dcc3-b6140f883430"
      },
      "outputs": [
        {
          "data": {
            "image/png": "[encoded data removed]",
            "text/plain": [
              "<Figure size 1000x700 with 1 Axes>"
            ]
          },
          "metadata": {},
          "output_type": "display_data"
        }
      ],
      "source": [
        "all_model_results[\"accuracy\"] = all_model_results[\"accuracy\"]/100\n",
        "all_model_results.plot(kind=\"bar\", figsize=(10, 7)).legend(bbox_to_anchor=(1.0, 1.0));"
      ]
    },
    {
      "cell_type": "code",
      "execution_count": null,
      "metadata": {
        "colab": {
          "base_uri": "https://localhost:8080/",
          "height": 662
        },
        "id": "tfooMvxqQrdG",
        "outputId": "059d3921-83c4-4adc-e834-df61a8bd6157"
      },
      "outputs": [
        {
          "data": {
            "text/plain": [
              "<Axes: >"
            ]
          },
          "execution_count": 122,
          "metadata": {},
          "output_type": "execute_result"
        },
        {
          "data": {
            "image/png": "[encoded data removed]",
            "text/plain": [
              "<Figure size 1000x700 with 1 Axes>"
            ]
          },
          "metadata": {},
          "output_type": "display_data"
        }
      ],
      "source": [
        "all_model_results.sort_values(\"f1\", ascending=False)[\"f1\"].plot(kind=\"bar\", figsize=(10, 7))"
      ]
    },
    {
      "cell_type": "markdown",
      "metadata": {
        "id": "oQFbYp4bwizY"
      },
      "source": [
        "# Testing Model 6 - Our best performing model, on completely unseen data."
      ]
    },
    {
      "cell_type": "code",
      "execution_count": null,
      "metadata": {
        "id": "Du4-lYdtwizY"
      },
      "outputs": [],
      "source": [
        "# !pip install spacy\n",
        "# !python -m spacy download en_core_web_sm\n",
        "\n",
        "import spacy\n",
        "from spacy.lang.en import English"
      ]
    },
    {
      "cell_type": "code",
      "execution_count": null,
      "metadata": {
        "id": "dnMGp2TTwizY"
      },
      "outputs": [],
      "source": [
        "def split_chars(text):\n",
        "  return \" \".join(list(text))"
      ]
    },
    {
      "cell_type": "code",
      "execution_count": null,
      "metadata": {
        "id": "f5q2uRwdwizY"
      },
      "outputs": [],
      "source": [
        "def visualize_pred_sequence_labels(abstract , model , label_encoder, line_encoder):\n",
        "\n",
        "  '''\n",
        "\n",
        "    Takes in a list of dictionaries of abstracts,\n",
        "\n",
        "    [{'abstract': 'This RCT examined .......' ,\n",
        "      'details': 'RCT of a manuali......',\n",
        "      'source': 'https://pubmed.ncbi.nlm........./'},..........]\n",
        "\n",
        "    Arguments:\n",
        "    ----------\n",
        "      - abstract_dict : Abstract dictionary of the above format\n",
        "      - model : the trained model on the same data format (line_numbers,  total_lines , sentences , characters)\n",
        "      - label_encoder : the label encoder used to encode the classes\n",
        "\n",
        "    Returns:\n",
        "    --------\n",
        "      Prints out the predicted label and the corresponding sequence/ text\n",
        "  '''\n",
        "\n",
        "  # Setup english sentence parser\n",
        "  nlp = English()\n",
        "\n",
        "  # Create sentence splitting pipeline object\n",
        "  nlp.add_pipe('sentencizer')\n",
        "\n",
        "  # Create doc of parsed sequences\n",
        "  doc = nlp(abstract)\n",
        "\n",
        "  # Return detected sentences from doc in string typpe\n",
        "  abstract_lines = [str(sent) for sent in list(doc.sents)]\n",
        "\n",
        "  # Get total number of lines\n",
        "  total_lines_in_sample = len(abstract_lines)\n",
        "\n",
        "  # Loop through each line in the abstract and create a list of dictionaries containing features\n",
        "  sample_lines = []\n",
        "  for i , line in enumerate(abstract_lines):\n",
        "    sample_dict = {}\n",
        "    sample_dict['text'] = str(line)\n",
        "    sample_dict['line_number'] = i\n",
        "    sample_dict['total_lines'] = total_lines_in_sample - 1\n",
        "    sample_lines.append(sample_dict)\n",
        "\n",
        "  df = pd.DataFrame(sample_lines)\n",
        "  df['line_number_total'] = df['line_number'].astype(str) + '_of_' + df['total_lines'].astype(str)\n",
        "  encoded_line_number = line_encoder.transform(np.expand_dims(df['line_number_total'], axis=1))\n",
        "  encoded_line_number = encoded_line_number.toarray()\n",
        "  encoded_line_number = tf.cast(encoded_line_number, dtype=tf.int32)\n",
        "\n",
        "  # Get all line number and total lines numbers then one hot encode them\n",
        "  abstract_line_numbers = [line['line_number'] for line in sample_lines]\n",
        "  abstract_total_lines = [line['total_lines'] for line in sample_lines]\n",
        "\n",
        "  abstract_line_numbers_one_hot = tf.one_hot(abstract_line_numbers , depth = 15)\n",
        "  abstract_total_lines_one_hot = tf.one_hot(abstract_total_lines , depth = 20)\n",
        "\n",
        "\n",
        "  # Split the lines into characters\n",
        "  abstract_chars = [split_chars(sentence) for sentence in abstract_lines]\n",
        "\n",
        "  # Making prediction on sample features\n",
        "  abstract_pred_probs = model.predict(x = (abstract_line_numbers_one_hot,\n",
        "                                           abstract_total_lines_one_hot,\n",
        "                                           tf.constant(abstract_lines) ,\n",
        "                                           tf.constant(abstract_chars),\n",
        "                                           ))\n",
        "\n",
        "  # Turn prediction probs to pred class\n",
        "  abstract_preds = tf.argmax(abstract_pred_probs , axis = 1)\n",
        "\n",
        "  # Prediction class integers into string class name\n",
        "  abstract_pred_classes = [label_encoder.classes_[i] for i in abstract_preds]\n",
        "\n",
        "  # Prints out the abstract lines and the predicted sequence labels\n",
        "  for i , line in enumerate(abstract_lines):\n",
        "    print(f'{abstract_pred_classes[i]}:  {line}\\n')"
      ]
    },
    {
      "cell_type": "code",
      "execution_count": null,
      "metadata": {
        "id": "8NpW8cY7wizY"
      },
      "outputs": [],
      "source": [
        "# https://pubmed.ncbi.nlm.nih.gov/39181133/\n",
        "abstract = 'Chromothripsis describes the catastrophic shattering of mis-segregated chromosomes trapped within micronuclei. Although micronuclei accumulate DNA double-strand breaks and replication defects throughout interphase, how chromosomes undergo shattering remains unresolved. Using CRISPR-Cas@ screens, we identify a non-canonical role of the Fanconi anemia (FA) pathway as a driver of chromothripsis. Inactivation of the FA pathway suppresses chromosome shattering during mitosis without impacting interphase-associated defects within micronuclei. Mono-ubiquitination of FANCI-FANCD@ by the FA core complex promotes its mitotic engagement with under-replicated micronuclear chromosomes. The structure-selective SLX@-XPF-ERCC@ endonuclease subsequently induces large-scale nucleolytic cleavage of persistent DNA replication intermediates, which stimulates POLD@-dependent mitotic DNA synthesis to prime shattered fragments for reassembly in the ensuing cell cycle. Notably, FA-pathway-induced chromothripsis generates complex genomic rearrangements and extrachromosomal DNA that confer acquired resistance to anti-cancer therapies. Our findings demonstrate how pathological activation of a central DNA repair mechanism paradoxically triggers cancer genome evolution through chromothripsis. '"
      ]
    },
    {
      "cell_type": "code",
      "execution_count": null,
      "metadata": {
        "colab": {
          "base_uri": "https://localhost:8080/"
        },
        "id": "wZ7iizSVKolP",
        "outputId": "db6dec40-adb6-4dd2-95f7-775bdcb26fe5"
      },
      "outputs": [
        {
          "name": "stdout",
          "output_type": "stream",
          "text": [
            "1/1 [==============================] - 0s 77ms/step\n",
            "BACKGROUND:  Chromothripsis describes the catastrophic shattering of mis-segregated chromosomes trapped within micronuclei.\n",
            "\n",
            "BACKGROUND:  Although micronuclei accumulate DNA double-strand breaks and replication defects throughout interphase, how chromosomes undergo shattering remains unresolved.\n",
            "\n",
            "BACKGROUND:  Using CRISPR-Cas@ screens, we identify a non-canonical role of the Fanconi anemia (FA) pathway as a driver of chromothripsis.\n",
            "\n",
            "BACKGROUND:  Inactivation of the FA pathway suppresses chromosome shattering during mitosis without impacting interphase-associated defects within micronuclei.\n",
            "\n",
            "CONCLUSIONS:  Mono-ubiquitination of FANCI-FANCD@ by the FA core complex promotes its mitotic engagement with under-replicated micronuclear chromosomes.\n",
            "\n",
            "CONCLUSIONS:  The structure-selective SLX@-XPF-ERCC@ endonuclease subsequently induces large-scale nucleolytic cleavage of persistent DNA replication intermediates, which stimulates POLD@-dependent mitotic DNA synthesis to prime shattered fragments for reassembly in the ensuing cell cycle.\n",
            "\n",
            "CONCLUSIONS:  Notably, FA-pathway-induced chromothripsis generates complex genomic rearrangements and extrachromosomal DNA that confer acquired resistance to anti-cancer therapies.\n",
            "\n",
            "CONCLUSIONS:  Our findings demonstrate how pathological activation of a central DNA repair mechanism paradoxically triggers cancer genome evolution through chromothripsis.\n",
            "\n"
          ]
        }
      ],
      "source": [
        "visualize_pred_sequence_labels(abstract , model_4 , label_encoder, one_hot_encoder)"
      ]
    },
    {
      "cell_type": "code",
      "execution_count": null,
      "metadata": {
        "id": "SrwgvjLYwizY"
      },
      "outputs": [],
      "source": [
        "model_6.save('model_6.keras')"
      ]
    },
    {
      "cell_type": "code",
      "execution_count": null,
      "metadata": {
        "id": "iQl3DFmaCJTi"
      },
      "outputs": [],
      "source": [
        "model = tf.keras.models.load_model('/content/model_6.keras')"
      ]
    },
    {
      "cell_type": "code",
      "execution_count": null,
      "metadata": {
        "colab": {
          "base_uri": "https://localhost:8080/"
        },
        "id": "0peRhPaPC-NL",
        "outputId": "f299f8f4-2d7a-4616-985e-5720d811e829"
      },
      "outputs": [
        {
          "name": "stdout",
          "output_type": "stream",
          "text": [
            "942/942 [==============================] - 21s 16ms/step - loss: 0.8862 - accuracy: 0.8448\n"
          ]
        },
        {
          "data": {
            "text/plain": [
              "[0.8862451910972595, 0.8447652459144592]"
            ]
          },
          "execution_count": 130,
          "metadata": {},
          "output_type": "execute_result"
        }
      ],
      "source": [
        "model.evaluate(test_pos_char_token_dataset)"
      ]
    },
    {
      "cell_type": "code",
      "execution_count": null,
      "metadata": {
        "id": "TfLIV9mxD_4p"
      },
      "outputs": [],
      "source": [
        "import pickle\n",
        "with open(\"ohencoder\", \"wb\") as f:\n",
        "    pickle.dump(one_hot_encoder, f)"
      ]
    },
    {
      "cell_type": "code",
      "execution_count": null,
      "metadata": {
        "id": "749idOnTqfM-"
      },
      "outputs": [],
      "source": [
        "with open(\"labelencoder\", \"wb\") as f:\n",
        "    pickle.dump(label_encoder, f)"
      ]
    },
    {
      "cell_type": "code",
      "execution_count": null,
      "metadata": {
        "colab": {
          "base_uri": "https://localhost:8080/"
        },
        "id": "byGw1T4rqldv",
        "outputId": "bec68638-a6cc-4428-e5cc-6e6ff451156b"
      },
      "outputs": [
        {
          "name": "stdout",
          "output_type": "stream",
          "text": [
            "1/1 [==============================] - 3s 3s/step\n",
            "BACKGROUND:  Chromothripsis describes the catastrophic shattering of mis-segregated chromosomes trapped within micronuclei.\n",
            "\n",
            "BACKGROUND:  Although micronuclei accumulate DNA double-strand breaks and replication defects throughout interphase, how chromosomes undergo shattering remains unresolved.\n",
            "\n",
            "BACKGROUND:  Using CRISPR-Cas@ screens, we identify a non-canonical role of the Fanconi anemia (FA) pathway as a driver of chromothripsis.\n",
            "\n",
            "BACKGROUND:  Inactivation of the FA pathway suppresses chromosome shattering during mitosis without impacting interphase-associated defects within micronuclei.\n",
            "\n",
            "CONCLUSIONS:  Mono-ubiquitination of FANCI-FANCD@ by the FA core complex promotes its mitotic engagement with under-replicated micronuclear chromosomes.\n",
            "\n",
            "CONCLUSIONS:  The structure-selective SLX@-XPF-ERCC@ endonuclease subsequently induces large-scale nucleolytic cleavage of persistent DNA replication intermediates, which stimulates POLD@-dependent mitotic DNA synthesis to prime shattered fragments for reassembly in the ensuing cell cycle.\n",
            "\n",
            "CONCLUSIONS:  Notably, FA-pathway-induced chromothripsis generates complex genomic rearrangements and extrachromosomal DNA that confer acquired resistance to anti-cancer therapies.\n",
            "\n",
            "CONCLUSIONS:  Our findings demonstrate how pathological activation of a central DNA repair mechanism paradoxically triggers cancer genome evolution through chromothripsis.\n",
            "\n"
          ]
        }
      ],
      "source": [
        "visualize_pred_sequence_labels(abstract , model , label_encoder, one_hot_encoder)"
      ]
    }
  ],
  "metadata": {
    "accelerator": "GPU",
    "colab": {
      "gpuType": "T4",
      "provenance": []
    },
    "kernelspec": {
      "display_name": "Python 3",
      "name": "python3"
    },
    "language_info": {
      "codemirror_mode": {
        "name": "ipython",
        "version": 3
      },
      "file_extension": ".py",
      "mimetype": "text/x-python",
      "name": "python",
      "nbconvert_exporter": "python",
      "pygments_lexer": "ipython3",
      "version": "3.10.8"
    }
  },
  "nbformat": 4,
  "nbformat_minor": 0
}
